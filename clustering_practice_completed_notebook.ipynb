{
  "cells": [
    {
      "cell_type": "markdown",
      "metadata": {
        "id": "view-in-github",
        "colab_type": "text"
      },
      "source": [
        "<a href=\"https://colab.research.google.com/github/beatriz007/data-projects/blob/master/clustering_practice_completed_notebook.ipynb\" target=\"_parent\"><img src=\"https://colab.research.google.com/assets/colab-badge.svg\" alt=\"Open In Colab\"/></a>"
      ]
    },
    {
      "cell_type": "markdown",
      "metadata": {
        "id": "R9hBnk_NiP9b"
      },
      "source": [
        "# Spotify Clustering Challenge\n",
        "\n",
        "Challenge: create an algorithm that curates different playlists of similar music for the company's users.** These playlists should contain one or multiple songs that are similar in some way.\n",
        "\n",
        "## Approach\n",
        "We will ise clustering analysis (k-means) alongside some standard data manipulation techniques, Exploratory Data Analysis (EDA) and visualisation.\n",
        "\n",
        "## Data\n",
        "Original data source: [Kaggle](https://www.kaggle.com/nadintamer/top-spotify-tracks-of-2018)\n",
        "\n",
        "**Data Description**\n",
        "\n",
        "You have access to an internal dataset of the top 100 songs played on Spotify in 2018. For each of these songs, several audio features have been extracted. Specifically, the information you have for each song is:\n",
        "- **id** <br> Spotify URI of the song\n",
        "- **name** <br> Name of the song\n",
        "- **artists** <br> Artist(s) of the song\n",
        "- **danceability** <br> Danceability describes how suitable a track is for dancing based on a combination of musical elements including tempo, rhythm stability, beat strength, and overall regularity. A value of 0.0 is least danceable and 1.0 is most danceable.\n",
        "- **energy** <br> Energy is a measure from 0.0 to 1.0 and represents a perceptual measure of intensity and activity. Typically, energetic tracks feel fast, loud, and noisy. For example, death metal has high energy, while a Bach prelude scores low on the scale. Perceptual features contributing to this attribute include dynamic range, perceived loudness, timbre, onset rate, and general entropy.\n",
        "- **key** <br> The key the track is in. Integers map to pitches using standard Pitch Class notation. E.g. 0 = C, 1 = C♯/D♭, 2 = D, and so on.\n",
        "- **loudness** <br> The overall loudness of a track in decibels (dB). Loudness values are averaged across the entire track and are useful for comparing relative loudness of tracks. Loudness is the quality of a sound that is the primary psychological correlate of physical strength (amplitude). Values typical range between -60 and 0 db.\n",
        "- **mode** <br> Mode indicates the modality (major or minor) of a track, the type of scale from which its melodic content is derived. Major is represented by 1 and minor is 0.\n",
        "- **speechiness** <br> Speechiness detects the presence of spoken words in a track. The more exclusively speech-like the recording (e.g. talk show, audio book, poetry), the closer to 1.0 the attribute value. Values above 0.66 describe tracks that are probably made entirely of spoken words. Values between 0.33 and 0.66 describe tracks that may contain both music and speech, either in sections or layered, including such cases as rap music. Values below 0.33 most likely represent music and other non-speech-like tracks.\n",
        "- **acousticness** <br> A confidence measure from 0.0 to 1.0 of whether the track is acoustic. 1.0 represents high confidence the track is acoustic.\n",
        "- **instrumentalness** <br> Predicts whether a track contains no vocals. \"Ooh\" and \"aah\" sounds are treated as instrumental in this context. Rap or spoken word tracks are clearly \"vocal\". The closer the instrumentalness value is to 1.0, the greater likelihood the track contains no vocal content. Values above 0.5 are intended to represent instrumental tracks, but confidence is higher as the value approaches 1.0.\n",
        "- **liveness** <br> Detects the presence of an audience in the recording. Higher liveness values represent an increased probability that the track was performed live. A value above 0.8 provides strong likelihood that the track is live.\n",
        "- **valence** <br> A measure from 0.0 to 1.0 describing the musical positiveness conveyed by a track. Tracks with high valence sound more positive (e.g. happy, cheerful, euphoric), while tracks with low valence sound more negative (e.g. sad, depressed, angry).\n",
        "- **tempo** <br> The overall estimated tempo of a track in beats per minute (BPM). In musical terminology, tempo is the speed or pace of a given piece and derives directly from the average beat duration.\n",
        "- **duration_ms** <br> The duration of the track in milliseconds.\n",
        "- **time_signature** <br> An estimated overall time signature of a track. The time signature (meter) is a notational convention to specify how many beats are in each bar (or measure).\n",
        "\n"
      ]
    },
    {
      "cell_type": "markdown",
      "metadata": {
        "id": "WsuTrmUciP9f"
      },
      "source": [
        "## Import libraries"
      ]
    },
    {
      "cell_type": "code",
      "execution_count": null,
      "metadata": {
        "id": "cJOprUPriP9g"
      },
      "outputs": [],
      "source": [
        "# pandas is used for data manipulation\n",
        "import pandas as pd\n",
        "# numpy gives us access to some useful data structures\n",
        "import numpy as np\n",
        "\n",
        "# matplotlib allows us to do basic plots\n",
        "import matplotlib.pyplot as plt\n",
        "%matplotlib inline\n",
        "\n",
        "# Seaborn is another visualisation library\n",
        "import seaborn as sns\n",
        "\n",
        "# Import a scalar\n",
        "from sklearn.preprocessing import scale\n",
        "\n",
        "# Bring in k-means\n",
        "from sklearn.cluster import KMeans"
      ]
    },
    {
      "cell_type": "markdown",
      "metadata": {
        "id": "73Tg639TiP9g"
      },
      "source": [
        "## Source the data"
      ]
    },
    {
      "cell_type": "markdown",
      "source": [
        "We are using Google Colab as DS environment"
      ],
      "metadata": {
        "id": "BQk8uHHaAwTE"
      }
    },
    {
      "cell_type": "code",
      "source": [
        "from google.colab import drive\n",
        "drive.mount('/content/drive/')"
      ],
      "metadata": {
        "colab": {
          "base_uri": "https://localhost:8080/"
        },
        "id": "XQCrmqT1YGgO",
        "outputId": "e587caaf-677a-4b21-9bfd-da9f4d2ed5a8"
      },
      "execution_count": null,
      "outputs": [
        {
          "output_type": "stream",
          "name": "stdout",
          "text": [
            "Drive already mounted at /content/drive/; to attempt to forcibly remount, call drive.mount(\"/content/drive/\", force_remount=True).\n"
          ]
        }
      ]
    },
    {
      "cell_type": "code",
      "source": [
        "!pwd"
      ],
      "metadata": {
        "colab": {
          "base_uri": "https://localhost:8080/"
        },
        "id": "lV2_T0ZtG5zg",
        "outputId": "80097df4-f1fc-45cc-8df3-b5306891c2b3"
      },
      "execution_count": null,
      "outputs": [
        {
          "output_type": "stream",
          "name": "stdout",
          "text": [
            "/content/sample_data\n"
          ]
        }
      ]
    },
    {
      "cell_type": "code",
      "source": [
        "cd.."
      ],
      "metadata": {
        "colab": {
          "base_uri": "https://localhost:8080/",
          "height": 141
        },
        "id": "AOFcMx6AGmKx",
        "outputId": "0e031263-47fd-4fba-a169-2b218385acfc"
      },
      "execution_count": null,
      "outputs": [
        {
          "output_type": "error",
          "ename": "SyntaxError",
          "evalue": "ignored",
          "traceback": [
            "\u001b[0;36m  File \u001b[0;32m\"<ipython-input-18-d6c65a1e1ff4>\"\u001b[0;36m, line \u001b[0;32m1\u001b[0m\n\u001b[0;31m    cd..\u001b[0m\n\u001b[0m       ^\u001b[0m\n\u001b[0;31mSyntaxError\u001b[0m\u001b[0;31m:\u001b[0m invalid syntax\n"
          ]
        }
      ]
    },
    {
      "cell_type": "code",
      "source": [
        "cd sample_data/"
      ],
      "metadata": {
        "colab": {
          "base_uri": "https://localhost:8080/"
        },
        "id": "U9sPZjhRF_1L",
        "outputId": "db5274c6-e7c0-48a6-babf-41fe63ad9586"
      },
      "execution_count": null,
      "outputs": [
        {
          "output_type": "stream",
          "name": "stdout",
          "text": [
            "[Errno 2] No such file or directory: 'sample_data/'\n",
            "/content/sample_data\n"
          ]
        }
      ]
    },
    {
      "cell_type": "code",
      "execution_count": null,
      "metadata": {
        "colab": {
          "base_uri": "https://localhost:8080/",
          "height": 356
        },
        "id": "TOsgTP5giP9h",
        "outputId": "d9dd3732-c423-4bf8-b13e-ee1b7f7ff550"
      },
      "outputs": [
        {
          "output_type": "error",
          "ename": "FileNotFoundError",
          "evalue": "ignored",
          "traceback": [
            "\u001b[0;31m---------------------------------------------------------------------------\u001b[0m",
            "\u001b[0;31mFileNotFoundError\u001b[0m                         Traceback (most recent call last)",
            "\u001b[0;32m<ipython-input-2-9632270e575a>\u001b[0m in \u001b[0;36m<cell line: 2>\u001b[0;34m()\u001b[0m\n\u001b[1;32m      1\u001b[0m \u001b[0;31m# Import the data\u001b[0m\u001b[0;34m\u001b[0m\u001b[0;34m\u001b[0m\u001b[0m\n\u001b[0;32m----> 2\u001b[0;31m \u001b[0mdf\u001b[0m \u001b[0;34m=\u001b[0m \u001b[0mpd\u001b[0m\u001b[0;34m.\u001b[0m\u001b[0mread_csv\u001b[0m\u001b[0;34m(\u001b[0m\u001b[0;34m'spotify.csv'\u001b[0m\u001b[0;34m)\u001b[0m\u001b[0;34m\u001b[0m\u001b[0;34m\u001b[0m\u001b[0m\n\u001b[0m\u001b[1;32m      3\u001b[0m \u001b[0mdf\u001b[0m\u001b[0;34m.\u001b[0m\u001b[0mhead\u001b[0m\u001b[0;34m(\u001b[0m\u001b[0;34m)\u001b[0m\u001b[0;34m\u001b[0m\u001b[0;34m\u001b[0m\u001b[0m\n",
            "\u001b[0;32m/usr/local/lib/python3.10/dist-packages/pandas/util/_decorators.py\u001b[0m in \u001b[0;36mwrapper\u001b[0;34m(*args, **kwargs)\u001b[0m\n\u001b[1;32m    209\u001b[0m                 \u001b[0;32melse\u001b[0m\u001b[0;34m:\u001b[0m\u001b[0;34m\u001b[0m\u001b[0;34m\u001b[0m\u001b[0m\n\u001b[1;32m    210\u001b[0m                     \u001b[0mkwargs\u001b[0m\u001b[0;34m[\u001b[0m\u001b[0mnew_arg_name\u001b[0m\u001b[0;34m]\u001b[0m \u001b[0;34m=\u001b[0m \u001b[0mnew_arg_value\u001b[0m\u001b[0;34m\u001b[0m\u001b[0;34m\u001b[0m\u001b[0m\n\u001b[0;32m--> 211\u001b[0;31m             \u001b[0;32mreturn\u001b[0m \u001b[0mfunc\u001b[0m\u001b[0;34m(\u001b[0m\u001b[0;34m*\u001b[0m\u001b[0margs\u001b[0m\u001b[0;34m,\u001b[0m \u001b[0;34m**\u001b[0m\u001b[0mkwargs\u001b[0m\u001b[0;34m)\u001b[0m\u001b[0;34m\u001b[0m\u001b[0;34m\u001b[0m\u001b[0m\n\u001b[0m\u001b[1;32m    212\u001b[0m \u001b[0;34m\u001b[0m\u001b[0m\n\u001b[1;32m    213\u001b[0m         \u001b[0;32mreturn\u001b[0m \u001b[0mcast\u001b[0m\u001b[0;34m(\u001b[0m\u001b[0mF\u001b[0m\u001b[0;34m,\u001b[0m \u001b[0mwrapper\u001b[0m\u001b[0;34m)\u001b[0m\u001b[0;34m\u001b[0m\u001b[0;34m\u001b[0m\u001b[0m\n",
            "\u001b[0;32m/usr/local/lib/python3.10/dist-packages/pandas/util/_decorators.py\u001b[0m in \u001b[0;36mwrapper\u001b[0;34m(*args, **kwargs)\u001b[0m\n\u001b[1;32m    329\u001b[0m                     \u001b[0mstacklevel\u001b[0m\u001b[0;34m=\u001b[0m\u001b[0mfind_stack_level\u001b[0m\u001b[0;34m(\u001b[0m\u001b[0;34m)\u001b[0m\u001b[0;34m,\u001b[0m\u001b[0;34m\u001b[0m\u001b[0;34m\u001b[0m\u001b[0m\n\u001b[1;32m    330\u001b[0m                 )\n\u001b[0;32m--> 331\u001b[0;31m             \u001b[0;32mreturn\u001b[0m \u001b[0mfunc\u001b[0m\u001b[0;34m(\u001b[0m\u001b[0;34m*\u001b[0m\u001b[0margs\u001b[0m\u001b[0;34m,\u001b[0m \u001b[0;34m**\u001b[0m\u001b[0mkwargs\u001b[0m\u001b[0;34m)\u001b[0m\u001b[0;34m\u001b[0m\u001b[0;34m\u001b[0m\u001b[0m\n\u001b[0m\u001b[1;32m    332\u001b[0m \u001b[0;34m\u001b[0m\u001b[0m\n\u001b[1;32m    333\u001b[0m         \u001b[0;31m# error: \"Callable[[VarArg(Any), KwArg(Any)], Any]\" has no\u001b[0m\u001b[0;34m\u001b[0m\u001b[0;34m\u001b[0m\u001b[0m\n",
            "\u001b[0;32m/usr/local/lib/python3.10/dist-packages/pandas/io/parsers/readers.py\u001b[0m in \u001b[0;36mread_csv\u001b[0;34m(filepath_or_buffer, sep, delimiter, header, names, index_col, usecols, squeeze, prefix, mangle_dupe_cols, dtype, engine, converters, true_values, false_values, skipinitialspace, skiprows, skipfooter, nrows, na_values, keep_default_na, na_filter, verbose, skip_blank_lines, parse_dates, infer_datetime_format, keep_date_col, date_parser, dayfirst, cache_dates, iterator, chunksize, compression, thousands, decimal, lineterminator, quotechar, quoting, doublequote, escapechar, comment, encoding, encoding_errors, dialect, error_bad_lines, warn_bad_lines, on_bad_lines, delim_whitespace, low_memory, memory_map, float_precision, storage_options)\u001b[0m\n\u001b[1;32m    948\u001b[0m     \u001b[0mkwds\u001b[0m\u001b[0;34m.\u001b[0m\u001b[0mupdate\u001b[0m\u001b[0;34m(\u001b[0m\u001b[0mkwds_defaults\u001b[0m\u001b[0;34m)\u001b[0m\u001b[0;34m\u001b[0m\u001b[0;34m\u001b[0m\u001b[0m\n\u001b[1;32m    949\u001b[0m \u001b[0;34m\u001b[0m\u001b[0m\n\u001b[0;32m--> 950\u001b[0;31m     \u001b[0;32mreturn\u001b[0m \u001b[0m_read\u001b[0m\u001b[0;34m(\u001b[0m\u001b[0mfilepath_or_buffer\u001b[0m\u001b[0;34m,\u001b[0m \u001b[0mkwds\u001b[0m\u001b[0;34m)\u001b[0m\u001b[0;34m\u001b[0m\u001b[0;34m\u001b[0m\u001b[0m\n\u001b[0m\u001b[1;32m    951\u001b[0m \u001b[0;34m\u001b[0m\u001b[0m\n\u001b[1;32m    952\u001b[0m \u001b[0;34m\u001b[0m\u001b[0m\n",
            "\u001b[0;32m/usr/local/lib/python3.10/dist-packages/pandas/io/parsers/readers.py\u001b[0m in \u001b[0;36m_read\u001b[0;34m(filepath_or_buffer, kwds)\u001b[0m\n\u001b[1;32m    603\u001b[0m \u001b[0;34m\u001b[0m\u001b[0m\n\u001b[1;32m    604\u001b[0m     \u001b[0;31m# Create the parser.\u001b[0m\u001b[0;34m\u001b[0m\u001b[0;34m\u001b[0m\u001b[0m\n\u001b[0;32m--> 605\u001b[0;31m     \u001b[0mparser\u001b[0m \u001b[0;34m=\u001b[0m \u001b[0mTextFileReader\u001b[0m\u001b[0;34m(\u001b[0m\u001b[0mfilepath_or_buffer\u001b[0m\u001b[0;34m,\u001b[0m \u001b[0;34m**\u001b[0m\u001b[0mkwds\u001b[0m\u001b[0;34m)\u001b[0m\u001b[0;34m\u001b[0m\u001b[0;34m\u001b[0m\u001b[0m\n\u001b[0m\u001b[1;32m    606\u001b[0m \u001b[0;34m\u001b[0m\u001b[0m\n\u001b[1;32m    607\u001b[0m     \u001b[0;32mif\u001b[0m \u001b[0mchunksize\u001b[0m \u001b[0;32mor\u001b[0m \u001b[0miterator\u001b[0m\u001b[0;34m:\u001b[0m\u001b[0;34m\u001b[0m\u001b[0;34m\u001b[0m\u001b[0m\n",
            "\u001b[0;32m/usr/local/lib/python3.10/dist-packages/pandas/io/parsers/readers.py\u001b[0m in \u001b[0;36m__init__\u001b[0;34m(self, f, engine, **kwds)\u001b[0m\n\u001b[1;32m   1440\u001b[0m \u001b[0;34m\u001b[0m\u001b[0m\n\u001b[1;32m   1441\u001b[0m         \u001b[0mself\u001b[0m\u001b[0;34m.\u001b[0m\u001b[0mhandles\u001b[0m\u001b[0;34m:\u001b[0m \u001b[0mIOHandles\u001b[0m \u001b[0;34m|\u001b[0m \u001b[0;32mNone\u001b[0m \u001b[0;34m=\u001b[0m \u001b[0;32mNone\u001b[0m\u001b[0;34m\u001b[0m\u001b[0;34m\u001b[0m\u001b[0m\n\u001b[0;32m-> 1442\u001b[0;31m         \u001b[0mself\u001b[0m\u001b[0;34m.\u001b[0m\u001b[0m_engine\u001b[0m \u001b[0;34m=\u001b[0m \u001b[0mself\u001b[0m\u001b[0;34m.\u001b[0m\u001b[0m_make_engine\u001b[0m\u001b[0;34m(\u001b[0m\u001b[0mf\u001b[0m\u001b[0;34m,\u001b[0m \u001b[0mself\u001b[0m\u001b[0;34m.\u001b[0m\u001b[0mengine\u001b[0m\u001b[0;34m)\u001b[0m\u001b[0;34m\u001b[0m\u001b[0;34m\u001b[0m\u001b[0m\n\u001b[0m\u001b[1;32m   1443\u001b[0m \u001b[0;34m\u001b[0m\u001b[0m\n\u001b[1;32m   1444\u001b[0m     \u001b[0;32mdef\u001b[0m \u001b[0mclose\u001b[0m\u001b[0;34m(\u001b[0m\u001b[0mself\u001b[0m\u001b[0;34m)\u001b[0m \u001b[0;34m->\u001b[0m \u001b[0;32mNone\u001b[0m\u001b[0;34m:\u001b[0m\u001b[0;34m\u001b[0m\u001b[0;34m\u001b[0m\u001b[0m\n",
            "\u001b[0;32m/usr/local/lib/python3.10/dist-packages/pandas/io/parsers/readers.py\u001b[0m in \u001b[0;36m_make_engine\u001b[0;34m(self, f, engine)\u001b[0m\n\u001b[1;32m   1733\u001b[0m                 \u001b[0;32mif\u001b[0m \u001b[0;34m\"b\"\u001b[0m \u001b[0;32mnot\u001b[0m \u001b[0;32min\u001b[0m \u001b[0mmode\u001b[0m\u001b[0;34m:\u001b[0m\u001b[0;34m\u001b[0m\u001b[0;34m\u001b[0m\u001b[0m\n\u001b[1;32m   1734\u001b[0m                     \u001b[0mmode\u001b[0m \u001b[0;34m+=\u001b[0m \u001b[0;34m\"b\"\u001b[0m\u001b[0;34m\u001b[0m\u001b[0;34m\u001b[0m\u001b[0m\n\u001b[0;32m-> 1735\u001b[0;31m             self.handles = get_handle(\n\u001b[0m\u001b[1;32m   1736\u001b[0m                 \u001b[0mf\u001b[0m\u001b[0;34m,\u001b[0m\u001b[0;34m\u001b[0m\u001b[0;34m\u001b[0m\u001b[0m\n\u001b[1;32m   1737\u001b[0m                 \u001b[0mmode\u001b[0m\u001b[0;34m,\u001b[0m\u001b[0;34m\u001b[0m\u001b[0;34m\u001b[0m\u001b[0m\n",
            "\u001b[0;32m/usr/local/lib/python3.10/dist-packages/pandas/io/common.py\u001b[0m in \u001b[0;36mget_handle\u001b[0;34m(path_or_buf, mode, encoding, compression, memory_map, is_text, errors, storage_options)\u001b[0m\n\u001b[1;32m    854\u001b[0m         \u001b[0;32mif\u001b[0m \u001b[0mioargs\u001b[0m\u001b[0;34m.\u001b[0m\u001b[0mencoding\u001b[0m \u001b[0;32mand\u001b[0m \u001b[0;34m\"b\"\u001b[0m \u001b[0;32mnot\u001b[0m \u001b[0;32min\u001b[0m \u001b[0mioargs\u001b[0m\u001b[0;34m.\u001b[0m\u001b[0mmode\u001b[0m\u001b[0;34m:\u001b[0m\u001b[0;34m\u001b[0m\u001b[0;34m\u001b[0m\u001b[0m\n\u001b[1;32m    855\u001b[0m             \u001b[0;31m# Encoding\u001b[0m\u001b[0;34m\u001b[0m\u001b[0;34m\u001b[0m\u001b[0m\n\u001b[0;32m--> 856\u001b[0;31m             handle = open(\n\u001b[0m\u001b[1;32m    857\u001b[0m                 \u001b[0mhandle\u001b[0m\u001b[0;34m,\u001b[0m\u001b[0;34m\u001b[0m\u001b[0;34m\u001b[0m\u001b[0m\n\u001b[1;32m    858\u001b[0m                 \u001b[0mioargs\u001b[0m\u001b[0;34m.\u001b[0m\u001b[0mmode\u001b[0m\u001b[0;34m,\u001b[0m\u001b[0;34m\u001b[0m\u001b[0;34m\u001b[0m\u001b[0m\n",
            "\u001b[0;31mFileNotFoundError\u001b[0m: [Errno 2] No such file or directory: 'spotify.csv'"
          ]
        }
      ],
      "source": [
        "# Import the data\n",
        "df = pd.read_csv('spotify.csv')\n",
        "df.head()"
      ]
    },
    {
      "cell_type": "code",
      "source": [
        "from google.colab import files\n",
        "upload = files.upload()"
      ],
      "metadata": {
        "colab": {
          "base_uri": "https://localhost:8080/",
          "height": 61
        },
        "id": "qLdQz1MkEHbK",
        "outputId": "87e213e5-a9c1-48d7-98d1-c267be1881d1"
      },
      "execution_count": null,
      "outputs": [
        {
          "output_type": "display_data",
          "data": {
            "text/plain": [
              "<IPython.core.display.HTML object>"
            ],
            "text/html": [
              "\n",
              "     <input type=\"file\" id=\"files-28f7bb37-0264-4071-a644-3efb22ceb3b1\" name=\"files[]\" multiple disabled\n",
              "        style=\"border:none\" />\n",
              "     <output id=\"result-28f7bb37-0264-4071-a644-3efb22ceb3b1\">\n",
              "      Upload widget is only available when the cell has been executed in the\n",
              "      current browser session. Please rerun this cell to enable.\n",
              "      </output>\n",
              "      <script>// Copyright 2017 Google LLC\n",
              "//\n",
              "// Licensed under the Apache License, Version 2.0 (the \"License\");\n",
              "// you may not use this file except in compliance with the License.\n",
              "// You may obtain a copy of the License at\n",
              "//\n",
              "//      http://www.apache.org/licenses/LICENSE-2.0\n",
              "//\n",
              "// Unless required by applicable law or agreed to in writing, software\n",
              "// distributed under the License is distributed on an \"AS IS\" BASIS,\n",
              "// WITHOUT WARRANTIES OR CONDITIONS OF ANY KIND, either express or implied.\n",
              "// See the License for the specific language governing permissions and\n",
              "// limitations under the License.\n",
              "\n",
              "/**\n",
              " * @fileoverview Helpers for google.colab Python module.\n",
              " */\n",
              "(function(scope) {\n",
              "function span(text, styleAttributes = {}) {\n",
              "  const element = document.createElement('span');\n",
              "  element.textContent = text;\n",
              "  for (const key of Object.keys(styleAttributes)) {\n",
              "    element.style[key] = styleAttributes[key];\n",
              "  }\n",
              "  return element;\n",
              "}\n",
              "\n",
              "// Max number of bytes which will be uploaded at a time.\n",
              "const MAX_PAYLOAD_SIZE = 100 * 1024;\n",
              "\n",
              "function _uploadFiles(inputId, outputId) {\n",
              "  const steps = uploadFilesStep(inputId, outputId);\n",
              "  const outputElement = document.getElementById(outputId);\n",
              "  // Cache steps on the outputElement to make it available for the next call\n",
              "  // to uploadFilesContinue from Python.\n",
              "  outputElement.steps = steps;\n",
              "\n",
              "  return _uploadFilesContinue(outputId);\n",
              "}\n",
              "\n",
              "// This is roughly an async generator (not supported in the browser yet),\n",
              "// where there are multiple asynchronous steps and the Python side is going\n",
              "// to poll for completion of each step.\n",
              "// This uses a Promise to block the python side on completion of each step,\n",
              "// then passes the result of the previous step as the input to the next step.\n",
              "function _uploadFilesContinue(outputId) {\n",
              "  const outputElement = document.getElementById(outputId);\n",
              "  const steps = outputElement.steps;\n",
              "\n",
              "  const next = steps.next(outputElement.lastPromiseValue);\n",
              "  return Promise.resolve(next.value.promise).then((value) => {\n",
              "    // Cache the last promise value to make it available to the next\n",
              "    // step of the generator.\n",
              "    outputElement.lastPromiseValue = value;\n",
              "    return next.value.response;\n",
              "  });\n",
              "}\n",
              "\n",
              "/**\n",
              " * Generator function which is called between each async step of the upload\n",
              " * process.\n",
              " * @param {string} inputId Element ID of the input file picker element.\n",
              " * @param {string} outputId Element ID of the output display.\n",
              " * @return {!Iterable<!Object>} Iterable of next steps.\n",
              " */\n",
              "function* uploadFilesStep(inputId, outputId) {\n",
              "  const inputElement = document.getElementById(inputId);\n",
              "  inputElement.disabled = false;\n",
              "\n",
              "  const outputElement = document.getElementById(outputId);\n",
              "  outputElement.innerHTML = '';\n",
              "\n",
              "  const pickedPromise = new Promise((resolve) => {\n",
              "    inputElement.addEventListener('change', (e) => {\n",
              "      resolve(e.target.files);\n",
              "    });\n",
              "  });\n",
              "\n",
              "  const cancel = document.createElement('button');\n",
              "  inputElement.parentElement.appendChild(cancel);\n",
              "  cancel.textContent = 'Cancel upload';\n",
              "  const cancelPromise = new Promise((resolve) => {\n",
              "    cancel.onclick = () => {\n",
              "      resolve(null);\n",
              "    };\n",
              "  });\n",
              "\n",
              "  // Wait for the user to pick the files.\n",
              "  const files = yield {\n",
              "    promise: Promise.race([pickedPromise, cancelPromise]),\n",
              "    response: {\n",
              "      action: 'starting',\n",
              "    }\n",
              "  };\n",
              "\n",
              "  cancel.remove();\n",
              "\n",
              "  // Disable the input element since further picks are not allowed.\n",
              "  inputElement.disabled = true;\n",
              "\n",
              "  if (!files) {\n",
              "    return {\n",
              "      response: {\n",
              "        action: 'complete',\n",
              "      }\n",
              "    };\n",
              "  }\n",
              "\n",
              "  for (const file of files) {\n",
              "    const li = document.createElement('li');\n",
              "    li.append(span(file.name, {fontWeight: 'bold'}));\n",
              "    li.append(span(\n",
              "        `(${file.type || 'n/a'}) - ${file.size} bytes, ` +\n",
              "        `last modified: ${\n",
              "            file.lastModifiedDate ? file.lastModifiedDate.toLocaleDateString() :\n",
              "                                    'n/a'} - `));\n",
              "    const percent = span('0% done');\n",
              "    li.appendChild(percent);\n",
              "\n",
              "    outputElement.appendChild(li);\n",
              "\n",
              "    const fileDataPromise = new Promise((resolve) => {\n",
              "      const reader = new FileReader();\n",
              "      reader.onload = (e) => {\n",
              "        resolve(e.target.result);\n",
              "      };\n",
              "      reader.readAsArrayBuffer(file);\n",
              "    });\n",
              "    // Wait for the data to be ready.\n",
              "    let fileData = yield {\n",
              "      promise: fileDataPromise,\n",
              "      response: {\n",
              "        action: 'continue',\n",
              "      }\n",
              "    };\n",
              "\n",
              "    // Use a chunked sending to avoid message size limits. See b/62115660.\n",
              "    let position = 0;\n",
              "    do {\n",
              "      const length = Math.min(fileData.byteLength - position, MAX_PAYLOAD_SIZE);\n",
              "      const chunk = new Uint8Array(fileData, position, length);\n",
              "      position += length;\n",
              "\n",
              "      const base64 = btoa(String.fromCharCode.apply(null, chunk));\n",
              "      yield {\n",
              "        response: {\n",
              "          action: 'append',\n",
              "          file: file.name,\n",
              "          data: base64,\n",
              "        },\n",
              "      };\n",
              "\n",
              "      let percentDone = fileData.byteLength === 0 ?\n",
              "          100 :\n",
              "          Math.round((position / fileData.byteLength) * 100);\n",
              "      percent.textContent = `${percentDone}% done`;\n",
              "\n",
              "    } while (position < fileData.byteLength);\n",
              "  }\n",
              "\n",
              "  // All done.\n",
              "  yield {\n",
              "    response: {\n",
              "      action: 'complete',\n",
              "    }\n",
              "  };\n",
              "}\n",
              "\n",
              "scope.google = scope.google || {};\n",
              "scope.google.colab = scope.google.colab || {};\n",
              "scope.google.colab._files = {\n",
              "  _uploadFiles,\n",
              "  _uploadFilesContinue,\n",
              "};\n",
              "})(self);\n",
              "</script> "
            ]
          },
          "metadata": {}
        },
        {
          "output_type": "stream",
          "name": "stdout",
          "text": [
            "Saving bank-data.csv to bank-data.csv\n"
          ]
        }
      ]
    },
    {
      "cell_type": "markdown",
      "metadata": {
        "id": "OvVRyXPiiP9h"
      },
      "source": [
        "## Explore the data"
      ]
    },
    {
      "cell_type": "markdown",
      "metadata": {
        "id": "JvLCLRUViP9i"
      },
      "source": [
        "<div class=\"alert alert-warning\">\n",
        "    <p>Use this section to do some exploration of your dataset. Some ideas might include:</p>\n",
        "    <ul>\n",
        "        <li>Explore the data and its types using functions such as df.info() or df.head().</li>\n",
        "        <li>Explore the different variables in the data and comment on any patterns you can see.</li>\n",
        "        <li>Have a think about which variables are more and less useful.</li>\n",
        "        <li>Create some interesting visualisations using <a href=\"https://seaborn.pydata.org/\">Seaborn</a> and/or <a href=\"https://matplotlib.org/\">Matplotlib.</a> Think pairplots, heatmaps, histograms, scatter plots, etc. You could even try plotting a three-dimensional graph using <a href=\"https://plot.ly/python/\">Plotly</a> (advanced).</li>\n",
        "        <li>Share any thoughts you have about transformations and manipulation you're going to need to do.</li>\n",
        "    </ul>\n",
        "<p>Be sure to thoroughly explain your analysis around the code you write. Also, trying answering the questions in green.</p>\n",
        "</div>"
      ]
    },
    {
      "cell_type": "markdown",
      "metadata": {
        "id": "RAXI_R5biP9i"
      },
      "source": [
        "Now that we've imported our data, it's useful to run a few summary functions on it in order to understand it better."
      ]
    },
    {
      "cell_type": "code",
      "execution_count": null,
      "metadata": {
        "id": "dk-vCqTyiP9i",
        "outputId": "c0fe25a0-ff42-4d38-d509-b7768134ab93"
      },
      "outputs": [
        {
          "data": {
            "text/html": [
              "<div>\n",
              "<style scoped>\n",
              "    .dataframe tbody tr th:only-of-type {\n",
              "        vertical-align: middle;\n",
              "    }\n",
              "\n",
              "    .dataframe tbody tr th {\n",
              "        vertical-align: top;\n",
              "    }\n",
              "\n",
              "    .dataframe thead th {\n",
              "        text-align: right;\n",
              "    }\n",
              "</style>\n",
              "<table border=\"1\" class=\"dataframe\">\n",
              "  <thead>\n",
              "    <tr style=\"text-align: right;\">\n",
              "      <th></th>\n",
              "      <th>id</th>\n",
              "      <th>name</th>\n",
              "      <th>artists</th>\n",
              "      <th>danceability</th>\n",
              "      <th>energy</th>\n",
              "      <th>key</th>\n",
              "      <th>loudness</th>\n",
              "      <th>mode</th>\n",
              "      <th>speechiness</th>\n",
              "      <th>acousticness</th>\n",
              "      <th>instrumentalness</th>\n",
              "      <th>liveness</th>\n",
              "      <th>valence</th>\n",
              "      <th>tempo</th>\n",
              "      <th>duration_ms</th>\n",
              "      <th>time_signature</th>\n",
              "    </tr>\n",
              "  </thead>\n",
              "  <tbody>\n",
              "    <tr>\n",
              "      <td>0</td>\n",
              "      <td>6DCZcSspjsKoFjzjrWoCd</td>\n",
              "      <td>God's Plan</td>\n",
              "      <td>Drake</td>\n",
              "      <td>0.754</td>\n",
              "      <td>0.449</td>\n",
              "      <td>7.0</td>\n",
              "      <td>-9.211</td>\n",
              "      <td>1.0</td>\n",
              "      <td>0.1090</td>\n",
              "      <td>0.0332</td>\n",
              "      <td>0.000083</td>\n",
              "      <td>0.552</td>\n",
              "      <td>0.357</td>\n",
              "      <td>77.169</td>\n",
              "      <td>198973.0</td>\n",
              "      <td>4.0</td>\n",
              "    </tr>\n",
              "    <tr>\n",
              "      <td>1</td>\n",
              "      <td>3ee8Jmje8o58CHK66QrVC</td>\n",
              "      <td>SAD!</td>\n",
              "      <td>XXXTENTACION</td>\n",
              "      <td>0.740</td>\n",
              "      <td>0.613</td>\n",
              "      <td>8.0</td>\n",
              "      <td>-4.880</td>\n",
              "      <td>1.0</td>\n",
              "      <td>0.1450</td>\n",
              "      <td>0.2580</td>\n",
              "      <td>0.003720</td>\n",
              "      <td>0.123</td>\n",
              "      <td>0.473</td>\n",
              "      <td>75.023</td>\n",
              "      <td>166606.0</td>\n",
              "      <td>4.0</td>\n",
              "    </tr>\n",
              "    <tr>\n",
              "      <td>2</td>\n",
              "      <td>0e7ipj03S05BNilyu5bRz</td>\n",
              "      <td>rockstar (feat. 21 Savage)</td>\n",
              "      <td>Post Malone</td>\n",
              "      <td>0.587</td>\n",
              "      <td>0.535</td>\n",
              "      <td>5.0</td>\n",
              "      <td>-6.090</td>\n",
              "      <td>0.0</td>\n",
              "      <td>0.0898</td>\n",
              "      <td>0.1170</td>\n",
              "      <td>0.000066</td>\n",
              "      <td>0.131</td>\n",
              "      <td>0.140</td>\n",
              "      <td>159.847</td>\n",
              "      <td>218147.0</td>\n",
              "      <td>4.0</td>\n",
              "    </tr>\n",
              "    <tr>\n",
              "      <td>3</td>\n",
              "      <td>3swc6WTsr7rl9DqQKQA55</td>\n",
              "      <td>Psycho (feat. Ty Dolla $ign)</td>\n",
              "      <td>Post Malone</td>\n",
              "      <td>0.739</td>\n",
              "      <td>0.559</td>\n",
              "      <td>8.0</td>\n",
              "      <td>-8.011</td>\n",
              "      <td>1.0</td>\n",
              "      <td>0.1170</td>\n",
              "      <td>0.5800</td>\n",
              "      <td>0.000000</td>\n",
              "      <td>0.112</td>\n",
              "      <td>0.439</td>\n",
              "      <td>140.124</td>\n",
              "      <td>221440.0</td>\n",
              "      <td>4.0</td>\n",
              "    </tr>\n",
              "    <tr>\n",
              "      <td>4</td>\n",
              "      <td>2G7V7zsVDxg1yRsu7Ew9R</td>\n",
              "      <td>In My Feelings</td>\n",
              "      <td>Drake</td>\n",
              "      <td>0.835</td>\n",
              "      <td>0.626</td>\n",
              "      <td>1.0</td>\n",
              "      <td>-5.833</td>\n",
              "      <td>1.0</td>\n",
              "      <td>0.1250</td>\n",
              "      <td>0.0589</td>\n",
              "      <td>0.000060</td>\n",
              "      <td>0.396</td>\n",
              "      <td>0.350</td>\n",
              "      <td>91.030</td>\n",
              "      <td>217925.0</td>\n",
              "      <td>4.0</td>\n",
              "    </tr>\n",
              "  </tbody>\n",
              "</table>\n",
              "</div>"
            ],
            "text/plain": [
              "                      id                          name       artists  \\\n",
              "0  6DCZcSspjsKoFjzjrWoCd                    God's Plan         Drake   \n",
              "1  3ee8Jmje8o58CHK66QrVC                          SAD!  XXXTENTACION   \n",
              "2  0e7ipj03S05BNilyu5bRz    rockstar (feat. 21 Savage)   Post Malone   \n",
              "3  3swc6WTsr7rl9DqQKQA55  Psycho (feat. Ty Dolla $ign)   Post Malone   \n",
              "4  2G7V7zsVDxg1yRsu7Ew9R                In My Feelings         Drake   \n",
              "\n",
              "   danceability  energy  key  loudness  mode  speechiness  acousticness  \\\n",
              "0         0.754   0.449  7.0    -9.211   1.0       0.1090        0.0332   \n",
              "1         0.740   0.613  8.0    -4.880   1.0       0.1450        0.2580   \n",
              "2         0.587   0.535  5.0    -6.090   0.0       0.0898        0.1170   \n",
              "3         0.739   0.559  8.0    -8.011   1.0       0.1170        0.5800   \n",
              "4         0.835   0.626  1.0    -5.833   1.0       0.1250        0.0589   \n",
              "\n",
              "   instrumentalness  liveness  valence    tempo  duration_ms  time_signature  \n",
              "0          0.000083     0.552    0.357   77.169     198973.0             4.0  \n",
              "1          0.003720     0.123    0.473   75.023     166606.0             4.0  \n",
              "2          0.000066     0.131    0.140  159.847     218147.0             4.0  \n",
              "3          0.000000     0.112    0.439  140.124     221440.0             4.0  \n",
              "4          0.000060     0.396    0.350   91.030     217925.0             4.0  "
            ]
          },
          "execution_count": 3,
          "metadata": {},
          "output_type": "execute_result"
        }
      ],
      "source": [
        "df.head()"
      ]
    },
    {
      "cell_type": "markdown",
      "metadata": {
        "id": "LD5-1hgqiP9i"
      },
      "source": [
        "Just looking at the first few rows of our data, we can see that there are some values that won't be useful for our analysis. \"id\", for example, gives no useful information about our songs."
      ]
    },
    {
      "cell_type": "code",
      "execution_count": null,
      "metadata": {
        "scrolled": true,
        "id": "rkh3hDR9iP9i",
        "outputId": "90aa04ab-ffc0-40e2-8a02-add46f62598e"
      },
      "outputs": [
        {
          "name": "stdout",
          "output_type": "stream",
          "text": [
            "<class 'pandas.core.frame.DataFrame'>\n",
            "RangeIndex: 100 entries, 0 to 99\n",
            "Data columns (total 16 columns):\n",
            "id                  100 non-null object\n",
            "name                100 non-null object\n",
            "artists             100 non-null object\n",
            "danceability        100 non-null float64\n",
            "energy              100 non-null float64\n",
            "key                 100 non-null float64\n",
            "loudness            100 non-null float64\n",
            "mode                100 non-null float64\n",
            "speechiness         100 non-null float64\n",
            "acousticness        100 non-null float64\n",
            "instrumentalness    100 non-null float64\n",
            "liveness            100 non-null float64\n",
            "valence             100 non-null float64\n",
            "tempo               100 non-null float64\n",
            "duration_ms         100 non-null float64\n",
            "time_signature      100 non-null float64\n",
            "dtypes: float64(13), object(3)\n",
            "memory usage: 12.6+ KB\n"
          ]
        }
      ],
      "source": [
        "df.info()"
      ]
    },
    {
      "cell_type": "markdown",
      "metadata": {
        "id": "YrIH2lxKiP9i"
      },
      "source": [
        "We can see that our data contains 100 entries and there are no missing values.\n",
        "\n",
        "Each row represents a single song and each song has several attributes present, mainly about the type of sound (like danceability, loudness, speechiness, and valence). Each song also has a unique ID and artist.\n",
        "\n",
        "pandas has imported each column either as an object or float64. This is mainly correct, although variables like \"key\" and \"time_signature\" should probably be converted to objects as they don't technically represent numbers."
      ]
    },
    {
      "cell_type": "code",
      "execution_count": null,
      "metadata": {
        "scrolled": true,
        "id": "PFLw0NFEiP9i",
        "outputId": "f9f791b2-1c7e-4759-ce10-8f5044c3c4e2"
      },
      "outputs": [
        {
          "data": {
            "text/html": [
              "<div>\n",
              "<style scoped>\n",
              "    .dataframe tbody tr th:only-of-type {\n",
              "        vertical-align: middle;\n",
              "    }\n",
              "\n",
              "    .dataframe tbody tr th {\n",
              "        vertical-align: top;\n",
              "    }\n",
              "\n",
              "    .dataframe thead th {\n",
              "        text-align: right;\n",
              "    }\n",
              "</style>\n",
              "<table border=\"1\" class=\"dataframe\">\n",
              "  <thead>\n",
              "    <tr style=\"text-align: right;\">\n",
              "      <th></th>\n",
              "      <th>danceability</th>\n",
              "      <th>energy</th>\n",
              "      <th>key</th>\n",
              "      <th>loudness</th>\n",
              "      <th>mode</th>\n",
              "      <th>speechiness</th>\n",
              "      <th>acousticness</th>\n",
              "      <th>instrumentalness</th>\n",
              "      <th>liveness</th>\n",
              "      <th>valence</th>\n",
              "      <th>tempo</th>\n",
              "      <th>duration_ms</th>\n",
              "      <th>time_signature</th>\n",
              "    </tr>\n",
              "  </thead>\n",
              "  <tbody>\n",
              "    <tr>\n",
              "      <td>danceability</td>\n",
              "      <td>1.000000</td>\n",
              "      <td>-0.072582</td>\n",
              "      <td>-0.051759</td>\n",
              "      <td>0.015517</td>\n",
              "      <td>-0.058019</td>\n",
              "      <td>0.227075</td>\n",
              "      <td>-0.134374</td>\n",
              "      <td>-0.066592</td>\n",
              "      <td>-0.038761</td>\n",
              "      <td>0.413855</td>\n",
              "      <td>-0.195012</td>\n",
              "      <td>-0.068368</td>\n",
              "      <td>0.119421</td>\n",
              "    </tr>\n",
              "    <tr>\n",
              "      <td>energy</td>\n",
              "      <td>-0.072582</td>\n",
              "      <td>1.000000</td>\n",
              "      <td>-0.136345</td>\n",
              "      <td>0.732719</td>\n",
              "      <td>-0.117555</td>\n",
              "      <td>-0.073591</td>\n",
              "      <td>-0.421209</td>\n",
              "      <td>0.093684</td>\n",
              "      <td>0.050542</td>\n",
              "      <td>0.382434</td>\n",
              "      <td>0.062272</td>\n",
              "      <td>0.073017</td>\n",
              "      <td>0.255235</td>\n",
              "    </tr>\n",
              "    <tr>\n",
              "      <td>key</td>\n",
              "      <td>-0.051759</td>\n",
              "      <td>-0.136345</td>\n",
              "      <td>1.000000</td>\n",
              "      <td>-0.105309</td>\n",
              "      <td>-0.141568</td>\n",
              "      <td>0.019583</td>\n",
              "      <td>0.141590</td>\n",
              "      <td>-0.136607</td>\n",
              "      <td>-0.125443</td>\n",
              "      <td>-0.032622</td>\n",
              "      <td>0.003737</td>\n",
              "      <td>0.046144</td>\n",
              "      <td>-0.087096</td>\n",
              "    </tr>\n",
              "    <tr>\n",
              "      <td>loudness</td>\n",
              "      <td>0.015517</td>\n",
              "      <td>0.732719</td>\n",
              "      <td>-0.105309</td>\n",
              "      <td>1.000000</td>\n",
              "      <td>-0.110178</td>\n",
              "      <td>-0.252037</td>\n",
              "      <td>-0.269742</td>\n",
              "      <td>0.036248</td>\n",
              "      <td>0.000006</td>\n",
              "      <td>0.407760</td>\n",
              "      <td>-0.035156</td>\n",
              "      <td>0.265310</td>\n",
              "      <td>0.072301</td>\n",
              "    </tr>\n",
              "    <tr>\n",
              "      <td>mode</td>\n",
              "      <td>-0.058019</td>\n",
              "      <td>-0.117555</td>\n",
              "      <td>-0.141568</td>\n",
              "      <td>-0.110178</td>\n",
              "      <td>1.000000</td>\n",
              "      <td>-0.150076</td>\n",
              "      <td>-0.030028</td>\n",
              "      <td>0.089667</td>\n",
              "      <td>0.024428</td>\n",
              "      <td>-0.210599</td>\n",
              "      <td>-0.011911</td>\n",
              "      <td>0.055411</td>\n",
              "      <td>-0.083782</td>\n",
              "    </tr>\n",
              "    <tr>\n",
              "      <td>speechiness</td>\n",
              "      <td>0.227075</td>\n",
              "      <td>-0.073591</td>\n",
              "      <td>0.019583</td>\n",
              "      <td>-0.252037</td>\n",
              "      <td>-0.150076</td>\n",
              "      <td>1.000000</td>\n",
              "      <td>-0.081536</td>\n",
              "      <td>-0.069543</td>\n",
              "      <td>-0.099379</td>\n",
              "      <td>-0.051054</td>\n",
              "      <td>0.102999</td>\n",
              "      <td>-0.009856</td>\n",
              "      <td>0.235615</td>\n",
              "    </tr>\n",
              "    <tr>\n",
              "      <td>acousticness</td>\n",
              "      <td>-0.134374</td>\n",
              "      <td>-0.421209</td>\n",
              "      <td>0.141590</td>\n",
              "      <td>-0.269742</td>\n",
              "      <td>-0.030028</td>\n",
              "      <td>-0.081536</td>\n",
              "      <td>1.000000</td>\n",
              "      <td>-0.089583</td>\n",
              "      <td>-0.150177</td>\n",
              "      <td>-0.020800</td>\n",
              "      <td>-0.158013</td>\n",
              "      <td>-0.069627</td>\n",
              "      <td>-0.158935</td>\n",
              "    </tr>\n",
              "    <tr>\n",
              "      <td>instrumentalness</td>\n",
              "      <td>-0.066592</td>\n",
              "      <td>0.093684</td>\n",
              "      <td>-0.136607</td>\n",
              "      <td>0.036248</td>\n",
              "      <td>0.089667</td>\n",
              "      <td>-0.069543</td>\n",
              "      <td>-0.089583</td>\n",
              "      <td>1.000000</td>\n",
              "      <td>-0.016249</td>\n",
              "      <td>-0.095123</td>\n",
              "      <td>0.178142</td>\n",
              "      <td>-0.045873</td>\n",
              "      <td>0.011894</td>\n",
              "    </tr>\n",
              "    <tr>\n",
              "      <td>liveness</td>\n",
              "      <td>-0.038761</td>\n",
              "      <td>0.050542</td>\n",
              "      <td>-0.125443</td>\n",
              "      <td>0.000006</td>\n",
              "      <td>0.024428</td>\n",
              "      <td>-0.099379</td>\n",
              "      <td>-0.150177</td>\n",
              "      <td>-0.016249</td>\n",
              "      <td>1.000000</td>\n",
              "      <td>-0.042612</td>\n",
              "      <td>-0.107652</td>\n",
              "      <td>-0.042942</td>\n",
              "      <td>-0.079558</td>\n",
              "    </tr>\n",
              "    <tr>\n",
              "      <td>valence</td>\n",
              "      <td>0.413855</td>\n",
              "      <td>0.382434</td>\n",
              "      <td>-0.032622</td>\n",
              "      <td>0.407760</td>\n",
              "      <td>-0.210599</td>\n",
              "      <td>-0.051054</td>\n",
              "      <td>-0.020800</td>\n",
              "      <td>-0.095123</td>\n",
              "      <td>-0.042612</td>\n",
              "      <td>1.000000</td>\n",
              "      <td>-0.148423</td>\n",
              "      <td>-0.131901</td>\n",
              "      <td>0.223410</td>\n",
              "    </tr>\n",
              "    <tr>\n",
              "      <td>tempo</td>\n",
              "      <td>-0.195012</td>\n",
              "      <td>0.062272</td>\n",
              "      <td>0.003737</td>\n",
              "      <td>-0.035156</td>\n",
              "      <td>-0.011911</td>\n",
              "      <td>0.102999</td>\n",
              "      <td>-0.158013</td>\n",
              "      <td>0.178142</td>\n",
              "      <td>-0.107652</td>\n",
              "      <td>-0.148423</td>\n",
              "      <td>1.000000</td>\n",
              "      <td>0.005493</td>\n",
              "      <td>0.090191</td>\n",
              "    </tr>\n",
              "    <tr>\n",
              "      <td>duration_ms</td>\n",
              "      <td>-0.068368</td>\n",
              "      <td>0.073017</td>\n",
              "      <td>0.046144</td>\n",
              "      <td>0.265310</td>\n",
              "      <td>0.055411</td>\n",
              "      <td>-0.009856</td>\n",
              "      <td>-0.069627</td>\n",
              "      <td>-0.045873</td>\n",
              "      <td>-0.042942</td>\n",
              "      <td>-0.131901</td>\n",
              "      <td>0.005493</td>\n",
              "      <td>1.000000</td>\n",
              "      <td>-0.102138</td>\n",
              "    </tr>\n",
              "    <tr>\n",
              "      <td>time_signature</td>\n",
              "      <td>0.119421</td>\n",
              "      <td>0.255235</td>\n",
              "      <td>-0.087096</td>\n",
              "      <td>0.072301</td>\n",
              "      <td>-0.083782</td>\n",
              "      <td>0.235615</td>\n",
              "      <td>-0.158935</td>\n",
              "      <td>0.011894</td>\n",
              "      <td>-0.079558</td>\n",
              "      <td>0.223410</td>\n",
              "      <td>0.090191</td>\n",
              "      <td>-0.102138</td>\n",
              "      <td>1.000000</td>\n",
              "    </tr>\n",
              "  </tbody>\n",
              "</table>\n",
              "</div>"
            ],
            "text/plain": [
              "                  danceability    energy       key  loudness      mode  \\\n",
              "danceability          1.000000 -0.072582 -0.051759  0.015517 -0.058019   \n",
              "energy               -0.072582  1.000000 -0.136345  0.732719 -0.117555   \n",
              "key                  -0.051759 -0.136345  1.000000 -0.105309 -0.141568   \n",
              "loudness              0.015517  0.732719 -0.105309  1.000000 -0.110178   \n",
              "mode                 -0.058019 -0.117555 -0.141568 -0.110178  1.000000   \n",
              "speechiness           0.227075 -0.073591  0.019583 -0.252037 -0.150076   \n",
              "acousticness         -0.134374 -0.421209  0.141590 -0.269742 -0.030028   \n",
              "instrumentalness     -0.066592  0.093684 -0.136607  0.036248  0.089667   \n",
              "liveness             -0.038761  0.050542 -0.125443  0.000006  0.024428   \n",
              "valence               0.413855  0.382434 -0.032622  0.407760 -0.210599   \n",
              "tempo                -0.195012  0.062272  0.003737 -0.035156 -0.011911   \n",
              "duration_ms          -0.068368  0.073017  0.046144  0.265310  0.055411   \n",
              "time_signature        0.119421  0.255235 -0.087096  0.072301 -0.083782   \n",
              "\n",
              "                  speechiness  acousticness  instrumentalness  liveness  \\\n",
              "danceability         0.227075     -0.134374         -0.066592 -0.038761   \n",
              "energy              -0.073591     -0.421209          0.093684  0.050542   \n",
              "key                  0.019583      0.141590         -0.136607 -0.125443   \n",
              "loudness            -0.252037     -0.269742          0.036248  0.000006   \n",
              "mode                -0.150076     -0.030028          0.089667  0.024428   \n",
              "speechiness          1.000000     -0.081536         -0.069543 -0.099379   \n",
              "acousticness        -0.081536      1.000000         -0.089583 -0.150177   \n",
              "instrumentalness    -0.069543     -0.089583          1.000000 -0.016249   \n",
              "liveness            -0.099379     -0.150177         -0.016249  1.000000   \n",
              "valence             -0.051054     -0.020800         -0.095123 -0.042612   \n",
              "tempo                0.102999     -0.158013          0.178142 -0.107652   \n",
              "duration_ms         -0.009856     -0.069627         -0.045873 -0.042942   \n",
              "time_signature       0.235615     -0.158935          0.011894 -0.079558   \n",
              "\n",
              "                   valence     tempo  duration_ms  time_signature  \n",
              "danceability      0.413855 -0.195012    -0.068368        0.119421  \n",
              "energy            0.382434  0.062272     0.073017        0.255235  \n",
              "key              -0.032622  0.003737     0.046144       -0.087096  \n",
              "loudness          0.407760 -0.035156     0.265310        0.072301  \n",
              "mode             -0.210599 -0.011911     0.055411       -0.083782  \n",
              "speechiness      -0.051054  0.102999    -0.009856        0.235615  \n",
              "acousticness     -0.020800 -0.158013    -0.069627       -0.158935  \n",
              "instrumentalness -0.095123  0.178142    -0.045873        0.011894  \n",
              "liveness         -0.042612 -0.107652    -0.042942       -0.079558  \n",
              "valence           1.000000 -0.148423    -0.131901        0.223410  \n",
              "tempo            -0.148423  1.000000     0.005493        0.090191  \n",
              "duration_ms      -0.131901  0.005493     1.000000       -0.102138  \n",
              "time_signature    0.223410  0.090191    -0.102138        1.000000  "
            ]
          },
          "execution_count": 5,
          "metadata": {},
          "output_type": "execute_result"
        }
      ],
      "source": [
        "# We can look for correlations between our variables using .corr()\n",
        "df.corr()"
      ]
    },
    {
      "cell_type": "markdown",
      "metadata": {
        "id": "5OtAyLTIiP9j"
      },
      "source": [
        "The table above shows us a correlation matrix for each of the variables in our dataset. To help make this a bit more readable, we can sort these values to see the greatest and smallest correlations."
      ]
    },
    {
      "cell_type": "code",
      "execution_count": null,
      "metadata": {
        "scrolled": true,
        "id": "kvfgS6fsiP9j",
        "outputId": "66e03aa8-2e59-4b58-c0e6-0d7839679a07"
      },
      "outputs": [
        {
          "data": {
            "text/plain": [
              "acousticness    energy           -0.421209\n",
              "energy          acousticness     -0.421209\n",
              "acousticness    loudness         -0.269742\n",
              "loudness        acousticness     -0.269742\n",
              "                speechiness      -0.252037\n",
              "                                    ...   \n",
              "                loudness          1.000000\n",
              "key             key               1.000000\n",
              "energy          energy            1.000000\n",
              "duration_ms     duration_ms       1.000000\n",
              "time_signature  time_signature    1.000000\n",
              "Length: 169, dtype: float64"
            ]
          },
          "execution_count": 6,
          "metadata": {},
          "output_type": "execute_result"
        }
      ],
      "source": [
        "df.corr().unstack().sort_values(kind=\"quicksort\")"
      ]
    },
    {
      "cell_type": "markdown",
      "metadata": {
        "id": "nn9g9Zd5iP9j"
      },
      "source": [
        "On the bottom of the table, we can see that obviously each variable is perfectly correlated with itself.\n",
        "\n",
        "Once we skip past these values though, we can see that loudness and energy are highly positively correlated, and much more so that most other values.\n",
        "\n",
        "We can also see that acousticness and energy tend to have a negative correlation.\n",
        "\n",
        "This information is useful to know as we start thinking about which variables we want to include in our clustering analysis. It could be redundant, or possibly have an overwhelming effect on our analysis, for example, to include both loudness AND energy."
      ]
    },
    {
      "cell_type": "markdown",
      "metadata": {
        "id": "9Bh3Wuc-iP9j"
      },
      "source": [
        "Visualisations can also be a great way to start understanding our data a bit more at this point."
      ]
    },
    {
      "cell_type": "markdown",
      "metadata": {
        "id": "9o7XrC3CiP9j"
      },
      "source": [
        "You can visualise our correlation matrix above using Seaborn."
      ]
    },
    {
      "cell_type": "code",
      "execution_count": null,
      "metadata": {
        "id": "dQF4btWZiP9j",
        "outputId": "71cebc77-3739-4860-9ca4-40bd38c254a8"
      },
      "outputs": [
        {
          "data": {
            "text/plain": [
              "<matplotlib.axes._subplots.AxesSubplot at 0x237939464c8>"
            ]
          },
          "execution_count": 7,
          "metadata": {},
          "output_type": "execute_result"
        },
        {
          "data": {
            "image/png": "[encoded data removed]",
            "text/plain": [
              "<Figure size 432x288 with 2 Axes>"
            ]
          },
          "metadata": {
            "needs_background": "light"
          },
          "output_type": "display_data"
        }
      ],
      "source": [
        "sns.heatmap(df.corr(),cmap=\"YlOrBr\")"
      ]
    },
    {
      "cell_type": "markdown",
      "metadata": {
        "id": "5fbZPeMbiP9j"
      },
      "source": [
        "Let's start by looking at the distributions of some of our columns."
      ]
    },
    {
      "cell_type": "code",
      "execution_count": null,
      "metadata": {
        "id": "zgR0EkfCiP9j",
        "outputId": "1c602e1f-5cbb-44ea-e647-a779e1e4f74b"
      },
      "outputs": [
        {
          "data": {
            "text/plain": [
              "Index(['id', 'name', 'artists', 'danceability', 'energy', 'key', 'loudness',\n",
              "       'mode', 'speechiness', 'acousticness', 'instrumentalness', 'liveness',\n",
              "       'valence', 'tempo', 'duration_ms', 'time_signature'],\n",
              "      dtype='object')"
            ]
          },
          "execution_count": 8,
          "metadata": {},
          "output_type": "execute_result"
        }
      ],
      "source": [
        "df.columns"
      ]
    },
    {
      "cell_type": "code",
      "execution_count": null,
      "metadata": {
        "scrolled": true,
        "id": "WcpHOu1TiP9k",
        "outputId": "f179f61a-2cc2-4b61-da8d-751614f88233"
      },
      "outputs": [
        {
          "data": {
            "image/png": "[encoded data removed]",
            "text/plain": [
              "<Figure size 1440x720 with 16 Axes>"
            ]
          },
          "metadata": {
            "needs_background": "light"
          },
          "output_type": "display_data"
        }
      ],
      "source": [
        "df[['danceability', 'energy', 'key', 'loudness',\n",
        "       'mode', 'speechiness', 'acousticness', 'instrumentalness', 'liveness',\n",
        "       'valence', 'tempo', 'duration_ms', 'time_signature']].hist(figsize=(20,10))\n",
        "plt.show()"
      ]
    },
    {
      "cell_type": "markdown",
      "metadata": {
        "id": "kl7oqCLAiP9k"
      },
      "source": [
        "These visualisations are interesting.\n",
        "\n",
        "We can see that our dataset tends to have fewer acoustic, live, and \"speechy\" songs. It also looks to have more \"danceable\" songs than not. And there seems to be a broad range of keys represented."
      ]
    },
    {
      "cell_type": "markdown",
      "metadata": {
        "id": "tsEPhZXRiP9k"
      },
      "source": [
        "Let's take two interesting variables and put them on a scatter plot."
      ]
    },
    {
      "cell_type": "code",
      "execution_count": null,
      "metadata": {
        "scrolled": true,
        "id": "F6h9QOZMiP9k",
        "outputId": "0d182c7c-4a89-439d-c1ee-638992df05e0"
      },
      "outputs": [
        {
          "data": {
            "text/plain": [
              "<matplotlib.axes._subplots.AxesSubplot at 0x237947b0788>"
            ]
          },
          "execution_count": 10,
          "metadata": {},
          "output_type": "execute_result"
        },
        {
          "data": {
            "image/png": "[encoded data removed]",
            "text/plain": [
              "<Figure size 432x288 with 1 Axes>"
            ]
          },
          "metadata": {
            "needs_background": "light"
          },
          "output_type": "display_data"
        }
      ],
      "source": [
        "sns.scatterplot(x=df['danceability'], y=df['loudness'])"
      ]
    },
    {
      "cell_type": "markdown",
      "metadata": {
        "id": "udWoQQySiP9k"
      },
      "source": [
        "With this plot, we can see more clearly what our correlation analysis above shows: that there is very little correlation between danceability and loudness."
      ]
    },
    {
      "cell_type": "markdown",
      "metadata": {
        "id": "kPD2JNdZiP9k"
      },
      "source": [
        "<div class=\"alert alert-success\">\n",
        "    <strong>Question 1</strong>\n",
        "    <p>What is the range between the shortest and longest song?</p>\n",
        "</div>"
      ]
    },
    {
      "cell_type": "code",
      "execution_count": null,
      "metadata": {
        "scrolled": false,
        "id": "vHlDrAHOiP9l",
        "outputId": "0092fc1b-5055-419a-9a8f-39c9046a0d47"
      },
      "outputs": [
        {
          "data": {
            "text/plain": [
              "322453.0"
            ]
          },
          "execution_count": 11,
          "metadata": {},
          "output_type": "execute_result"
        }
      ],
      "source": [
        "# The max and min functinos allow us to pull the maximum and minimum values for a column and then subtract them\n",
        "df['duration_ms'].max() - df['duration_ms'].min()"
      ]
    },
    {
      "cell_type": "markdown",
      "metadata": {
        "id": "VTrWagM5iP9l"
      },
      "source": [
        "If we want, we can find out what the longest song is by \"loc\"ating the row with a condition that its duration is equal to the maximum duration."
      ]
    },
    {
      "cell_type": "code",
      "execution_count": null,
      "metadata": {
        "scrolled": false,
        "id": "BV2Qga0MiP9l",
        "outputId": "c5286bd1-e13b-46cf-857f-e021e6b74302"
      },
      "outputs": [
        {
          "data": {
            "text/html": [
              "<div>\n",
              "<style scoped>\n",
              "    .dataframe tbody tr th:only-of-type {\n",
              "        vertical-align: middle;\n",
              "    }\n",
              "\n",
              "    .dataframe tbody tr th {\n",
              "        vertical-align: top;\n",
              "    }\n",
              "\n",
              "    .dataframe thead th {\n",
              "        text-align: right;\n",
              "    }\n",
              "</style>\n",
              "<table border=\"1\" class=\"dataframe\">\n",
              "  <thead>\n",
              "    <tr style=\"text-align: right;\">\n",
              "      <th></th>\n",
              "      <th>id</th>\n",
              "      <th>name</th>\n",
              "      <th>artists</th>\n",
              "      <th>danceability</th>\n",
              "      <th>energy</th>\n",
              "      <th>key</th>\n",
              "      <th>loudness</th>\n",
              "      <th>mode</th>\n",
              "      <th>speechiness</th>\n",
              "      <th>acousticness</th>\n",
              "      <th>instrumentalness</th>\n",
              "      <th>liveness</th>\n",
              "      <th>valence</th>\n",
              "      <th>tempo</th>\n",
              "      <th>duration_ms</th>\n",
              "      <th>time_signature</th>\n",
              "    </tr>\n",
              "  </thead>\n",
              "  <tbody>\n",
              "    <tr>\n",
              "      <td>21</td>\n",
              "      <td>3V8UKqhEK5zBkBb6d6ub8</td>\n",
              "      <td>Te Bot? - Remix</td>\n",
              "      <td>Nio Garcia</td>\n",
              "      <td>0.903</td>\n",
              "      <td>0.675</td>\n",
              "      <td>11.0</td>\n",
              "      <td>-3.445</td>\n",
              "      <td>0.0</td>\n",
              "      <td>0.214</td>\n",
              "      <td>0.542</td>\n",
              "      <td>0.000013</td>\n",
              "      <td>0.0595</td>\n",
              "      <td>0.442</td>\n",
              "      <td>96.507</td>\n",
              "      <td>417920.0</td>\n",
              "      <td>4.0</td>\n",
              "    </tr>\n",
              "  </tbody>\n",
              "</table>\n",
              "</div>"
            ],
            "text/plain": [
              "                       id             name     artists  danceability  energy  \\\n",
              "21  3V8UKqhEK5zBkBb6d6ub8  Te Bot? - Remix  Nio Garcia         0.903   0.675   \n",
              "\n",
              "     key  loudness  mode  speechiness  acousticness  instrumentalness  \\\n",
              "21  11.0    -3.445   0.0        0.214         0.542          0.000013   \n",
              "\n",
              "    liveness  valence   tempo  duration_ms  time_signature  \n",
              "21    0.0595    0.442  96.507     417920.0             4.0  "
            ]
          },
          "execution_count": 12,
          "metadata": {},
          "output_type": "execute_result"
        }
      ],
      "source": [
        "df.loc[df['duration_ms'] == df['duration_ms'].max()]"
      ]
    },
    {
      "cell_type": "markdown",
      "metadata": {
        "id": "MQO7zDAgiP9l"
      },
      "source": [
        "We can do the same to find the shortest song."
      ]
    },
    {
      "cell_type": "code",
      "execution_count": null,
      "metadata": {
        "id": "Ms2F_rqDiP9l",
        "outputId": "b00621fe-83df-47f7-c282-727ce9ffd91b"
      },
      "outputs": [
        {
          "data": {
            "text/html": [
              "<div>\n",
              "<style scoped>\n",
              "    .dataframe tbody tr th:only-of-type {\n",
              "        vertical-align: middle;\n",
              "    }\n",
              "\n",
              "    .dataframe tbody tr th {\n",
              "        vertical-align: top;\n",
              "    }\n",
              "\n",
              "    .dataframe thead th {\n",
              "        text-align: right;\n",
              "    }\n",
              "</style>\n",
              "<table border=\"1\" class=\"dataframe\">\n",
              "  <thead>\n",
              "    <tr style=\"text-align: right;\">\n",
              "      <th></th>\n",
              "      <th>id</th>\n",
              "      <th>name</th>\n",
              "      <th>artists</th>\n",
              "      <th>danceability</th>\n",
              "      <th>energy</th>\n",
              "      <th>key</th>\n",
              "      <th>loudness</th>\n",
              "      <th>mode</th>\n",
              "      <th>speechiness</th>\n",
              "      <th>acousticness</th>\n",
              "      <th>instrumentalness</th>\n",
              "      <th>liveness</th>\n",
              "      <th>valence</th>\n",
              "      <th>tempo</th>\n",
              "      <th>duration_ms</th>\n",
              "      <th>time_signature</th>\n",
              "    </tr>\n",
              "  </thead>\n",
              "  <tbody>\n",
              "    <tr>\n",
              "      <td>94</td>\n",
              "      <td>3GVkPk8mqxz0itaAriG1L</td>\n",
              "      <td>Everybody Dies In Their Nightmares</td>\n",
              "      <td>XXXTENTACION</td>\n",
              "      <td>0.734</td>\n",
              "      <td>0.57</td>\n",
              "      <td>7.0</td>\n",
              "      <td>-7.066</td>\n",
              "      <td>0.0</td>\n",
              "      <td>0.133</td>\n",
              "      <td>0.847</td>\n",
              "      <td>0.000021</td>\n",
              "      <td>0.112</td>\n",
              "      <td>0.689</td>\n",
              "      <td>129.953</td>\n",
              "      <td>95467.0</td>\n",
              "      <td>4.0</td>\n",
              "    </tr>\n",
              "  </tbody>\n",
              "</table>\n",
              "</div>"
            ],
            "text/plain": [
              "                       id                                name       artists  \\\n",
              "94  3GVkPk8mqxz0itaAriG1L  Everybody Dies In Their Nightmares  XXXTENTACION   \n",
              "\n",
              "    danceability  energy  key  loudness  mode  speechiness  acousticness  \\\n",
              "94         0.734    0.57  7.0    -7.066   0.0        0.133         0.847   \n",
              "\n",
              "    instrumentalness  liveness  valence    tempo  duration_ms  time_signature  \n",
              "94          0.000021     0.112    0.689  129.953      95467.0             4.0  "
            ]
          },
          "execution_count": 13,
          "metadata": {},
          "output_type": "execute_result"
        }
      ],
      "source": [
        "df.loc[df['duration_ms'] == df['duration_ms'].min()]"
      ]
    },
    {
      "cell_type": "markdown",
      "metadata": {
        "id": "8qlnGfBYiP9l"
      },
      "source": [
        "<div class=\"alert alert-success\">\n",
        "    <strong>Question 2</strong>\n",
        "    <p>Which song is the most danceable?</p>\n",
        "</div>"
      ]
    },
    {
      "cell_type": "markdown",
      "metadata": {
        "id": "QhAxHt2TiP9m"
      },
      "source": [
        "We can use similar code above to find the most danceable song."
      ]
    },
    {
      "cell_type": "code",
      "execution_count": null,
      "metadata": {
        "id": "Y0Q-8ML2iP9m",
        "outputId": "93f8d066-28fe-4c5b-c88f-f380d6fb14d7"
      },
      "outputs": [
        {
          "data": {
            "text/html": [
              "<div>\n",
              "<style scoped>\n",
              "    .dataframe tbody tr th:only-of-type {\n",
              "        vertical-align: middle;\n",
              "    }\n",
              "\n",
              "    .dataframe tbody tr th {\n",
              "        vertical-align: top;\n",
              "    }\n",
              "\n",
              "    .dataframe thead th {\n",
              "        text-align: right;\n",
              "    }\n",
              "</style>\n",
              "<table border=\"1\" class=\"dataframe\">\n",
              "  <thead>\n",
              "    <tr style=\"text-align: right;\">\n",
              "      <th></th>\n",
              "      <th>id</th>\n",
              "      <th>name</th>\n",
              "      <th>artists</th>\n",
              "      <th>danceability</th>\n",
              "      <th>energy</th>\n",
              "      <th>key</th>\n",
              "      <th>loudness</th>\n",
              "      <th>mode</th>\n",
              "      <th>speechiness</th>\n",
              "      <th>acousticness</th>\n",
              "      <th>instrumentalness</th>\n",
              "      <th>liveness</th>\n",
              "      <th>valence</th>\n",
              "      <th>tempo</th>\n",
              "      <th>duration_ms</th>\n",
              "      <th>time_signature</th>\n",
              "    </tr>\n",
              "  </thead>\n",
              "  <tbody>\n",
              "    <tr>\n",
              "      <td>91</td>\n",
              "      <td>6vN77lE9LK6HP2DewaN6H</td>\n",
              "      <td>Yes Indeed</td>\n",
              "      <td>Lil Baby</td>\n",
              "      <td>0.964</td>\n",
              "      <td>0.346</td>\n",
              "      <td>5.0</td>\n",
              "      <td>-9.309</td>\n",
              "      <td>0.0</td>\n",
              "      <td>0.53</td>\n",
              "      <td>0.035</td>\n",
              "      <td>0.0</td>\n",
              "      <td>0.108</td>\n",
              "      <td>0.562</td>\n",
              "      <td>119.958</td>\n",
              "      <td>142273.0</td>\n",
              "      <td>4.0</td>\n",
              "    </tr>\n",
              "  </tbody>\n",
              "</table>\n",
              "</div>"
            ],
            "text/plain": [
              "                       id        name   artists  danceability  energy  key  \\\n",
              "91  6vN77lE9LK6HP2DewaN6H  Yes Indeed  Lil Baby         0.964   0.346  5.0   \n",
              "\n",
              "    loudness  mode  speechiness  acousticness  instrumentalness  liveness  \\\n",
              "91    -9.309   0.0         0.53         0.035               0.0     0.108   \n",
              "\n",
              "    valence    tempo  duration_ms  time_signature  \n",
              "91    0.562  119.958     142273.0             4.0  "
            ]
          },
          "execution_count": 14,
          "metadata": {},
          "output_type": "execute_result"
        }
      ],
      "source": [
        "df.loc[df['danceability'] == df['danceability'].max()]"
      ]
    },
    {
      "cell_type": "markdown",
      "metadata": {
        "id": "64sso4tIiP9m"
      },
      "source": [
        "<div class=\"alert alert-success\">\n",
        "    <strong>Question 3</strong>\n",
        "    <p>Which artist has the most songs in the Top 100?</p>\n",
        "</div>"
      ]
    },
    {
      "cell_type": "markdown",
      "metadata": {
        "id": "XY_vxQXTiP9m"
      },
      "source": [
        "value_counts() allows us to find how many times an entry is made in a particular column."
      ]
    },
    {
      "cell_type": "code",
      "execution_count": null,
      "metadata": {
        "scrolled": false,
        "id": "I0MwY9T0iP9m",
        "outputId": "2a94dc14-8d5c-4bf9-91b9-07131c83cf66"
      },
      "outputs": [
        {
          "data": {
            "text/plain": [
              "Post Malone     6\n",
              "XXXTENTACION    6\n",
              "Drake           4\n",
              "Ed Sheeran      3\n",
              "Marshmello      3\n",
              "               ..\n",
              "Jonas Blue      1\n",
              "Zedd            1\n",
              "Loud Luxury     1\n",
              "Anne-Marie      1\n",
              "Dean Lewis      1\n",
              "Name: artists, Length: 70, dtype: int64"
            ]
          },
          "execution_count": 15,
          "metadata": {},
          "output_type": "execute_result"
        }
      ],
      "source": [
        "df['artists'].value_counts()"
      ]
    },
    {
      "cell_type": "markdown",
      "metadata": {
        "id": "S5zcTuF7iP9m"
      },
      "source": [
        "We can see that Post Malone and XXXTENTACION are tied for the most songs in the top 100."
      ]
    },
    {
      "cell_type": "markdown",
      "metadata": {
        "id": "8_jwO7VYiP9n"
      },
      "source": [
        "<div class=\"alert alert-success\">\n",
        "    <strong>Question 4</strong>\n",
        "    <p>Which way does the acousticness feature skew?</p>\n",
        "</div>"
      ]
    },
    {
      "cell_type": "markdown",
      "metadata": {
        "id": "P6prMgJXiP9n"
      },
      "source": [
        "We can use a histogram to find which way a feature skews. An alternate way of creating histograms to the method above can be found below."
      ]
    },
    {
      "cell_type": "code",
      "execution_count": null,
      "metadata": {
        "scrolled": true,
        "id": "x8OZLHMSiP9n",
        "outputId": "3eaf9b58-c57b-4684-8e65-d83cfe0e2a79"
      },
      "outputs": [
        {
          "data": {
            "image/png": "[encoded data removed]",
            "text/plain": [
              "<Figure size 1080x432 with 1 Axes>"
            ]
          },
          "metadata": {
            "needs_background": "light"
          },
          "output_type": "display_data"
        }
      ],
      "source": [
        "plt.figure(1 , figsize = (15 , 6))\n",
        "plt.subplots_adjust(hspace =0.5 , wspace = 0.5)\n",
        "sns.distplot(df['acousticness'] , bins = 20)\n",
        "plt.title('Distplot of acousticness')\n",
        "plt.show()"
      ]
    },
    {
      "cell_type": "markdown",
      "metadata": {
        "id": "DsMx468piP9n"
      },
      "source": [
        "From this Seaborn chart, we can see that acousticness skews right (or has a positive skew)."
      ]
    },
    {
      "cell_type": "markdown",
      "metadata": {
        "id": "_TJCJSZMiP9n"
      },
      "source": [
        "## Transform the data"
      ]
    },
    {
      "cell_type": "markdown",
      "metadata": {
        "id": "5BTWjSpmiP9n"
      },
      "source": [
        "<div class=\"alert alert-warning\">\n",
        "    <p>Use this section to process your data appropriately before putting it into your model. The documentation for <a href=\"https://scikit-learn.org/stable/modules/generated/sklearn.cluster.KMeans.html\">KMeans</a> from scikit-learn might be helpful.</p>\n",
        "\n",
        "<p>Some things to consider:</p>\n",
        "    <ul>\n",
        "        <li>Which variables do you want to consider in your analysis? Why or why not?</li>\n",
        "        <li>Do you need to transform any of the columns from one data type to another?</li>\n",
        "        <li>Do you want to try making multiple models with different variable combinations?</li>\n",
        "        <li>Do you need to <a href=\"https://medium.com/greyatom/why-how-and-when-to-scale-your-features-4b30ab09db5e\">scale your data</a>? <a href=\"https://scikit-learn.org/stable/modules/preprocessing.html#standardization-or-mean-removal-and-variance-scaling\">Which scalar</a> do you want to use?</li>\n",
        "    </ul>\n",
        "<p>Be sure to thoroughly explain your analysis around the code you write. Also, trying answering the questions in green.</p>\n",
        "</div>"
      ]
    },
    {
      "cell_type": "markdown",
      "metadata": {
        "id": "owLQXuIFiP9n"
      },
      "source": [
        "Before we do our analysis, we need to prepare our data.\n",
        "\n",
        "Given our evaluation in the last section, I'm going to try a handful of different combinations of features for my model:\n",
        "1. Try every genuine float feature\n",
        "2. Select three random variables\n",
        "\n",
        "Trial and error is often a good starting point."
      ]
    },
    {
      "cell_type": "markdown",
      "metadata": {
        "id": "IGBiYCapiP9o"
      },
      "source": [
        "To this end, the next few pieces of code will set our data up along these lines."
      ]
    },
    {
      "cell_type": "code",
      "execution_count": null,
      "metadata": {
        "id": "wiOUOcGNiP9o",
        "outputId": "0690eb75-c1a0-4a3e-ec32-1816f90c3c7b"
      },
      "outputs": [
        {
          "data": {
            "text/plain": [
              "Index(['id', 'name', 'artists', 'danceability', 'energy', 'key', 'loudness',\n",
              "       'mode', 'speechiness', 'acousticness', 'instrumentalness', 'liveness',\n",
              "       'valence', 'tempo', 'duration_ms', 'time_signature'],\n",
              "      dtype='object')"
            ]
          },
          "execution_count": 17,
          "metadata": {},
          "output_type": "execute_result"
        }
      ],
      "source": [
        "df.columns"
      ]
    },
    {
      "cell_type": "code",
      "execution_count": null,
      "metadata": {
        "id": "t8zvvj1riP9o"
      },
      "outputs": [],
      "source": [
        "# select all float columns\n",
        "columns_1 = ['danceability', 'energy', 'loudness',\n",
        "             'speechiness', 'acousticness', 'instrumentalness', 'liveness',\n",
        "             'valence', 'tempo', 'duration_ms']\n",
        "# select 3 variables\n",
        "columns_2 = ['danceability', 'speechiness', 'liveness']"
      ]
    },
    {
      "cell_type": "markdown",
      "metadata": {
        "id": "aqc2EZWPiP9o"
      },
      "source": [
        "Now I'll scale the data using scale from sklearn.preprocessing"
      ]
    },
    {
      "cell_type": "code",
      "execution_count": null,
      "metadata": {
        "id": "gQ8seDe5iP9o"
      },
      "outputs": [],
      "source": [
        "scaled_data_1 = scale(df[columns_1])\n",
        "scaled_data_2 = scale(df[columns_2])"
      ]
    },
    {
      "cell_type": "code",
      "execution_count": null,
      "metadata": {
        "id": "2aFOYCSGiP9o",
        "outputId": "1e38fce0-e7ff-4a6b-ae0c-ecdfe7f9e12a"
      },
      "outputs": [
        {
          "data": {
            "text/plain": [
              "array([[ 2.87854418e-01, -1.45531381e+00, -1.99775342e+00,\n",
              "        -6.31616047e-02, -7.39183533e-01, -1.12147339e-01,\n",
              "         3.54356657e+00, -6.21334170e-01, -1.49154384e+00,\n",
              "        -1.56598713e-01],\n",
              "       [ 1.80503277e-01, -3.19107656e-01,  4.50983777e-01,\n",
              "         2.82982066e-01,  2.83383288e-01,  1.59655675e-01,\n",
              "        -3.17743517e-01, -5.57890736e-02, -1.56644356e+00,\n",
              "        -9.69689736e-01],\n",
              "       [-9.92691342e-01, -8.59498390e-01, -2.33147372e-01,\n",
              "        -2.47771562e-01, -3.57995367e-01, -1.13440180e-01,\n",
              "        -2.45737735e-01, -1.67929353e+00,  1.39408485e+00,\n",
              "         3.25071113e-01],\n",
              "       [ 1.72835338e-01, -6.93224318e-01, -1.31927625e+00,\n",
              "         1.37592109e-02,  1.74809199e+00, -1.18342514e-01,\n",
              "        -4.16751468e-01, -2.21552292e-01,  7.05712435e-01,\n",
              "         4.07794527e-01],\n",
              "       [ 9.08957452e-01, -2.29042534e-01, -8.78401779e-02,\n",
              "         9.06800265e-02, -6.22279764e-01, -1.13858672e-01,\n",
              "         2.13945381e+00, -6.55461892e-01, -1.00776703e+00,\n",
              "         3.19494254e-01],\n",
              "       [-2.79573044e-01, -6.65511973e-01, -9.34941544e-02,\n",
              "        -6.74682089e-01,  7.20066628e-01, -1.18342514e-01,\n",
              "        -2.00734120e-01, -5.38452561e-01,  8.76871910e-01,\n",
              "         6.54658477e-01],\n",
              "       [ 7.63266617e-01,  4.63766099e-01,  9.49664498e-01,\n",
              "         1.29140434e-01, -4.39873494e-01, -1.18342514e-01,\n",
              "         1.92343647e+00,  8.07154738e-01,  5.63451827e-01,\n",
              "         1.21041010e+00],\n",
              "       [ 5.71568150e-01,  1.40598584e+00,  1.37823591e+00,\n",
              "        -5.35465028e-02, -7.21898151e-01, -1.16705911e-01,\n",
              "        -6.92173587e-01,  5.24382189e-01,  1.42742954e-01,\n",
              "         2.42171852e-01],\n",
              "       [ 9.16625390e-01, -7.97145613e-01, -1.68126643e-01,\n",
              "        -2.04503603e-01, -7.06887161e-01, -1.18342514e-01,\n",
              "        -6.83172864e-01,  1.24600311e-01, -7.98424748e-01,\n",
              "         3.20046915e-01],\n",
              "       [-6.93641734e-01,  1.53069139e+00,  1.86221630e+00,\n",
              "        -6.26606579e-01,  4.22976942e-02, -1.18342514e-01,\n",
              "        -2.72739903e-01,  2.41609641e-01, -8.66448772e-01,\n",
              "        -6.49573487e-02],\n",
              "       [ 3.72201744e-01, -9.42635426e-01,  7.60256288e-01,\n",
              "        -8.22754659e-01, -5.32267864e-02, -1.15682101e-01,\n",
              "        -2.36737012e-01, -4.40944786e-01, -5.20604719e-01,\n",
              "         3.03969483e-01],\n",
              "       [-1.57545468e+00, -6.44727714e-01, -8.77700686e-01,\n",
              "         8.11812673e-01,  6.97322704e-01, -1.18342514e-01,\n",
              "         1.63541334e+00, -1.29901321e+00, -1.25651368e+00,\n",
              "         8.69920225e-01],\n",
              "       [-1.00035928e+00,  1.73160590e+00, -4.50260068e-01,\n",
              "        -4.33343030e-01, -4.84906463e-01, -1.10196868e-01,\n",
              "        -3.53746408e-01,  1.32882134e+00, -9.25258665e-01,\n",
              "         1.39175801e-01],\n",
              "       [ 1.03164447e+00, -8.17929872e-01, -6.48714641e-01,\n",
              "        -6.25645069e-01,  1.69350657e+00, -1.18342514e-01,\n",
              "        -2.54738457e-01, -1.77673793e-01,  1.76423397e-01,\n",
              "         7.62126064e-01],\n",
              "       [ 2.80186480e-01, -1.42718578e-02,  1.47944209e+00,\n",
              "        -6.79489640e-01, -1.12360989e-01, -1.18342514e-01,\n",
              "        -4.16751468e-01, -2.31303069e-01, -4.50032847e-01,\n",
              "        -5.14346705e-01],\n",
              "       [-1.41550148e-01, -1.80545930e-01,  4.13667532e-01,\n",
              "        -5.37186131e-01, -6.15001708e-01, -1.03844759e-01,\n",
              "        -5.91365491e-01,  3.29366639e-01, -8.02054557e-01,\n",
              "         6.77769786e-01],\n",
              "       [-1.33882209e-01,  3.73700977e-01,  9.64794539e-02,\n",
              "        -5.40070662e-01, -7.08251796e-01, -1.18110101e-01,\n",
              "         1.22138009e+00, -6.35960337e-01,  7.29040242e-02,\n",
              "         1.79167912e-02],\n",
              "       [-9.31347833e-01,  7.89386156e-01,  5.32401037e-01,\n",
              "        -5.83338620e-01, -7.24627421e-01, -3.76333621e-02,\n",
              "         1.58140900e+00,  1.10455345e+00,  2.10001298e+00,\n",
              "        -7.93290157e-01],\n",
              "       [ 1.56840018e+00, -8.45642217e-01, -2.56464371e-02,\n",
              "        -3.38153521e-01,  1.63892116e+00,  1.83569498e-01,\n",
              "        -5.06758696e-01,  1.10455345e+00,  2.82874539e-01,\n",
              "        -1.76140280e+00],\n",
              "       [ 1.57606812e+00, -5.40806419e-01, -1.02753106e+00,\n",
              "         1.48486981e+00, -8.85472452e-01, -1.13963295e-01,\n",
              "        -4.79756528e-01,  5.39008356e-01,  7.02152429e-01,\n",
              "        -6.01491413e-01],\n",
              "       [-4.86607389e-01,  1.03879726e+00,  9.16306037e-01,\n",
              "        -6.55451885e-01, -7.73893854e-03, -1.18342514e-01,\n",
              "         6.02868415e-02,  3.19615861e-01, -9.66477944e-01,\n",
              "         1.39828947e-01],\n",
              "       [ 1.43037728e+00,  1.10433696e-01,  1.26232940e+00,\n",
              "         9.46424100e-01,  1.57523817e+00, -1.17385961e-01,\n",
              "        -8.89289416e-01, -2.06926125e-01, -8.16608697e-01,\n",
              "         5.34356627e+00],\n",
              "       [-4.95348839e-02,  9.00235538e-01,  1.01977381e+00,\n",
              "        -4.16997357e-01, -8.16967753e-01, -1.18135510e-01,\n",
              "         2.63449357e+00,  1.13380578e+00,  8.03612583e-01,\n",
              "        -1.86253990e+00],\n",
              "       [-9.23679894e-01,  1.35056115e+00,  3.18680728e-01,\n",
              "         3.34058449e+00, -8.13328725e-01, -1.18342514e-01,\n",
              "        -3.08742794e-01, -1.62078887e+00,  1.29074627e-02,\n",
              "        -4.49359211e-02],\n",
              "       [ 3.49197928e-01,  2.83635854e-01, -1.94134935e-01,\n",
              "        -4.43919642e-01, -8.78330859e-01, -1.17176715e-01,\n",
              "        -4.77218324e-02,  6.02388410e-01, -1.33715897e-01,\n",
              "         1.03328151e-01],\n",
              "       [ 8.32278065e-01, -4.89122895e-02,  1.41046358e+00,\n",
              "        -3.40076541e-01,  1.75264078e+00, -1.18342514e-01,\n",
              "        -5.86865130e-01,  2.17713898e+00, -8.35106764e-01,\n",
              "         7.16104414e-01],\n",
              "       [-6.48707613e-02, -7.66246348e-02,  2.91971343e-02,\n",
              "        -6.79489640e-01, -4.55339362e-01, -1.18342514e-01,\n",
              "        -2.18735566e-01, -7.13966557e-01,  8.39422049e-01,\n",
              "        -8.79179318e-02],\n",
              "       [-5.70954715e-01,  7.82458070e-01, -5.27154147e-01,\n",
              "        -2.95847072e-01, -6.73681032e-01, -1.18342514e-01,\n",
              "        -8.43385730e-01,  5.09756023e-01,  1.18983827e+00,\n",
              "        -1.03000523e+00],\n",
              "       [ 1.19267118e+00, -1.85714282e+00, -1.95987178e+00,\n",
              "         1.21564696e+00,  1.24317688e+00, -1.18033876e-01,\n",
              "         1.24838225e+00, -2.31303069e-01,  4.92705445e-01,\n",
              "        -2.16225841e+00],\n",
              "       [-9.00676078e-01, -1.46224190e+00, -3.58665649e-01,\n",
              "        -8.88137352e-01, -1.48751267e-01, -1.18342514e-01,\n",
              "        -4.70755805e-01, -1.54278265e+00, -8.67460931e-01,\n",
              "         1.46187119e+00],\n",
              "       [ 1.28468645e+00, -6.93224318e-01, -9.97564987e-01,\n",
              "         4.26045168e-02, -7.82851867e-01, -1.18342514e-01,\n",
              "        -5.15759419e-01, -6.94465002e-01, -7.64709402e-01,\n",
              "         6.97163189e-01],\n",
              "       [ 1.57499461e-01, -1.59761671e-01,  6.39826590e-01,\n",
              "        -6.91027762e-01, -6.89601779e-01, -1.13365449e-01,\n",
              "         1.72542056e+00,  3.92746693e-01, -5.20011384e-01,\n",
              "         4.38266286e-01],\n",
              "       [-1.23039744e+00, -8.38714131e-01,  1.52453821e-01,\n",
              "        -7.43910823e-01, -5.76791916e-01, -1.18342514e-01,\n",
              "         3.39309249e-01, -9.43109829e-01,  8.39247539e-01,\n",
              "         4.55700251e-01],\n",
              "       [-9.54351649e-01,  2.21283077e-01, -1.51320764e+00,\n",
              "         7.73352265e-01, -1.80592761e-01, -1.17611648e-01,\n",
              "         2.33746972e+00, -1.97376701e+00, -6.95533611e-01,\n",
              "        -1.22105034e+00],\n",
              "       [ 7.31521351e-02,  1.59304417e+00,  1.14359589e+00,\n",
              "        -6.98719844e-01, -7.41003047e-01, -1.18342514e-01,\n",
              "        -5.92265563e-01,  8.02279349e-01, -8.33466369e-01,\n",
              "        -7.90979027e-01],\n",
              "       [-1.19972569e+00,  1.45074128e-01, -1.11403690e+00,\n",
              "         1.97524001e+00,  1.63437237e+00, -1.18342514e-01,\n",
              "        -3.80748577e-01, -8.06598943e-01, -1.06497143e+00,\n",
              "        -7.88969348e-01],\n",
              "       [-6.09294408e-01,  3.73700977e-01,  7.60256288e-01,\n",
              "        -3.92959602e-01, -6.68731408e-02, -7.07390604e-02,\n",
              "        -1.91733398e-01, -1.17712849e+00,  3.49676993e-01,\n",
              "         5.46788954e-01],\n",
              "       [ 2.71445029e-02,  1.02494109e+00,  6.14949093e-01,\n",
              "        -6.95835313e-01, -3.03409950e-01, -1.18342514e-01,\n",
              "         2.22299852e-01, -8.74854386e-01,  1.75969671e-01,\n",
              "        -1.81217282e-01],\n",
              "       [-3.63920370e-01, -2.43217399e+00, -2.48229920e+00,\n",
              "        -8.32369761e-01,  3.12637378e+00, -1.18342514e-01,\n",
              "        -5.39161299e-01,  1.73354198e-01, -1.91856998e+00,\n",
              "        -2.09307520e+00],\n",
              "       [-1.72221903e-01,  7.68601897e-01,  1.93727849e-01,\n",
              "         3.21442473e-01, -8.96170648e-02, -1.17520476e-01,\n",
              "        -3.62747131e-01, -1.56715959e+00,  2.09440702e-01,\n",
              "        -5.18667515e-01],\n",
              "       [ 2.41846786e-01,  6.23112084e-01, -1.34768182e-01,\n",
              "         3.85018489e+00, -2.44275748e-01, -1.18342514e-01,\n",
              "        -7.83080887e-01,  8.51033237e-01, -1.04057492e+00,\n",
              "         3.97067865e-01],\n",
              "       [ 5.71568150e-01,  1.30899263e+00,  1.25611002e+00,\n",
              "        -6.24683559e-01, -5.77755712e-02, -1.18342514e-01,\n",
              "         2.25646321e+00,  1.67497394e+00, -8.69206031e-01,\n",
              "        -1.18741384e-01],\n",
              "       [ 9.01289513e-01,  4.91478444e-01,  1.11023743e+00,\n",
              "         1.02334492e+00, -8.66867922e-01, -1.18342514e-01,\n",
              "        -3.08742794e-01, -1.87424570e-01,  1.22519401e+00,\n",
              "         2.70335042e+00],\n",
              "       [-8.54668446e-01,  1.12886239e+00,  4.77557466e-01,\n",
              "        -6.90066252e-01, -8.59680842e-01,  9.89557074e+00,\n",
              "        -1.01726169e-01, -9.57735995e-01,  1.67853626e+00,\n",
              "        -4.53679519e-01],\n",
              "       [ 4.64217008e-01,  8.30954674e-01,  6.94670161e-01,\n",
              "        -1.76619808e-01, -6.43204174e-01, -1.18342514e-01,\n",
              "         4.29962729e+00,  1.38245061e+00, -9.03305299e-01,\n",
              "         4.13145297e-01],\n",
              "       [ 2.34178847e-01,  1.21199942e+00,  1.58912923e+00,\n",
              "        -6.78528130e-01,  8.11042324e-01, -1.18342514e-01,\n",
              "        -8.97390067e-01,  9.87544122e-01,  2.82734931e-01,\n",
              "         2.65107314e-01],\n",
              "       [-9.55425160e-02,  1.38520158e+00,  4.52679970e-01,\n",
              "        -1.53543563e-01, -8.06050669e-01, -1.18342514e-01,\n",
              "        -1.23131688e+00,  2.15276204e+00, -5.16172163e-01,\n",
              "         3.03517305e-01],\n",
              "       [-8.85340201e-01,  4.49909926e-01,  4.64553320e-01,\n",
              "        -6.43913763e-01, -4.60343025e-01, -1.18216966e-01,\n",
              "        -3.44745686e-01,  1.14849533e-01, -6.22762913e-01,\n",
              "         6.77819526e-02],\n",
              "       [-4.63603573e-01,  4.29125667e-01,  7.14662622e-03,\n",
              "         6.18347207e-02,  4.65334680e-01, -1.18342514e-01,\n",
              "         1.32292624e-01, -8.01660175e-02,  9.82904227e-01,\n",
              "         1.73666918e-01],\n",
              "       [-1.74414933e+00, -4.23028951e-01,  4.23279292e-01,\n",
              "        -7.65064047e-01,  1.01431896e-01, -1.18342514e-01,\n",
              "         1.72542056e+00, -1.52328109e+00,  4.93543093e-01,\n",
              "         5.81958338e-01],\n",
              "       [ 1.25401469e+00, -1.60080363e+00, -1.47136821e+00,\n",
              "         8.69503285e-01, -2.12434254e-01, -1.14553667e-01,\n",
              "        -3.98750023e-01, -7.38343501e-01, -6.94451649e-01,\n",
              "        -8.14090336e-01],\n",
              "       [-2.25897474e-01,  9.21019797e-01,  1.65584616e+00,\n",
              "        -6.76605109e-01, -2.13852929e-02, -1.18342514e-01,\n",
              "         7.82882871e-02,  9.09537902e-01, -6.94172433e-01,\n",
              "         2.28179462e-01],\n",
              "       [-1.41550148e-01, -1.96799220e+00, -1.47080281e+00,\n",
              "        -6.39106212e-01,  2.07560450e+00, -1.18342514e-01,\n",
              "         1.32292624e-01,  2.41609641e-01, -9.76704234e-01,\n",
              "        -1.05678470e-01],\n",
              "       [ 2.95522357e-01, -4.16100865e-01,  3.59389358e-01,\n",
              "         1.04257512e+00, -2.21531824e-01, -1.18342514e-01,\n",
              "        -4.43753637e-01,  1.31907056e+00,  4.61363437e-01,\n",
              "         2.87012816e-01],\n",
              "       [ 4.56549069e-01,  8.37882761e-01,  7.37074984e-01,\n",
              "         1.19525332e-01, -6.07268774e-01, -1.18342514e-01,\n",
              "        -6.95773876e-01,  8.85160958e-01,  1.76074377e-01,\n",
              "        -2.15985232e-02],\n",
              "       [ 1.64507957e+00, -1.88485517e+00, -1.95026002e+00,\n",
              "         2.85021429e+00, -4.89910126e-01, -1.18342514e-01,\n",
              "        -2.00734120e-01, -5.28701784e-01,  2.11988549e-01,\n",
              "        -6.48166209e-01],\n",
              "       [-2.25897474e-01,  8.72523192e-01,  5.81025235e-01,\n",
              "        -7.91024823e-01,  5.97249439e-01, -1.18342514e-01,\n",
              "         4.02314309e-01,  8.31531682e-01, -4.83678388e-01,\n",
              "        -2.71276024e-01],\n",
              "       [ 2.72518541e-01,  7.27033379e-01,  7.22940043e-01,\n",
              "        -7.45833843e-01, -6.73681032e-01, -1.11287936e-01,\n",
              "        -9.36093175e-01,  4.75628302e-01,  7.16824538e-02,\n",
              "        -1.05484989e+00],\n",
              "       [ 1.19159767e-01,  6.30040171e-01, -3.89197122e-01,\n",
              "         1.10988083e+00, -8.78194396e-01, -1.18342514e-01,\n",
              "        -4.43753637e-01, -4.06817065e-01,  1.22826538e+00,\n",
              "        -5.65216706e-01],\n",
              "       [ 5.71568150e-01,  5.95399739e-01,  1.12097998e+00,\n",
              "        -6.65066987e-01,  7.20066628e-01, -1.16152904e-01,\n",
              "        -4.88757251e-01,  1.63597083e+00, -9.03619417e-01,\n",
              "        -4.18183563e-01],\n",
              "       [-1.49218087e-01,  1.65858387e-01,  1.58121367e+00,\n",
              "         1.37592109e-02, -7.20988394e-01, -1.18342514e-01,\n",
              "        -1.91733398e-01,  5.78011466e-01, -8.29662050e-01,\n",
              "        -4.57698877e-01],\n",
              "       [ 1.49938873e+00, -1.71165301e+00, -1.35489630e+00,\n",
              "         8.10649246e-02, -8.15603117e-01,  8.53156533e-01,\n",
              "        -4.88757251e-01, -3.04433901e-01,  1.22432146e+00,\n",
              "         8.39222377e-01],\n",
              "       [ 6.17575782e-01, -8.73354563e-01, -2.29684877e+00,\n",
              "        -7.15065517e-01, -8.11964089e-01, -1.06983448e-01,\n",
              "        -4.97757974e-01, -7.57845056e-01,  3.88522934e-01,\n",
              "        -1.47426990e+00],\n",
              "       [-7.24313488e-01,  3.66772890e-01, -9.29151872e-01,\n",
              "        -4.76610989e-01, -6.29557819e-01, -1.18342514e-01,\n",
              "        -2.54738457e-01,  1.24663691e-02,  7.02257135e-01,\n",
              "         1.54574967e-01],\n",
              "       [-1.50644323e+00,  7.06249120e-01,  1.46134937e+00,\n",
              "        -2.91039521e-01,  2.74285718e-01, -1.17971849e-01,\n",
              "         1.05290456e-01, -9.67486773e-01,  7.70176454e-01,\n",
              "        -6.12544648e-01],\n",
              "       [-8.77672262e-01, -7.34377151e-03, -1.44945340e-01,\n",
              "        -5.74685029e-01, -7.84216502e-01, -1.13858672e-01,\n",
              "         7.08338885e-01, -1.05524377e+00,  8.76976616e-01,\n",
              "        -1.92421242e-01],\n",
              "       [-2.71905106e-01,  8.93307451e-01,  7.65910264e-01,\n",
              "        -3.56422214e-01, -6.70951761e-01, -1.18342514e-01,\n",
              "        -7.47077996e-01,  1.72860321e+00,  1.74910813e+00,\n",
              "         3.74559460e-01],\n",
              "       [-6.55302040e-01, -6.96965485e-02, -1.21198639e-01,\n",
              "        -7.41026293e-01, -5.18567470e-01, -1.18058537e-01,\n",
              "        -5.84164913e-01, -3.09309289e-01, -9.05853146e-01,\n",
              "        -2.64443115e-01],\n",
              "       [ 6.32911659e-01, -4.29957038e-01,  3.09068968e-01,\n",
              "        -5.23724988e-01, -5.31758946e-01, -1.17919538e-01,\n",
              "        -5.24760142e-01, -3.19060067e-01, -3.45640924e-01,\n",
              "        -1.34592728e-01],\n",
              "       [ 9.54965084e-01,  9.62588315e-01,  8.32061789e-01,\n",
              "         1.09065063e+00, -1.94239115e-01, -1.18093661e-01,\n",
              "        -8.68587754e-01,  5.19506801e-01, -8.36118922e-01,\n",
              "         1.83212893e-01],\n",
              "       [-4.09928002e-01,  3.39060545e-01,  8.61462466e-01,\n",
              "        -6.56413395e-01, -7.36909140e-01, -1.18342514e-01,\n",
              "        -6.67871635e-01,  1.25569050e+00, -5.87442075e-01,\n",
              "        -7.63848359e-01],\n",
              "       [ 6.48247536e-01,  9.41804056e-01,  3.18115330e-01,\n",
              "        -6.26606579e-01, -7.00518862e-01, -1.09897945e-01,\n",
              "        -7.79480598e-01,  1.31419517e+00, -1.42666099e+00,\n",
              "        -1.05392041e+00],\n",
              "       [ 1.42163583e-01,  1.24289869e-01,  3.95009410e-01,\n",
              "        -2.17003236e-01, -5.43585787e-01, -1.16720858e-01,\n",
              "        -4.25752191e-01, -1.44527487e+00, -6.74313187e-01,\n",
              "         1.56584646e-01],\n",
              "       [ 1.47638491e+00, -2.15186361e-01,  1.25314734e-01,\n",
              "         8.21427775e-01, -5.54047992e-01, -1.18342514e-01,\n",
              "        -4.52754359e-01, -3.82440121e-01,  9.07480976e-01,\n",
              "         1.78208842e+00],\n",
              "       [-9.77355465e-01,  4.98406531e-01, -3.76192976e-01,\n",
              "        -2.76616868e-01, -6.47298080e-01, -1.18342514e-01,\n",
              "         1.34739021e+00, -1.43064871e+00, -1.11673111e+00,\n",
              "         1.59920763e+00],\n",
              "       [-3.56252431e-01, -3.50561168e-02, -1.50599316e-01,\n",
              "         3.59902881e-01,  1.96188488e+00, -1.18266288e-01,\n",
              "        -7.85781104e-01, -2.26427680e-01,  2.09830278e+00,\n",
              "         5.60856708e-01],\n",
              "       [-6.62969979e-01,  1.00415683e+00,  8.45065934e-01,\n",
              "        -7.62179517e-01,  8.77855420e-02, -1.18342514e-01,\n",
              "         8.52350450e-01,  3.68433129e-02,  1.13146046e-01,\n",
              "         3.78980754e-01],\n",
              "       [ 5.79236088e-01,  1.63461269e+00,  1.45060681e+00,\n",
              "        -5.44878213e-01, -1.39653697e-01, -1.18342514e-01,\n",
              "        -9.73896211e-01,  1.50921072e+00, -8.70322896e-01,\n",
              "        -9.24648307e-02],\n",
              "       [ 7.47930739e-01,  1.06650961e+00,  1.50092720e+00,\n",
              "        -5.71800498e-01, -7.53739644e-01, -1.11370140e-01,\n",
              "         8.70351896e-01,  1.72860321e+00, -1.39284094e+00,\n",
              "         6.86888705e-01],\n",
              "       [ 1.22334294e+00, -9.70347771e-01, -4.82487733e-01,\n",
              "         2.63751862e-01,  2.86513398e-02, -1.18342514e-01,\n",
              "        -4.52754359e-01, -1.59153653e+00, -8.69869170e-01,\n",
              "        -7.53046335e-01],\n",
              "       [-2.80232487e+00, -2.51531102e+00, -2.50548050e+00,\n",
              "        -7.91024823e-01,  3.35836181e+00, -1.18342514e-01,\n",
              "        -5.69763756e-01, -1.77680131e+00, -1.61253586e-01,\n",
              "        -1.26126955e-01],\n",
              "       [ 7.55598678e-01,  1.08729387e+00,  1.15137576e-01,\n",
              "         1.47525471e+00, -8.76602321e-01, -1.18342514e-01,\n",
              "         6.28250453e-03,  6.60956455e-02,  2.16611739e+00,\n",
              "        -3.74774495e-01],\n",
              "       [ 1.46871698e+00, -2.63682966e-01, -5.42985281e-01,\n",
              "        -1.30467318e-01, -8.88920430e-01, -1.14314529e-01,\n",
              "        -5.62563178e-01, -3.09309289e-01,  1.05078864e+00,\n",
              "        -7.08582186e-01],\n",
              "       [ 2.87854418e-01,  1.01108492e+00,  8.07749690e-01,\n",
              "        -3.88152051e-01,  5.42664021e-01, -1.18342514e-01,\n",
              "         4.02314309e-01,  3.43992805e-01, -9.04701379e-01,\n",
              "        -7.30362082e-01],\n",
              "       [-9.92691342e-01, -2.49452676e+00, -9.54029368e-01,\n",
              "        -8.58330536e-01,  2.65330016e+00, -1.18342514e-01,\n",
              "        -3.17743517e-01, -6.26209559e-01, -8.69485248e-01,\n",
              "         1.36515538e+00],\n",
              "       [ 4.24803803e-02,  5.46903135e-01, -2.23535612e-01,\n",
              "         1.26372246e+00,  6.01798223e-01, -1.17243973e-01,\n",
              "         3.57310695e-01,  1.28494284e+00,  2.72831903e+00,\n",
              "        -5.14648157e-01],\n",
              "       [ 6.25243720e-01, -8.31786045e-01, -3.80716157e-01,\n",
              "        -7.06411925e-01,  1.50049854e-02, -1.17101984e-01,\n",
              "         6.02868415e-02, -4.40944786e-01,  5.94898541e-01,\n",
              "        -6.68163018e-02],\n",
              "       [ 1.06231623e+00,  3.42247465e-02, -8.09852969e-01,\n",
              "        -5.27571029e-01, -1.39653697e-01, -1.15375705e-01,\n",
              "        -5.81464696e-01,  6.90145407e-01, -7.63976460e-01,\n",
              "         5.42443023e-01],\n",
              "       [ 4.48881131e-01,  1.38146041e-01,  3.91617024e-01,\n",
              "         1.86831046e-01, -7.14219256e-02, -1.12917065e-01,\n",
              "        -8.12783272e-01,  6.56017686e-01,  1.60911616e+00,\n",
              "        -2.95191205e-01],\n",
              "       [ 1.47638491e+00, -1.15047802e+00, -5.71255163e-01,\n",
              "        -4.04497724e-01, -3.07958735e-01, -1.07357101e-01,\n",
              "        -2.81740626e-01,  1.75298016e+00, -9.03549613e-01,\n",
              "        -2.03147904e-01],\n",
              "       [ 4.94888763e-01,  7.54745725e-01, -1.77173006e-01,\n",
              "        -7.32372701e-01, -8.36072649e-01, -1.17975586e-01,\n",
              "         1.50040249e+00,  7.59098031e-03,  1.10493493e-01,\n",
              "         2.03535772e-01],\n",
              "       [ 1.89812154e+00, -2.16890671e+00, -2.05316239e+00,\n",
              "         3.98479632e+00, -7.30995720e-01, -1.18342514e-01,\n",
              "        -4.52754359e-01,  3.78120526e-01,  1.87842638e-03,\n",
              "        -1.58095874e+00],\n",
              "       [ 2.72518541e-01, -1.06734098e+00, -1.09877117e+00,\n",
              "         1.32141308e+00,  1.54339667e+00, -1.18151950e-01,\n",
              "        -4.88757251e-01, -3.19060067e-01, -9.74959133e-01,\n",
              "        -1.95184551e-01],\n",
              "       [-3.31607676e+00,  3.11348200e-01, -9.03708978e-01,\n",
              "         6.77201246e-01, -8.63683772e-01, -1.09748484e-01,\n",
              "        -1.04320178e+00, -1.87430908e+00,  2.50588850e+00,\n",
              "         7.41074676e-01],\n",
              "       [ 1.34495645e-01, -6.17015369e-01, -7.84975473e-01,\n",
              "         1.67600842e-01,  2.96261753e+00, -1.16743277e-01,\n",
              "        -4.16751468e-01,  9.97294900e-01,  3.50724053e-01,\n",
              "        -2.75677171e+00],\n",
              "       [-2.48901290e-01, -2.77539138e-01, -7.50486216e-01,\n",
              "        -7.40064782e-01, -5.64510197e-01, -1.18342514e-01,\n",
              "        -3.26744240e-01, -9.77237550e-01,  1.79459872e-01,\n",
              "         3.07310574e-01],\n",
              "       [-6.01626469e-01, -7.34377151e-03, -3.62058035e-01,\n",
              "        -6.72759069e-01,  2.24249086e-01, -1.18060779e-01,\n",
              "        -5.97665997e-01, -7.52969667e-01, -5.17533341e-01,\n",
              "         1.35959812e-02],\n",
              "       [-1.26106920e+00,  6.99321034e-01,  5.49362967e-01,\n",
              "         2.17715715e+00, -5.56777263e-01, -1.18342514e-01,\n",
              "        -6.46269900e-01,  7.53525461e-01,  5.51375730e-01,\n",
              "         1.37645983e+00],\n",
              "       [-3.51544317e+00, -1.53845085e+00, -5.17542387e-01,\n",
              "        -7.36218742e-01, -4.30775924e-01, -1.18247606e-01,\n",
              "        -4.70755805e-01, -1.89039787e+00,  2.09896592e+00,\n",
              "         8.48919078e-01],\n",
              "       [-1.25340126e+00, -5.06165987e-01, -3.62623433e-01,\n",
              "        -7.63141027e-01,  2.28029981e+00, -1.18342514e-01,\n",
              "        -6.93073659e-01, -2.02050737e-01,  2.36629370e-01,\n",
              "        -2.21913283e-01]])"
            ]
          },
          "execution_count": 20,
          "metadata": {},
          "output_type": "execute_result"
        }
      ],
      "source": [
        "# Check the data scaled correctly\n",
        "scaled_data_1"
      ]
    },
    {
      "cell_type": "markdown",
      "metadata": {
        "id": "wmWG4cx3iP9p"
      },
      "source": [
        "<div class=\"alert alert-success\">\n",
        "    <strong>Question 1</strong>\n",
        "    <p>Which variables from this data are not suitable to include in k-means? Why not?</p>\n",
        "</div>"
      ]
    },
    {
      "cell_type": "code",
      "execution_count": null,
      "metadata": {
        "id": "qOXZJFR-iP9p",
        "outputId": "1374c908-2381-4ba2-af7a-48efa9cd7cb2"
      },
      "outputs": [
        {
          "data": {
            "text/plain": [
              "Index(['id', 'name', 'artists', 'danceability', 'energy', 'key', 'loudness',\n",
              "       'mode', 'speechiness', 'acousticness', 'instrumentalness', 'liveness',\n",
              "       'valence', 'tempo', 'duration_ms', 'time_signature'],\n",
              "      dtype='object')"
            ]
          },
          "execution_count": 21,
          "metadata": {},
          "output_type": "execute_result"
        }
      ],
      "source": [
        "df.columns"
      ]
    },
    {
      "cell_type": "markdown",
      "metadata": {
        "id": "9JCCdQt7iP9p"
      },
      "source": [
        "There are a couple of columns above that are not suitable to include in k-means. K-means only allows use of variables that have a \"meaningful mean\" or average. Therefore, any variables that are non-numeric, identifiers, or categorical won't work.\n",
        "\n",
        "In our case, these variables are:\n",
        "- id\n",
        "- name\n",
        "- artist\n",
        "- key\n",
        "- mode\n",
        "- time_signature"
      ]
    },
    {
      "cell_type": "markdown",
      "metadata": {
        "id": "hcPTlIm6iP9p"
      },
      "source": [
        "<div class=\"alert alert-success\">\n",
        "    <strong>Question 2</strong>\n",
        "    <p>Which variables does <code>pandas</code> import improperly?</p>\n",
        "</div>"
      ]
    },
    {
      "cell_type": "code",
      "execution_count": null,
      "metadata": {
        "scrolled": true,
        "id": "bydtn62_iP9p",
        "outputId": "aa6688ac-9f76-473f-c41b-6efb60676937"
      },
      "outputs": [
        {
          "name": "stdout",
          "output_type": "stream",
          "text": [
            "<class 'pandas.core.frame.DataFrame'>\n",
            "RangeIndex: 100 entries, 0 to 99\n",
            "Data columns (total 16 columns):\n",
            "id                  100 non-null object\n",
            "name                100 non-null object\n",
            "artists             100 non-null object\n",
            "danceability        100 non-null float64\n",
            "energy              100 non-null float64\n",
            "key                 100 non-null float64\n",
            "loudness            100 non-null float64\n",
            "mode                100 non-null float64\n",
            "speechiness         100 non-null float64\n",
            "acousticness        100 non-null float64\n",
            "instrumentalness    100 non-null float64\n",
            "liveness            100 non-null float64\n",
            "valence             100 non-null float64\n",
            "tempo               100 non-null float64\n",
            "duration_ms         100 non-null float64\n",
            "time_signature      100 non-null float64\n",
            "dtypes: float64(13), object(3)\n",
            "memory usage: 12.6+ KB\n"
          ]
        }
      ],
      "source": [
        "df.info()"
      ]
    },
    {
      "cell_type": "markdown",
      "metadata": {
        "id": "-EejyOS-iP9p"
      },
      "source": [
        "pandas imports all of the data as either an object or a float. Even though the variables are represented as numbers, key, mode and time_signature really should be represented as objects (or at least integers) to prevent them from being treated as numeric values."
      ]
    },
    {
      "cell_type": "markdown",
      "metadata": {
        "id": "sAxyx7Z2iP9p"
      },
      "source": [
        "<div class=\"alert alert-success\">\n",
        "    <strong>Question 3</strong>\n",
        "    <p>Is there any missing data in your dataset? If so, which and how have you handled it?</p>\n",
        "</div>"
      ]
    },
    {
      "cell_type": "markdown",
      "metadata": {
        "id": "tJB8nt82iP9q"
      },
      "source": [
        "There is no missing data! (This is unusual.) If there had been, we would either have needed to find the data, drop the rows, or input values."
      ]
    },
    {
      "cell_type": "markdown",
      "metadata": {
        "id": "Fe4IWkKPiP9q"
      },
      "source": [
        "## Model the data and evaluate your models"
      ]
    },
    {
      "cell_type": "markdown",
      "metadata": {
        "id": "4Lx98U2ciP9q"
      },
      "source": [
        "<div class=\"alert alert-warning\">\n",
        "<p>Use this section to do your clustering analysis. Feel free to try and explore many different things, as long as you run a standard k-means analysis at least once. You may want to try building multiple models with different features, using different clustering algorithms, and/or tweaking different model parameters.</p>\n",
        "    \n",
        "<p>Some things to consider:</p>\n",
        "    <ul>\n",
        "        <li>What is the optimum value for <i>k</i>? How do you know?</li>\n",
        "        <li>What measures will you use to evaluate the quality of your model?</li>\n",
        "        <li>What do these measures say about your model(s)?</li>\n",
        "        <li>How can you improve your model(s)?</li>\n",
        "        <li>Can you visalise your clusters?</li>\n",
        "    </ul>\n",
        "\n",
        "<p>Be sure to thoroughly explain your analysis around the code you write.</p>\n",
        "</div>"
      ]
    },
    {
      "cell_type": "markdown",
      "metadata": {
        "id": "GoxHrbxUiP9q"
      },
      "source": [
        "To create my clusters, I'm going to use the k-means method. I'll start by using the elbow method to identify the optimal number for each of the different trials I'm running."
      ]
    },
    {
      "cell_type": "markdown",
      "metadata": {
        "id": "7cuZYIPMiP9q"
      },
      "source": [
        "#### Trial 1"
      ]
    },
    {
      "cell_type": "code",
      "execution_count": null,
      "metadata": {
        "scrolled": true,
        "id": "y-IVEgdQiP9q",
        "outputId": "f66399e7-8619-42b5-a705-eaf6a36f35ce"
      },
      "outputs": [
        {
          "data": {
            "text/plain": [
              "Text(0.5, 1.0, 'Elbow test')"
            ]
          },
          "execution_count": 23,
          "metadata": {},
          "output_type": "execute_result"
        },
        {
          "data": {
            "image/png": "[encoded data removed]",
            "text/plain": [
              "<Figure size 432x288 with 1 Axes>"
            ]
          },
          "metadata": {},
          "output_type": "display_data"
        }
      ],
      "source": [
        "num_clusters = [1,2,3,4,5,6,7,8,9,10]\n",
        "\n",
        "# create a kmeans model for each value of k. Could use a regular for loop, but let's use a \"list comprehension\"!\n",
        "kmeans_list = [KMeans(n_clusters = i) for i in num_clusters]\n",
        "\n",
        "# For each value of k, fit the model with our data and use the \"inertia\" method of KMeans to compute the WSS\n",
        "scores = [kmeans_list[i-1].fit(scaled_data_1).inertia_ for i in num_clusters]\n",
        "\n",
        "# Optional\n",
        "# We can choose to normalise the scores with respect to the score for k=1 (the highest score)\n",
        "scores_normalised = scores/scores[0]\n",
        "\n",
        "# Plot the test\n",
        "sns.set_style('darkgrid')\n",
        "sns.lineplot(num_clusters, scores_normalised)\n",
        "plt.xlabel(\"Number of clusters k\")\n",
        "plt.ylabel(\"Score (normalised)\")\n",
        "plt.title(\"Elbow test\")"
      ]
    },
    {
      "cell_type": "markdown",
      "metadata": {
        "id": "ZfNzAwtDiP9q"
      },
      "source": [
        "Looks like there's no clear elbow in this one. I think I'll choose k = 8."
      ]
    },
    {
      "cell_type": "code",
      "execution_count": null,
      "metadata": {
        "id": "7sbdgt5biP9r",
        "outputId": "c11dff7a-2d5e-4696-c1c3-374e44d8616e"
      },
      "outputs": [
        {
          "name": "stdout",
          "output_type": "stream",
          "text": [
            "<class 'sklearn.cluster.k_means_.KMeans'>\n"
          ]
        }
      ],
      "source": [
        "# Create the model\n",
        "model = KMeans(n_clusters = 8, random_state= 123)\n",
        "# Fit the model to our data\n",
        "model.fit(scaled_data_1)\n",
        "# Save the results as a new column in our data\n",
        "df['cluster_1'] = model.labels_\n"
      ]
    },
    {
      "cell_type": "code",
      "execution_count": null,
      "metadata": {
        "id": "DWqs_4C0iP9r",
        "outputId": "671717c8-1ea7-4a1d-e585-06421bb28ba9"
      },
      "outputs": [
        {
          "data": {
            "text/html": [
              "<div>\n",
              "<style scoped>\n",
              "    .dataframe tbody tr th:only-of-type {\n",
              "        vertical-align: middle;\n",
              "    }\n",
              "\n",
              "    .dataframe tbody tr th {\n",
              "        vertical-align: top;\n",
              "    }\n",
              "\n",
              "    .dataframe thead th {\n",
              "        text-align: right;\n",
              "    }\n",
              "</style>\n",
              "<table border=\"1\" class=\"dataframe\">\n",
              "  <thead>\n",
              "    <tr style=\"text-align: right;\">\n",
              "      <th></th>\n",
              "      <th>id</th>\n",
              "      <th>name</th>\n",
              "      <th>artists</th>\n",
              "      <th>danceability</th>\n",
              "      <th>energy</th>\n",
              "      <th>key</th>\n",
              "      <th>loudness</th>\n",
              "      <th>mode</th>\n",
              "      <th>speechiness</th>\n",
              "      <th>acousticness</th>\n",
              "      <th>instrumentalness</th>\n",
              "      <th>liveness</th>\n",
              "      <th>valence</th>\n",
              "      <th>tempo</th>\n",
              "      <th>duration_ms</th>\n",
              "      <th>time_signature</th>\n",
              "      <th>cluster_1</th>\n",
              "      <th>cluster_2</th>\n",
              "    </tr>\n",
              "  </thead>\n",
              "  <tbody>\n",
              "    <tr>\n",
              "      <td>0</td>\n",
              "      <td>6DCZcSspjsKoFjzjrWoCd</td>\n",
              "      <td>God's Plan</td>\n",
              "      <td>Drake</td>\n",
              "      <td>0.754</td>\n",
              "      <td>0.449</td>\n",
              "      <td>7.0</td>\n",
              "      <td>-9.211</td>\n",
              "      <td>1.0</td>\n",
              "      <td>0.1090</td>\n",
              "      <td>0.0332</td>\n",
              "      <td>0.000083</td>\n",
              "      <td>0.552</td>\n",
              "      <td>0.357</td>\n",
              "      <td>77.169</td>\n",
              "      <td>198973.0</td>\n",
              "      <td>4.0</td>\n",
              "      <td>2</td>\n",
              "      <td>1</td>\n",
              "    </tr>\n",
              "    <tr>\n",
              "      <td>1</td>\n",
              "      <td>3ee8Jmje8o58CHK66QrVC</td>\n",
              "      <td>SAD!</td>\n",
              "      <td>XXXTENTACION</td>\n",
              "      <td>0.740</td>\n",
              "      <td>0.613</td>\n",
              "      <td>8.0</td>\n",
              "      <td>-4.880</td>\n",
              "      <td>1.0</td>\n",
              "      <td>0.1450</td>\n",
              "      <td>0.2580</td>\n",
              "      <td>0.003720</td>\n",
              "      <td>0.123</td>\n",
              "      <td>0.473</td>\n",
              "      <td>75.023</td>\n",
              "      <td>166606.0</td>\n",
              "      <td>4.0</td>\n",
              "      <td>0</td>\n",
              "      <td>3</td>\n",
              "    </tr>\n",
              "    <tr>\n",
              "      <td>2</td>\n",
              "      <td>0e7ipj03S05BNilyu5bRz</td>\n",
              "      <td>rockstar (feat. 21 Savage)</td>\n",
              "      <td>Post Malone</td>\n",
              "      <td>0.587</td>\n",
              "      <td>0.535</td>\n",
              "      <td>5.0</td>\n",
              "      <td>-6.090</td>\n",
              "      <td>0.0</td>\n",
              "      <td>0.0898</td>\n",
              "      <td>0.1170</td>\n",
              "      <td>0.000066</td>\n",
              "      <td>0.131</td>\n",
              "      <td>0.140</td>\n",
              "      <td>159.847</td>\n",
              "      <td>218147.0</td>\n",
              "      <td>4.0</td>\n",
              "      <td>1</td>\n",
              "      <td>2</td>\n",
              "    </tr>\n",
              "    <tr>\n",
              "      <td>3</td>\n",
              "      <td>3swc6WTsr7rl9DqQKQA55</td>\n",
              "      <td>Psycho (feat. Ty Dolla $ign)</td>\n",
              "      <td>Post Malone</td>\n",
              "      <td>0.739</td>\n",
              "      <td>0.559</td>\n",
              "      <td>8.0</td>\n",
              "      <td>-8.011</td>\n",
              "      <td>1.0</td>\n",
              "      <td>0.1170</td>\n",
              "      <td>0.5800</td>\n",
              "      <td>0.000000</td>\n",
              "      <td>0.112</td>\n",
              "      <td>0.439</td>\n",
              "      <td>140.124</td>\n",
              "      <td>221440.0</td>\n",
              "      <td>4.0</td>\n",
              "      <td>7</td>\n",
              "      <td>3</td>\n",
              "    </tr>\n",
              "    <tr>\n",
              "      <td>4</td>\n",
              "      <td>2G7V7zsVDxg1yRsu7Ew9R</td>\n",
              "      <td>In My Feelings</td>\n",
              "      <td>Drake</td>\n",
              "      <td>0.835</td>\n",
              "      <td>0.626</td>\n",
              "      <td>1.0</td>\n",
              "      <td>-5.833</td>\n",
              "      <td>1.0</td>\n",
              "      <td>0.1250</td>\n",
              "      <td>0.0589</td>\n",
              "      <td>0.000060</td>\n",
              "      <td>0.396</td>\n",
              "      <td>0.350</td>\n",
              "      <td>91.030</td>\n",
              "      <td>217925.0</td>\n",
              "      <td>4.0</td>\n",
              "      <td>2</td>\n",
              "      <td>1</td>\n",
              "    </tr>\n",
              "  </tbody>\n",
              "</table>\n",
              "</div>"
            ],
            "text/plain": [
              "                      id                          name       artists  \\\n",
              "0  6DCZcSspjsKoFjzjrWoCd                    God's Plan         Drake   \n",
              "1  3ee8Jmje8o58CHK66QrVC                          SAD!  XXXTENTACION   \n",
              "2  0e7ipj03S05BNilyu5bRz    rockstar (feat. 21 Savage)   Post Malone   \n",
              "3  3swc6WTsr7rl9DqQKQA55  Psycho (feat. Ty Dolla $ign)   Post Malone   \n",
              "4  2G7V7zsVDxg1yRsu7Ew9R                In My Feelings         Drake   \n",
              "\n",
              "   danceability  energy  key  loudness  mode  speechiness  acousticness  \\\n",
              "0         0.754   0.449  7.0    -9.211   1.0       0.1090        0.0332   \n",
              "1         0.740   0.613  8.0    -4.880   1.0       0.1450        0.2580   \n",
              "2         0.587   0.535  5.0    -6.090   0.0       0.0898        0.1170   \n",
              "3         0.739   0.559  8.0    -8.011   1.0       0.1170        0.5800   \n",
              "4         0.835   0.626  1.0    -5.833   1.0       0.1250        0.0589   \n",
              "\n",
              "   instrumentalness  liveness  valence    tempo  duration_ms  time_signature  \\\n",
              "0          0.000083     0.552    0.357   77.169     198973.0             4.0   \n",
              "1          0.003720     0.123    0.473   75.023     166606.0             4.0   \n",
              "2          0.000066     0.131    0.140  159.847     218147.0             4.0   \n",
              "3          0.000000     0.112    0.439  140.124     221440.0             4.0   \n",
              "4          0.000060     0.396    0.350   91.030     217925.0             4.0   \n",
              "\n",
              "   cluster_1  cluster_2  \n",
              "0          2          1  \n",
              "1          0          3  \n",
              "2          1          2  \n",
              "3          7          3  \n",
              "4          2          1  "
            ]
          },
          "execution_count": 48,
          "metadata": {},
          "output_type": "execute_result"
        }
      ],
      "source": [
        "df.head()"
      ]
    },
    {
      "cell_type": "markdown",
      "metadata": {
        "id": "9hggKfrgiP9r"
      },
      "source": [
        "Now that our clusters are included in our dataframe, we can plot and understand what happened a bit better.\n",
        "\n",
        "Let's start by printing out our new \"playlists\"."
      ]
    },
    {
      "cell_type": "markdown",
      "metadata": {
        "id": "dTeSDP6kiP9r"
      },
      "source": [
        "##### Playlist #1"
      ]
    },
    {
      "cell_type": "code",
      "execution_count": null,
      "metadata": {
        "scrolled": false,
        "id": "6XGy2owSiP9s",
        "outputId": "cf1063ad-3ba2-4b04-b2c1-f979628cbf22"
      },
      "outputs": [
        {
          "data": {
            "text/html": [
              "<div>\n",
              "<style scoped>\n",
              "    .dataframe tbody tr th:only-of-type {\n",
              "        vertical-align: middle;\n",
              "    }\n",
              "\n",
              "    .dataframe tbody tr th {\n",
              "        vertical-align: top;\n",
              "    }\n",
              "\n",
              "    .dataframe thead th {\n",
              "        text-align: right;\n",
              "    }\n",
              "</style>\n",
              "<table border=\"1\" class=\"dataframe\">\n",
              "  <thead>\n",
              "    <tr style=\"text-align: right;\">\n",
              "      <th></th>\n",
              "      <th>name</th>\n",
              "      <th>artists</th>\n",
              "    </tr>\n",
              "  </thead>\n",
              "  <tbody>\n",
              "    <tr>\n",
              "      <td>1</td>\n",
              "      <td>SAD!</td>\n",
              "      <td>XXXTENTACION</td>\n",
              "    </tr>\n",
              "    <tr>\n",
              "      <td>7</td>\n",
              "      <td>One Kiss (with Dua Lipa)</td>\n",
              "      <td>Calvin Harris</td>\n",
              "    </tr>\n",
              "    <tr>\n",
              "      <td>8</td>\n",
              "      <td>IDGAF</td>\n",
              "      <td>Dua Lipa</td>\n",
              "    </tr>\n",
              "    <tr>\n",
              "      <td>9</td>\n",
              "      <td>FRIENDS</td>\n",
              "      <td>Marshmello</td>\n",
              "    </tr>\n",
              "    <tr>\n",
              "      <td>12</td>\n",
              "      <td>Nice For What</td>\n",
              "      <td>Drake</td>\n",
              "    </tr>\n",
              "    <tr>\n",
              "      <td>14</td>\n",
              "      <td>The Middle</td>\n",
              "      <td>Zedd</td>\n",
              "    </tr>\n",
              "    <tr>\n",
              "      <td>15</td>\n",
              "      <td>All The Stars (with SZA)</td>\n",
              "      <td>Kendrick Lamar</td>\n",
              "    </tr>\n",
              "    <tr>\n",
              "      <td>20</td>\n",
              "      <td>These Days (feat. Jess Glynne, Macklemore &amp; Da...</td>\n",
              "      <td>Rudimental</td>\n",
              "    </tr>\n",
              "    <tr>\n",
              "      <td>21</td>\n",
              "      <td>Te Bot? - Remix</td>\n",
              "      <td>Nio Garcia</td>\n",
              "    </tr>\n",
              "    <tr>\n",
              "      <td>24</td>\n",
              "      <td>New Rules</td>\n",
              "      <td>Dua Lipa</td>\n",
              "    </tr>\n",
              "    <tr>\n",
              "      <td>25</td>\n",
              "      <td>Shape of You</td>\n",
              "      <td>Ed Sheeran</td>\n",
              "    </tr>\n",
              "    <tr>\n",
              "      <td>34</td>\n",
              "      <td>?chame La Culpa</td>\n",
              "      <td>Luis Fonsi</td>\n",
              "    </tr>\n",
              "    <tr>\n",
              "      <td>45</td>\n",
              "      <td>Jackie Chan</td>\n",
              "      <td>Ti?sto</td>\n",
              "    </tr>\n",
              "    <tr>\n",
              "      <td>46</td>\n",
              "      <td>Finesse (Remix) [feat. Cardi B]</td>\n",
              "      <td>Bruno Mars</td>\n",
              "    </tr>\n",
              "    <tr>\n",
              "      <td>51</td>\n",
              "      <td>Happier</td>\n",
              "      <td>Marshmello</td>\n",
              "    </tr>\n",
              "    <tr>\n",
              "      <td>54</td>\n",
              "      <td>Believer</td>\n",
              "      <td>Imagine Dragons</td>\n",
              "    </tr>\n",
              "    <tr>\n",
              "      <td>56</td>\n",
              "      <td>Rise</td>\n",
              "      <td>Jonas Blue</td>\n",
              "    </tr>\n",
              "    <tr>\n",
              "      <td>57</td>\n",
              "      <td>Body (feat. brando)</td>\n",
              "      <td>Loud Luxury</td>\n",
              "    </tr>\n",
              "    <tr>\n",
              "      <td>59</td>\n",
              "      <td>Sin Pijama</td>\n",
              "      <td>Becky G</td>\n",
              "    </tr>\n",
              "    <tr>\n",
              "      <td>60</td>\n",
              "      <td>2002</td>\n",
              "      <td>Anne-Marie</td>\n",
              "    </tr>\n",
              "    <tr>\n",
              "      <td>69</td>\n",
              "      <td>Taki Taki (with Selena Gomez, Ozuna &amp; Cardi B)</td>\n",
              "      <td>DJ Snake</td>\n",
              "    </tr>\n",
              "    <tr>\n",
              "      <td>70</td>\n",
              "      <td>Let Me Go (with Alesso, Florida Georgia Line &amp;...</td>\n",
              "      <td>Hailee Steinfeld</td>\n",
              "    </tr>\n",
              "    <tr>\n",
              "      <td>71</td>\n",
              "      <td>Feel It Still</td>\n",
              "      <td>Portugal. The Man</td>\n",
              "    </tr>\n",
              "    <tr>\n",
              "      <td>77</td>\n",
              "      <td>1, 2, 3 (feat. Jason Derulo &amp; De La Ghetto)</td>\n",
              "      <td>Sofia Reyes</td>\n",
              "    </tr>\n",
              "    <tr>\n",
              "      <td>78</td>\n",
              "      <td>Criminal</td>\n",
              "      <td>Natti Natasha</td>\n",
              "    </tr>\n",
              "    <tr>\n",
              "      <td>83</td>\n",
              "      <td>Vaina Loca</td>\n",
              "      <td>Ozuna</td>\n",
              "    </tr>\n",
              "    <tr>\n",
              "      <td>87</td>\n",
              "      <td>S?guelo Bailando</td>\n",
              "      <td>Ozuna</td>\n",
              "    </tr>\n",
              "    <tr>\n",
              "      <td>89</td>\n",
              "      <td>Bella</td>\n",
              "      <td>Wolfine</td>\n",
              "    </tr>\n",
              "  </tbody>\n",
              "</table>\n",
              "</div>"
            ],
            "text/plain": [
              "                                                 name            artists\n",
              "1                                                SAD!       XXXTENTACION\n",
              "7                            One Kiss (with Dua Lipa)      Calvin Harris\n",
              "8                                               IDGAF           Dua Lipa\n",
              "9                                             FRIENDS         Marshmello\n",
              "12                                      Nice For What              Drake\n",
              "14                                         The Middle               Zedd\n",
              "15                           All The Stars (with SZA)     Kendrick Lamar\n",
              "20  These Days (feat. Jess Glynne, Macklemore & Da...         Rudimental\n",
              "21                                    Te Bot? - Remix         Nio Garcia\n",
              "24                                          New Rules           Dua Lipa\n",
              "25                                       Shape of You         Ed Sheeran\n",
              "34                                    ?chame La Culpa         Luis Fonsi\n",
              "45                                        Jackie Chan             Ti?sto\n",
              "46                    Finesse (Remix) [feat. Cardi B]         Bruno Mars\n",
              "51                                            Happier         Marshmello\n",
              "54                                           Believer    Imagine Dragons\n",
              "56                                               Rise         Jonas Blue\n",
              "57                                Body (feat. brando)        Loud Luxury\n",
              "59                                         Sin Pijama            Becky G\n",
              "60                                               2002         Anne-Marie\n",
              "69     Taki Taki (with Selena Gomez, Ozuna & Cardi B)           DJ Snake\n",
              "70  Let Me Go (with Alesso, Florida Georgia Line &...   Hailee Steinfeld\n",
              "71                                      Feel It Still  Portugal. The Man\n",
              "77        1, 2, 3 (feat. Jason Derulo & De La Ghetto)        Sofia Reyes\n",
              "78                                           Criminal      Natti Natasha\n",
              "83                                         Vaina Loca              Ozuna\n",
              "87                                   S?guelo Bailando              Ozuna\n",
              "89                                              Bella            Wolfine"
            ]
          },
          "execution_count": 26,
          "metadata": {},
          "output_type": "execute_result"
        }
      ],
      "source": [
        "# Pull song and artist name where the cluster column is equal to 0\n",
        "df[['name', 'artists']][df['cluster_1'] == 0]"
      ]
    },
    {
      "cell_type": "markdown",
      "metadata": {
        "id": "TCgFAcd6iP9s"
      },
      "source": [
        "Only one song!"
      ]
    },
    {
      "cell_type": "code",
      "execution_count": null,
      "metadata": {
        "id": "a3LG5B_ZiP9s",
        "outputId": "d8419ee5-4bcd-4038-ca36-88d508c1a22c"
      },
      "outputs": [
        {
          "data": {
            "text/html": [
              "<div>\n",
              "<style scoped>\n",
              "    .dataframe tbody tr th:only-of-type {\n",
              "        vertical-align: middle;\n",
              "    }\n",
              "\n",
              "    .dataframe tbody tr th {\n",
              "        vertical-align: top;\n",
              "    }\n",
              "\n",
              "    .dataframe thead th {\n",
              "        text-align: right;\n",
              "    }\n",
              "</style>\n",
              "<table border=\"1\" class=\"dataframe\">\n",
              "  <thead>\n",
              "    <tr style=\"text-align: right;\">\n",
              "      <th></th>\n",
              "      <th>name</th>\n",
              "      <th>artists</th>\n",
              "    </tr>\n",
              "  </thead>\n",
              "  <tbody>\n",
              "    <tr>\n",
              "      <td>2</td>\n",
              "      <td>rockstar (feat. 21 Savage)</td>\n",
              "      <td>Post Malone</td>\n",
              "    </tr>\n",
              "    <tr>\n",
              "      <td>93</td>\n",
              "      <td>This Is Me</td>\n",
              "      <td>Keala Settle</td>\n",
              "    </tr>\n",
              "    <tr>\n",
              "      <td>98</td>\n",
              "      <td>Dusk Till Dawn - Radio Edit</td>\n",
              "      <td>ZAYN</td>\n",
              "    </tr>\n",
              "  </tbody>\n",
              "</table>\n",
              "</div>"
            ],
            "text/plain": [
              "                           name       artists\n",
              "2    rockstar (feat. 21 Savage)   Post Malone\n",
              "93                   This Is Me  Keala Settle\n",
              "98  Dusk Till Dawn - Radio Edit          ZAYN"
            ]
          },
          "execution_count": 27,
          "metadata": {},
          "output_type": "execute_result"
        }
      ],
      "source": [
        "# Pull song and artist name where the cluster column is equal to 1\n",
        "df[['name', 'artists']][df['cluster_1'] == 1]"
      ]
    },
    {
      "cell_type": "code",
      "execution_count": null,
      "metadata": {
        "id": "9w5nkShWiP9s",
        "outputId": "08f22787-8c4a-4c7e-c25c-d34ce0aa1a8e"
      },
      "outputs": [
        {
          "data": {
            "text/html": [
              "<div>\n",
              "<style scoped>\n",
              "    .dataframe tbody tr th:only-of-type {\n",
              "        vertical-align: middle;\n",
              "    }\n",
              "\n",
              "    .dataframe tbody tr th {\n",
              "        vertical-align: top;\n",
              "    }\n",
              "\n",
              "    .dataframe thead th {\n",
              "        text-align: right;\n",
              "    }\n",
              "</style>\n",
              "<table border=\"1\" class=\"dataframe\">\n",
              "  <thead>\n",
              "    <tr style=\"text-align: right;\">\n",
              "      <th></th>\n",
              "      <th>name</th>\n",
              "      <th>artists</th>\n",
              "    </tr>\n",
              "  </thead>\n",
              "  <tbody>\n",
              "    <tr>\n",
              "      <td>0</td>\n",
              "      <td>God's Plan</td>\n",
              "      <td>Drake</td>\n",
              "    </tr>\n",
              "    <tr>\n",
              "      <td>4</td>\n",
              "      <td>In My Feelings</td>\n",
              "      <td>Drake</td>\n",
              "    </tr>\n",
              "    <tr>\n",
              "      <td>6</td>\n",
              "      <td>I Like It</td>\n",
              "      <td>Cardi B</td>\n",
              "    </tr>\n",
              "    <tr>\n",
              "      <td>11</td>\n",
              "      <td>Lucid Dreams</td>\n",
              "      <td>Juice WRLD</td>\n",
              "    </tr>\n",
              "    <tr>\n",
              "      <td>16</td>\n",
              "      <td>no tears left to cry</td>\n",
              "      <td>Ariana Grande</td>\n",
              "    </tr>\n",
              "    <tr>\n",
              "      <td>17</td>\n",
              "      <td>X</td>\n",
              "      <td>Nicky Jam</td>\n",
              "    </tr>\n",
              "    <tr>\n",
              "      <td>22</td>\n",
              "      <td>Mine</td>\n",
              "      <td>Bazzi</td>\n",
              "    </tr>\n",
              "    <tr>\n",
              "      <td>31</td>\n",
              "      <td>Solo (feat. Demi Lovato)</td>\n",
              "      <td>Clean Bandit</td>\n",
              "    </tr>\n",
              "    <tr>\n",
              "      <td>33</td>\n",
              "      <td>Nevermind</td>\n",
              "      <td>Dennis Lloyd</td>\n",
              "    </tr>\n",
              "    <tr>\n",
              "      <td>41</td>\n",
              "      <td>Dura</td>\n",
              "      <td>Daddy Yankee</td>\n",
              "    </tr>\n",
              "    <tr>\n",
              "      <td>44</td>\n",
              "      <td>Me Niego</td>\n",
              "      <td>Reik</td>\n",
              "    </tr>\n",
              "    <tr>\n",
              "      <td>49</td>\n",
              "      <td>Call Out My Name</td>\n",
              "      <td>The Weeknd</td>\n",
              "    </tr>\n",
              "    <tr>\n",
              "      <td>74</td>\n",
              "      <td>Him &amp; I (with Halsey)</td>\n",
              "      <td>G-Eazy</td>\n",
              "    </tr>\n",
              "    <tr>\n",
              "      <td>90</td>\n",
              "      <td>Promises (with Sam Smith)</td>\n",
              "      <td>Calvin Harris</td>\n",
              "    </tr>\n",
              "  </tbody>\n",
              "</table>\n",
              "</div>"
            ],
            "text/plain": [
              "                         name        artists\n",
              "0                  God's Plan          Drake\n",
              "4              In My Feelings          Drake\n",
              "6                   I Like It        Cardi B\n",
              "11               Lucid Dreams     Juice WRLD\n",
              "16       no tears left to cry  Ariana Grande\n",
              "17                          X      Nicky Jam\n",
              "22                       Mine          Bazzi\n",
              "31   Solo (feat. Demi Lovato)   Clean Bandit\n",
              "33                  Nevermind   Dennis Lloyd\n",
              "41                       Dura   Daddy Yankee\n",
              "44                   Me Niego           Reik\n",
              "49           Call Out My Name     The Weeknd\n",
              "74      Him & I (with Halsey)         G-Eazy\n",
              "90  Promises (with Sam Smith)  Calvin Harris"
            ]
          },
          "execution_count": 28,
          "metadata": {},
          "output_type": "execute_result"
        }
      ],
      "source": [
        "# Pull song and artist name where the cluster column is equal to 2\n",
        "df[['name', 'artists']][df['cluster_1'] == 2]"
      ]
    },
    {
      "cell_type": "code",
      "execution_count": null,
      "metadata": {
        "id": "KxqLjEVqiP9s",
        "outputId": "1cda97e3-22a0-41bf-a07e-aa6584234861"
      },
      "outputs": [
        {
          "data": {
            "text/html": [
              "<div>\n",
              "<style scoped>\n",
              "    .dataframe tbody tr th:only-of-type {\n",
              "        vertical-align: middle;\n",
              "    }\n",
              "\n",
              "    .dataframe tbody tr th {\n",
              "        vertical-align: top;\n",
              "    }\n",
              "\n",
              "    .dataframe thead th {\n",
              "        text-align: right;\n",
              "    }\n",
              "</style>\n",
              "<table border=\"1\" class=\"dataframe\">\n",
              "  <thead>\n",
              "    <tr style=\"text-align: right;\">\n",
              "      <th></th>\n",
              "      <th>name</th>\n",
              "      <th>artists</th>\n",
              "    </tr>\n",
              "  </thead>\n",
              "  <tbody>\n",
              "    <tr>\n",
              "      <td>18</td>\n",
              "      <td>Moonlight</td>\n",
              "      <td>XXXTENTACION</td>\n",
              "    </tr>\n",
              "    <tr>\n",
              "      <td>19</td>\n",
              "      <td>Look Alive (feat. Drake)</td>\n",
              "      <td>BlocBoy JB</td>\n",
              "    </tr>\n",
              "    <tr>\n",
              "      <td>28</td>\n",
              "      <td>Jocelyn Flores</td>\n",
              "      <td>XXXTENTACION</td>\n",
              "    </tr>\n",
              "    <tr>\n",
              "      <td>30</td>\n",
              "      <td>Taste (feat. Offset)</td>\n",
              "      <td>Tyga</td>\n",
              "    </tr>\n",
              "    <tr>\n",
              "      <td>50</td>\n",
              "      <td>Ric Flair Drip (&amp; Metro Boomin)</td>\n",
              "      <td>Offset</td>\n",
              "    </tr>\n",
              "    <tr>\n",
              "      <td>55</td>\n",
              "      <td>FEFE (feat. Nicki Minaj &amp; Murda Beatz)</td>\n",
              "      <td>6ix9ine</td>\n",
              "    </tr>\n",
              "    <tr>\n",
              "      <td>61</td>\n",
              "      <td>Nonstop</td>\n",
              "      <td>Drake</td>\n",
              "    </tr>\n",
              "    <tr>\n",
              "      <td>62</td>\n",
              "      <td>Fuck Love (feat. Trippie Redd)</td>\n",
              "      <td>XXXTENTACION</td>\n",
              "    </tr>\n",
              "    <tr>\n",
              "      <td>79</td>\n",
              "      <td>Plug Walk</td>\n",
              "      <td>Rich The Kid</td>\n",
              "    </tr>\n",
              "    <tr>\n",
              "      <td>82</td>\n",
              "      <td>HUMBLE.</td>\n",
              "      <td>Kendrick Lamar</td>\n",
              "    </tr>\n",
              "    <tr>\n",
              "      <td>91</td>\n",
              "      <td>Yes Indeed</td>\n",
              "      <td>Lil Baby</td>\n",
              "    </tr>\n",
              "  </tbody>\n",
              "</table>\n",
              "</div>"
            ],
            "text/plain": [
              "                                      name         artists\n",
              "18                               Moonlight    XXXTENTACION\n",
              "19                Look Alive (feat. Drake)      BlocBoy JB\n",
              "28                          Jocelyn Flores    XXXTENTACION\n",
              "30                    Taste (feat. Offset)            Tyga\n",
              "50         Ric Flair Drip (& Metro Boomin)          Offset\n",
              "55  FEFE (feat. Nicki Minaj & Murda Beatz)         6ix9ine\n",
              "61                                 Nonstop           Drake\n",
              "62          Fuck Love (feat. Trippie Redd)    XXXTENTACION\n",
              "79                               Plug Walk    Rich The Kid\n",
              "82                                 HUMBLE.  Kendrick Lamar\n",
              "91                              Yes Indeed        Lil Baby"
            ]
          },
          "execution_count": 29,
          "metadata": {},
          "output_type": "execute_result"
        }
      ],
      "source": [
        "# Pull song and artist name where the cluster column is equal to 3\n",
        "df[['name', 'artists']][df['cluster_1'] == 3]"
      ]
    },
    {
      "cell_type": "code",
      "execution_count": null,
      "metadata": {
        "scrolled": true,
        "id": "nPoCsgkYiP9s",
        "outputId": "13601aff-41d6-4d96-e19b-c2b2a6f006b8"
      },
      "outputs": [
        {
          "data": {
            "text/html": [
              "<div>\n",
              "<style scoped>\n",
              "    .dataframe tbody tr th:only-of-type {\n",
              "        vertical-align: middle;\n",
              "    }\n",
              "\n",
              "    .dataframe tbody tr th {\n",
              "        vertical-align: top;\n",
              "    }\n",
              "\n",
              "    .dataframe thead th {\n",
              "        text-align: right;\n",
              "    }\n",
              "</style>\n",
              "<table border=\"1\" class=\"dataframe\">\n",
              "  <thead>\n",
              "    <tr style=\"text-align: right;\">\n",
              "      <th></th>\n",
              "      <th>name</th>\n",
              "      <th>artists</th>\n",
              "    </tr>\n",
              "  </thead>\n",
              "  <tbody>\n",
              "    <tr>\n",
              "      <td>23</td>\n",
              "      <td>Youngblood</td>\n",
              "      <td>5 Seconds of Summer</td>\n",
              "    </tr>\n",
              "    <tr>\n",
              "      <td>27</td>\n",
              "      <td>Meant to Be (feat. Florida Georgia Line)</td>\n",
              "      <td>Bebe Rexha</td>\n",
              "    </tr>\n",
              "    <tr>\n",
              "      <td>40</td>\n",
              "      <td>River (feat. Ed Sheeran)</td>\n",
              "      <td>Eminem</td>\n",
              "    </tr>\n",
              "    <tr>\n",
              "      <td>42</td>\n",
              "      <td>SICKO MODE</td>\n",
              "      <td>Travis Scott</td>\n",
              "    </tr>\n",
              "    <tr>\n",
              "      <td>53</td>\n",
              "      <td>Freaky Friday (feat. Chris Brown)</td>\n",
              "      <td>Lil Dicky</td>\n",
              "    </tr>\n",
              "    <tr>\n",
              "      <td>58</td>\n",
              "      <td>XO TOUR Llif3</td>\n",
              "      <td>Lil Uzi Vert</td>\n",
              "    </tr>\n",
              "    <tr>\n",
              "      <td>66</td>\n",
              "      <td>D?jala que vuelva (feat. Manuel Turizo)</td>\n",
              "      <td>Piso 21</td>\n",
              "    </tr>\n",
              "    <tr>\n",
              "      <td>73</td>\n",
              "      <td>Walk It Talk It</td>\n",
              "      <td>Migos</td>\n",
              "    </tr>\n",
              "    <tr>\n",
              "      <td>75</td>\n",
              "      <td>Candy Paint</td>\n",
              "      <td>Post Malone</td>\n",
              "    </tr>\n",
              "    <tr>\n",
              "      <td>81</td>\n",
              "      <td>Stir Fry</td>\n",
              "      <td>Migos</td>\n",
              "    </tr>\n",
              "    <tr>\n",
              "      <td>85</td>\n",
              "      <td>Coraz?n (feat. Nego do Borel)</td>\n",
              "      <td>Maluma</td>\n",
              "    </tr>\n",
              "    <tr>\n",
              "      <td>88</td>\n",
              "      <td>Downtown</td>\n",
              "      <td>Anitta</td>\n",
              "    </tr>\n",
              "    <tr>\n",
              "      <td>97</td>\n",
              "      <td>No Brainer</td>\n",
              "      <td>DJ Khaled</td>\n",
              "    </tr>\n",
              "  </tbody>\n",
              "</table>\n",
              "</div>"
            ],
            "text/plain": [
              "                                        name              artists\n",
              "23                                Youngblood  5 Seconds of Summer\n",
              "27  Meant to Be (feat. Florida Georgia Line)           Bebe Rexha\n",
              "40                  River (feat. Ed Sheeran)               Eminem\n",
              "42                                SICKO MODE         Travis Scott\n",
              "53         Freaky Friday (feat. Chris Brown)            Lil Dicky\n",
              "58                             XO TOUR Llif3         Lil Uzi Vert\n",
              "66   D?jala que vuelva (feat. Manuel Turizo)              Piso 21\n",
              "73                           Walk It Talk It                Migos\n",
              "75                               Candy Paint          Post Malone\n",
              "81                                  Stir Fry                Migos\n",
              "85             Coraz?n (feat. Nego do Borel)               Maluma\n",
              "88                                  Downtown               Anitta\n",
              "97                                No Brainer            DJ Khaled"
            ]
          },
          "execution_count": 30,
          "metadata": {},
          "output_type": "execute_result"
        }
      ],
      "source": [
        "# Pull song and artist name where the cluster column is equal to 4\n",
        "df[['name', 'artists']][df['cluster_1'] == 4]"
      ]
    },
    {
      "cell_type": "code",
      "execution_count": null,
      "metadata": {
        "scrolled": true,
        "id": "a-1cCymqiP9v",
        "outputId": "5e92bf1f-c084-47f7-924c-777a2bf7a537"
      },
      "outputs": [
        {
          "data": {
            "text/html": [
              "<div>\n",
              "<style scoped>\n",
              "    .dataframe tbody tr th:only-of-type {\n",
              "        vertical-align: middle;\n",
              "    }\n",
              "\n",
              "    .dataframe tbody tr th {\n",
              "        vertical-align: top;\n",
              "    }\n",
              "\n",
              "    .dataframe thead th {\n",
              "        text-align: right;\n",
              "    }\n",
              "</style>\n",
              "<table border=\"1\" class=\"dataframe\">\n",
              "  <thead>\n",
              "    <tr style=\"text-align: right;\">\n",
              "      <th></th>\n",
              "      <th>name</th>\n",
              "      <th>artists</th>\n",
              "    </tr>\n",
              "  </thead>\n",
              "  <tbody>\n",
              "    <tr>\n",
              "      <td>5</td>\n",
              "      <td>Better Now</td>\n",
              "      <td>Post Malone</td>\n",
              "    </tr>\n",
              "    <tr>\n",
              "      <td>10</td>\n",
              "      <td>Havana</td>\n",
              "      <td>Camila Cabello</td>\n",
              "    </tr>\n",
              "    <tr>\n",
              "      <td>26</td>\n",
              "      <td>Love Lies (with Normani)</td>\n",
              "      <td>Khalid</td>\n",
              "    </tr>\n",
              "    <tr>\n",
              "      <td>29</td>\n",
              "      <td>Perfect</td>\n",
              "      <td>Ed Sheeran</td>\n",
              "    </tr>\n",
              "    <tr>\n",
              "      <td>32</td>\n",
              "      <td>I Fall Apart</td>\n",
              "      <td>Post Malone</td>\n",
              "    </tr>\n",
              "    <tr>\n",
              "      <td>36</td>\n",
              "      <td>Never Be the Same</td>\n",
              "      <td>Camila Cabello</td>\n",
              "    </tr>\n",
              "    <tr>\n",
              "      <td>37</td>\n",
              "      <td>Wolves</td>\n",
              "      <td>Selena Gomez</td>\n",
              "    </tr>\n",
              "    <tr>\n",
              "      <td>39</td>\n",
              "      <td>In My Mind</td>\n",
              "      <td>Dynoro</td>\n",
              "    </tr>\n",
              "    <tr>\n",
              "      <td>47</td>\n",
              "      <td>Back To You - From 13 Reasons Why ? Season 2 S...</td>\n",
              "      <td>Selena Gomez</td>\n",
              "    </tr>\n",
              "    <tr>\n",
              "      <td>48</td>\n",
              "      <td>Let You Down</td>\n",
              "      <td>NF</td>\n",
              "    </tr>\n",
              "    <tr>\n",
              "      <td>63</td>\n",
              "      <td>In My Blood</td>\n",
              "      <td>Shawn Mendes</td>\n",
              "    </tr>\n",
              "    <tr>\n",
              "      <td>64</td>\n",
              "      <td>Silence</td>\n",
              "      <td>Marshmello</td>\n",
              "    </tr>\n",
              "    <tr>\n",
              "      <td>65</td>\n",
              "      <td>God is a woman</td>\n",
              "      <td>Ariana Grande</td>\n",
              "    </tr>\n",
              "    <tr>\n",
              "      <td>67</td>\n",
              "      <td>Flames</td>\n",
              "      <td>David Guetta</td>\n",
              "    </tr>\n",
              "    <tr>\n",
              "      <td>68</td>\n",
              "      <td>What Lovers Do</td>\n",
              "      <td>Maroon 5</td>\n",
              "    </tr>\n",
              "    <tr>\n",
              "      <td>72</td>\n",
              "      <td>Pray For Me (with Kendrick Lamar)</td>\n",
              "      <td>The Weeknd</td>\n",
              "    </tr>\n",
              "    <tr>\n",
              "      <td>76</td>\n",
              "      <td>Congratulations</td>\n",
              "      <td>Post Malone</td>\n",
              "    </tr>\n",
              "    <tr>\n",
              "      <td>86</td>\n",
              "      <td>Young Dumb &amp; Broke</td>\n",
              "      <td>Khalid</td>\n",
              "    </tr>\n",
              "    <tr>\n",
              "      <td>95</td>\n",
              "      <td>Rewrite The Stars</td>\n",
              "      <td>Zac Efron</td>\n",
              "    </tr>\n",
              "    <tr>\n",
              "      <td>96</td>\n",
              "      <td>I Miss You (feat. Julia Michaels)</td>\n",
              "      <td>Clean Bandit</td>\n",
              "    </tr>\n",
              "  </tbody>\n",
              "</table>\n",
              "</div>"
            ],
            "text/plain": [
              "                                                 name         artists\n",
              "5                                          Better Now     Post Malone\n",
              "10                                             Havana  Camila Cabello\n",
              "26                           Love Lies (with Normani)          Khalid\n",
              "29                                            Perfect      Ed Sheeran\n",
              "32                                       I Fall Apart     Post Malone\n",
              "36                                  Never Be the Same  Camila Cabello\n",
              "37                                             Wolves    Selena Gomez\n",
              "39                                         In My Mind          Dynoro\n",
              "47  Back To You - From 13 Reasons Why ? Season 2 S...    Selena Gomez\n",
              "48                                       Let You Down              NF\n",
              "63                                        In My Blood    Shawn Mendes\n",
              "64                                            Silence      Marshmello\n",
              "65                                     God is a woman   Ariana Grande\n",
              "67                                             Flames    David Guetta\n",
              "68                                     What Lovers Do        Maroon 5\n",
              "72                  Pray For Me (with Kendrick Lamar)      The Weeknd\n",
              "76                                    Congratulations     Post Malone\n",
              "86                                 Young Dumb & Broke          Khalid\n",
              "95                                  Rewrite The Stars       Zac Efron\n",
              "96                  I Miss You (feat. Julia Michaels)    Clean Bandit"
            ]
          },
          "execution_count": 31,
          "metadata": {},
          "output_type": "execute_result"
        }
      ],
      "source": [
        "# Pull song and artist name where the cluster column is equal to 5\n",
        "df[['name', 'artists']][df['cluster_1'] == 5]"
      ]
    },
    {
      "cell_type": "code",
      "execution_count": null,
      "metadata": {
        "scrolled": true,
        "id": "HSeS31e3iP9w",
        "outputId": "f233e9bb-1e96-4a1b-9961-ced2b7f0cecc"
      },
      "outputs": [
        {
          "data": {
            "text/html": [
              "<div>\n",
              "<style scoped>\n",
              "    .dataframe tbody tr th:only-of-type {\n",
              "        vertical-align: middle;\n",
              "    }\n",
              "\n",
              "    .dataframe tbody tr th {\n",
              "        vertical-align: top;\n",
              "    }\n",
              "\n",
              "    .dataframe thead th {\n",
              "        text-align: right;\n",
              "    }\n",
              "</style>\n",
              "<table border=\"1\" class=\"dataframe\">\n",
              "  <thead>\n",
              "    <tr style=\"text-align: right;\">\n",
              "      <th></th>\n",
              "      <th>name</th>\n",
              "      <th>artists</th>\n",
              "    </tr>\n",
              "  </thead>\n",
              "  <tbody>\n",
              "    <tr>\n",
              "      <td>43</td>\n",
              "      <td>Thunder</td>\n",
              "      <td>Imagine Dragons</td>\n",
              "    </tr>\n",
              "  </tbody>\n",
              "</table>\n",
              "</div>"
            ],
            "text/plain": [
              "       name          artists\n",
              "43  Thunder  Imagine Dragons"
            ]
          },
          "execution_count": 32,
          "metadata": {},
          "output_type": "execute_result"
        }
      ],
      "source": [
        "# Pull song and artist name where the cluster column is equal to 6\n",
        "df[['name', 'artists']][df['cluster_1'] == 6]"
      ]
    },
    {
      "cell_type": "code",
      "execution_count": null,
      "metadata": {
        "scrolled": true,
        "id": "Vd9Cvn9viP9w",
        "outputId": "bbc75ea2-6e33-4f43-fc71-2ae05de89f2b"
      },
      "outputs": [
        {
          "data": {
            "text/html": [
              "<div>\n",
              "<style scoped>\n",
              "    .dataframe tbody tr th:only-of-type {\n",
              "        vertical-align: middle;\n",
              "    }\n",
              "\n",
              "    .dataframe tbody tr th {\n",
              "        vertical-align: top;\n",
              "    }\n",
              "\n",
              "    .dataframe thead th {\n",
              "        text-align: right;\n",
              "    }\n",
              "</style>\n",
              "<table border=\"1\" class=\"dataframe\">\n",
              "  <thead>\n",
              "    <tr style=\"text-align: right;\">\n",
              "      <th></th>\n",
              "      <th>name</th>\n",
              "      <th>artists</th>\n",
              "    </tr>\n",
              "  </thead>\n",
              "  <tbody>\n",
              "    <tr>\n",
              "      <td>3</td>\n",
              "      <td>Psycho (feat. Ty Dolla $ign)</td>\n",
              "      <td>Post Malone</td>\n",
              "    </tr>\n",
              "    <tr>\n",
              "      <td>13</td>\n",
              "      <td>Girls Like You (feat. Cardi B)</td>\n",
              "      <td>Maroon 5</td>\n",
              "    </tr>\n",
              "    <tr>\n",
              "      <td>35</td>\n",
              "      <td>Eastside (with Halsey &amp; Khalid)</td>\n",
              "      <td>benny blanco</td>\n",
              "    </tr>\n",
              "    <tr>\n",
              "      <td>38</td>\n",
              "      <td>changes</td>\n",
              "      <td>XXXTENTACION</td>\n",
              "    </tr>\n",
              "    <tr>\n",
              "      <td>52</td>\n",
              "      <td>Too Good At Goodbyes</td>\n",
              "      <td>Sam Smith</td>\n",
              "    </tr>\n",
              "    <tr>\n",
              "      <td>80</td>\n",
              "      <td>lovely (with Khalid)</td>\n",
              "      <td>Billie Eilish</td>\n",
              "    </tr>\n",
              "    <tr>\n",
              "      <td>84</td>\n",
              "      <td>Perfect Duet (Ed Sheeran &amp; Beyonc?)</td>\n",
              "      <td>Ed Sheeran</td>\n",
              "    </tr>\n",
              "    <tr>\n",
              "      <td>92</td>\n",
              "      <td>I Like Me Better</td>\n",
              "      <td>Lauv</td>\n",
              "    </tr>\n",
              "    <tr>\n",
              "      <td>94</td>\n",
              "      <td>Everybody Dies In Their Nightmares</td>\n",
              "      <td>XXXTENTACION</td>\n",
              "    </tr>\n",
              "    <tr>\n",
              "      <td>99</td>\n",
              "      <td>Be Alright</td>\n",
              "      <td>Dean Lewis</td>\n",
              "    </tr>\n",
              "  </tbody>\n",
              "</table>\n",
              "</div>"
            ],
            "text/plain": [
              "                                   name        artists\n",
              "3          Psycho (feat. Ty Dolla $ign)    Post Malone\n",
              "13       Girls Like You (feat. Cardi B)       Maroon 5\n",
              "35      Eastside (with Halsey & Khalid)   benny blanco\n",
              "38                              changes   XXXTENTACION\n",
              "52                 Too Good At Goodbyes      Sam Smith\n",
              "80                 lovely (with Khalid)  Billie Eilish\n",
              "84  Perfect Duet (Ed Sheeran & Beyonc?)     Ed Sheeran\n",
              "92                     I Like Me Better           Lauv\n",
              "94   Everybody Dies In Their Nightmares   XXXTENTACION\n",
              "99                           Be Alright     Dean Lewis"
            ]
          },
          "execution_count": 33,
          "metadata": {},
          "output_type": "execute_result"
        }
      ],
      "source": [
        "# Pull song and artist name where the cluster column is equal to 7\n",
        "df[['name', 'artists']][df['cluster_1'] == 7]"
      ]
    },
    {
      "cell_type": "markdown",
      "metadata": {
        "id": "PVaFTqBSiP9w"
      },
      "source": [
        "#### Trial 2"
      ]
    },
    {
      "cell_type": "code",
      "execution_count": null,
      "metadata": {
        "id": "1WfFq3F-iP9w",
        "outputId": "bb02f4ae-099e-43ac-97b5-98d383ae6240"
      },
      "outputs": [
        {
          "data": {
            "text/plain": [
              "Text(0.5, 1.0, 'Elbow test')"
            ]
          },
          "execution_count": 34,
          "metadata": {},
          "output_type": "execute_result"
        },
        {
          "data": {
            "image/png": "[encoded data removed]",
            "text/plain": [
              "<Figure size 432x288 with 1 Axes>"
            ]
          },
          "metadata": {},
          "output_type": "display_data"
        }
      ],
      "source": [
        "num_clusters = [1,2,3,4,5,6,7,8,9,10]\n",
        "\n",
        "# create a kmeans model for each value of k. Could use a regular for loop, but let's use a \"list comprehension\"!\n",
        "kmeans_list = [KMeans(n_clusters = i) for i in num_clusters]\n",
        "\n",
        "# For each value of k, fit the model with our data and use the \"inertia\" method of KMeans to compute the WSS\n",
        "scores = [kmeans_list[i-1].fit(scaled_data_2).inertia_ for i in num_clusters]\n",
        "\n",
        "# Optional\n",
        "# We can choose to normalise the scores with respect to the score for k=1 (the highest score)\n",
        "scores_normalised = scores/scores[0]\n",
        "\n",
        "# Plot the test\n",
        "sns.set_style('darkgrid')\n",
        "sns.lineplot(num_clusters, scores_normalised)\n",
        "plt.xlabel(\"Number of clusters k\")\n",
        "plt.ylabel(\"Score (normalised)\")\n",
        "plt.title(\"Elbow test\")"
      ]
    },
    {
      "cell_type": "markdown",
      "metadata": {
        "id": "_rxrw3EriP9w"
      },
      "source": [
        "This looks a lot better than our other test. There is a clear elbow at either 3 or 4. I'll choose k = 4."
      ]
    },
    {
      "cell_type": "code",
      "execution_count": null,
      "metadata": {
        "id": "VMWDcBbJiP9w"
      },
      "outputs": [],
      "source": [
        "# Create the model\n",
        "model = KMeans(n_clusters = 4, random_state= 123)\n",
        "# Fit the model to our data\n",
        "model.fit(scaled_data_2)\n",
        "# Save the results as a new column in our data\n",
        "df['cluster_2'] = model.labels_"
      ]
    },
    {
      "cell_type": "code",
      "execution_count": null,
      "metadata": {
        "scrolled": true,
        "id": "TJrOV9kliP9x",
        "outputId": "db7cefdb-c99c-45fa-eae7-1236b4a604da"
      },
      "outputs": [
        {
          "data": {
            "text/html": [
              "<div>\n",
              "<style scoped>\n",
              "    .dataframe tbody tr th:only-of-type {\n",
              "        vertical-align: middle;\n",
              "    }\n",
              "\n",
              "    .dataframe tbody tr th {\n",
              "        vertical-align: top;\n",
              "    }\n",
              "\n",
              "    .dataframe thead th {\n",
              "        text-align: right;\n",
              "    }\n",
              "</style>\n",
              "<table border=\"1\" class=\"dataframe\">\n",
              "  <thead>\n",
              "    <tr style=\"text-align: right;\">\n",
              "      <th></th>\n",
              "      <th>id</th>\n",
              "      <th>name</th>\n",
              "      <th>artists</th>\n",
              "      <th>danceability</th>\n",
              "      <th>energy</th>\n",
              "      <th>key</th>\n",
              "      <th>loudness</th>\n",
              "      <th>mode</th>\n",
              "      <th>speechiness</th>\n",
              "      <th>acousticness</th>\n",
              "      <th>instrumentalness</th>\n",
              "      <th>liveness</th>\n",
              "      <th>valence</th>\n",
              "      <th>tempo</th>\n",
              "      <th>duration_ms</th>\n",
              "      <th>time_signature</th>\n",
              "      <th>cluster_1</th>\n",
              "      <th>cluster_2</th>\n",
              "    </tr>\n",
              "  </thead>\n",
              "  <tbody>\n",
              "    <tr>\n",
              "      <td>0</td>\n",
              "      <td>6DCZcSspjsKoFjzjrWoCd</td>\n",
              "      <td>God's Plan</td>\n",
              "      <td>Drake</td>\n",
              "      <td>0.754</td>\n",
              "      <td>0.449</td>\n",
              "      <td>7.0</td>\n",
              "      <td>-9.211</td>\n",
              "      <td>1.0</td>\n",
              "      <td>0.1090</td>\n",
              "      <td>0.0332</td>\n",
              "      <td>0.000083</td>\n",
              "      <td>0.552</td>\n",
              "      <td>0.357</td>\n",
              "      <td>77.169</td>\n",
              "      <td>198973.0</td>\n",
              "      <td>4.0</td>\n",
              "      <td>2</td>\n",
              "      <td>1</td>\n",
              "    </tr>\n",
              "    <tr>\n",
              "      <td>1</td>\n",
              "      <td>3ee8Jmje8o58CHK66QrVC</td>\n",
              "      <td>SAD!</td>\n",
              "      <td>XXXTENTACION</td>\n",
              "      <td>0.740</td>\n",
              "      <td>0.613</td>\n",
              "      <td>8.0</td>\n",
              "      <td>-4.880</td>\n",
              "      <td>1.0</td>\n",
              "      <td>0.1450</td>\n",
              "      <td>0.2580</td>\n",
              "      <td>0.003720</td>\n",
              "      <td>0.123</td>\n",
              "      <td>0.473</td>\n",
              "      <td>75.023</td>\n",
              "      <td>166606.0</td>\n",
              "      <td>4.0</td>\n",
              "      <td>0</td>\n",
              "      <td>3</td>\n",
              "    </tr>\n",
              "    <tr>\n",
              "      <td>2</td>\n",
              "      <td>0e7ipj03S05BNilyu5bRz</td>\n",
              "      <td>rockstar (feat. 21 Savage)</td>\n",
              "      <td>Post Malone</td>\n",
              "      <td>0.587</td>\n",
              "      <td>0.535</td>\n",
              "      <td>5.0</td>\n",
              "      <td>-6.090</td>\n",
              "      <td>0.0</td>\n",
              "      <td>0.0898</td>\n",
              "      <td>0.1170</td>\n",
              "      <td>0.000066</td>\n",
              "      <td>0.131</td>\n",
              "      <td>0.140</td>\n",
              "      <td>159.847</td>\n",
              "      <td>218147.0</td>\n",
              "      <td>4.0</td>\n",
              "      <td>1</td>\n",
              "      <td>2</td>\n",
              "    </tr>\n",
              "    <tr>\n",
              "      <td>3</td>\n",
              "      <td>3swc6WTsr7rl9DqQKQA55</td>\n",
              "      <td>Psycho (feat. Ty Dolla $ign)</td>\n",
              "      <td>Post Malone</td>\n",
              "      <td>0.739</td>\n",
              "      <td>0.559</td>\n",
              "      <td>8.0</td>\n",
              "      <td>-8.011</td>\n",
              "      <td>1.0</td>\n",
              "      <td>0.1170</td>\n",
              "      <td>0.5800</td>\n",
              "      <td>0.000000</td>\n",
              "      <td>0.112</td>\n",
              "      <td>0.439</td>\n",
              "      <td>140.124</td>\n",
              "      <td>221440.0</td>\n",
              "      <td>4.0</td>\n",
              "      <td>7</td>\n",
              "      <td>3</td>\n",
              "    </tr>\n",
              "    <tr>\n",
              "      <td>4</td>\n",
              "      <td>2G7V7zsVDxg1yRsu7Ew9R</td>\n",
              "      <td>In My Feelings</td>\n",
              "      <td>Drake</td>\n",
              "      <td>0.835</td>\n",
              "      <td>0.626</td>\n",
              "      <td>1.0</td>\n",
              "      <td>-5.833</td>\n",
              "      <td>1.0</td>\n",
              "      <td>0.1250</td>\n",
              "      <td>0.0589</td>\n",
              "      <td>0.000060</td>\n",
              "      <td>0.396</td>\n",
              "      <td>0.350</td>\n",
              "      <td>91.030</td>\n",
              "      <td>217925.0</td>\n",
              "      <td>4.0</td>\n",
              "      <td>2</td>\n",
              "      <td>1</td>\n",
              "    </tr>\n",
              "  </tbody>\n",
              "</table>\n",
              "</div>"
            ],
            "text/plain": [
              "                      id                          name       artists  \\\n",
              "0  6DCZcSspjsKoFjzjrWoCd                    God's Plan         Drake   \n",
              "1  3ee8Jmje8o58CHK66QrVC                          SAD!  XXXTENTACION   \n",
              "2  0e7ipj03S05BNilyu5bRz    rockstar (feat. 21 Savage)   Post Malone   \n",
              "3  3swc6WTsr7rl9DqQKQA55  Psycho (feat. Ty Dolla $ign)   Post Malone   \n",
              "4  2G7V7zsVDxg1yRsu7Ew9R                In My Feelings         Drake   \n",
              "\n",
              "   danceability  energy  key  loudness  mode  speechiness  acousticness  \\\n",
              "0         0.754   0.449  7.0    -9.211   1.0       0.1090        0.0332   \n",
              "1         0.740   0.613  8.0    -4.880   1.0       0.1450        0.2580   \n",
              "2         0.587   0.535  5.0    -6.090   0.0       0.0898        0.1170   \n",
              "3         0.739   0.559  8.0    -8.011   1.0       0.1170        0.5800   \n",
              "4         0.835   0.626  1.0    -5.833   1.0       0.1250        0.0589   \n",
              "\n",
              "   instrumentalness  liveness  valence    tempo  duration_ms  time_signature  \\\n",
              "0          0.000083     0.552    0.357   77.169     198973.0             4.0   \n",
              "1          0.003720     0.123    0.473   75.023     166606.0             4.0   \n",
              "2          0.000066     0.131    0.140  159.847     218147.0             4.0   \n",
              "3          0.000000     0.112    0.439  140.124     221440.0             4.0   \n",
              "4          0.000060     0.396    0.350   91.030     217925.0             4.0   \n",
              "\n",
              "   cluster_1  cluster_2  \n",
              "0          2          1  \n",
              "1          0          3  \n",
              "2          1          2  \n",
              "3          7          3  \n",
              "4          2          1  "
            ]
          },
          "execution_count": 36,
          "metadata": {},
          "output_type": "execute_result"
        }
      ],
      "source": [
        "df.head()"
      ]
    },
    {
      "cell_type": "markdown",
      "metadata": {
        "id": "WxXlzO9JiP9x"
      },
      "source": [
        "Rather than looking at each of the playlists we've created, let's look at the qualities of each playlist.\n",
        "\n",
        "I want to create a bar chart that shows each cluster and the values of the different musical qualities within each of them. To do that, I need to transform my data into \"tidy\" data using `melt`."
      ]
    },
    {
      "cell_type": "code",
      "execution_count": null,
      "metadata": {
        "id": "33AdI6vtiP9x"
      },
      "outputs": [],
      "source": [
        "# First, transform the dataframe so that it is \"tidy\"\n",
        "melted_df = pd.melt(df, id_vars = ['cluster_1', 'cluster_2', 'id', 'name', 'artists'])"
      ]
    },
    {
      "cell_type": "code",
      "execution_count": null,
      "metadata": {
        "scrolled": true,
        "id": "JjX6h5j0iP9x",
        "outputId": "7b16ee4f-cd5a-48de-8b28-ae594dd587a0"
      },
      "outputs": [
        {
          "data": {
            "text/html": [
              "<div>\n",
              "<style scoped>\n",
              "    .dataframe tbody tr th:only-of-type {\n",
              "        vertical-align: middle;\n",
              "    }\n",
              "\n",
              "    .dataframe tbody tr th {\n",
              "        vertical-align: top;\n",
              "    }\n",
              "\n",
              "    .dataframe thead th {\n",
              "        text-align: right;\n",
              "    }\n",
              "</style>\n",
              "<table border=\"1\" class=\"dataframe\">\n",
              "  <thead>\n",
              "    <tr style=\"text-align: right;\">\n",
              "      <th></th>\n",
              "      <th>cluster_1</th>\n",
              "      <th>cluster_2</th>\n",
              "      <th>id</th>\n",
              "      <th>name</th>\n",
              "      <th>artists</th>\n",
              "      <th>variable</th>\n",
              "      <th>value</th>\n",
              "    </tr>\n",
              "  </thead>\n",
              "  <tbody>\n",
              "    <tr>\n",
              "      <td>0</td>\n",
              "      <td>2</td>\n",
              "      <td>1</td>\n",
              "      <td>6DCZcSspjsKoFjzjrWoCd</td>\n",
              "      <td>God's Plan</td>\n",
              "      <td>Drake</td>\n",
              "      <td>danceability</td>\n",
              "      <td>0.754</td>\n",
              "    </tr>\n",
              "    <tr>\n",
              "      <td>1</td>\n",
              "      <td>0</td>\n",
              "      <td>3</td>\n",
              "      <td>3ee8Jmje8o58CHK66QrVC</td>\n",
              "      <td>SAD!</td>\n",
              "      <td>XXXTENTACION</td>\n",
              "      <td>danceability</td>\n",
              "      <td>0.740</td>\n",
              "    </tr>\n",
              "    <tr>\n",
              "      <td>2</td>\n",
              "      <td>1</td>\n",
              "      <td>2</td>\n",
              "      <td>0e7ipj03S05BNilyu5bRz</td>\n",
              "      <td>rockstar (feat. 21 Savage)</td>\n",
              "      <td>Post Malone</td>\n",
              "      <td>danceability</td>\n",
              "      <td>0.587</td>\n",
              "    </tr>\n",
              "    <tr>\n",
              "      <td>3</td>\n",
              "      <td>7</td>\n",
              "      <td>3</td>\n",
              "      <td>3swc6WTsr7rl9DqQKQA55</td>\n",
              "      <td>Psycho (feat. Ty Dolla $ign)</td>\n",
              "      <td>Post Malone</td>\n",
              "      <td>danceability</td>\n",
              "      <td>0.739</td>\n",
              "    </tr>\n",
              "    <tr>\n",
              "      <td>4</td>\n",
              "      <td>2</td>\n",
              "      <td>1</td>\n",
              "      <td>2G7V7zsVDxg1yRsu7Ew9R</td>\n",
              "      <td>In My Feelings</td>\n",
              "      <td>Drake</td>\n",
              "      <td>danceability</td>\n",
              "      <td>0.835</td>\n",
              "    </tr>\n",
              "  </tbody>\n",
              "</table>\n",
              "</div>"
            ],
            "text/plain": [
              "   cluster_1  cluster_2                     id                          name  \\\n",
              "0          2          1  6DCZcSspjsKoFjzjrWoCd                    God's Plan   \n",
              "1          0          3  3ee8Jmje8o58CHK66QrVC                          SAD!   \n",
              "2          1          2  0e7ipj03S05BNilyu5bRz    rockstar (feat. 21 Savage)   \n",
              "3          7          3  3swc6WTsr7rl9DqQKQA55  Psycho (feat. Ty Dolla $ign)   \n",
              "4          2          1  2G7V7zsVDxg1yRsu7Ew9R                In My Feelings   \n",
              "\n",
              "        artists      variable  value  \n",
              "0         Drake  danceability  0.754  \n",
              "1  XXXTENTACION  danceability  0.740  \n",
              "2   Post Malone  danceability  0.587  \n",
              "3   Post Malone  danceability  0.739  \n",
              "4         Drake  danceability  0.835  "
            ]
          },
          "execution_count": 38,
          "metadata": {},
          "output_type": "execute_result"
        }
      ],
      "source": [
        "melted_df.head()"
      ]
    },
    {
      "cell_type": "code",
      "execution_count": null,
      "metadata": {
        "id": "zqurYHFwiP9x",
        "outputId": "6d30e464-0882-4106-956d-8e4f7a82b6cd"
      },
      "outputs": [
        {
          "data": {
            "text/html": [
              "<div>\n",
              "<style scoped>\n",
              "    .dataframe tbody tr th:only-of-type {\n",
              "        vertical-align: middle;\n",
              "    }\n",
              "\n",
              "    .dataframe tbody tr th {\n",
              "        vertical-align: top;\n",
              "    }\n",
              "\n",
              "    .dataframe thead th {\n",
              "        text-align: right;\n",
              "    }\n",
              "</style>\n",
              "<table border=\"1\" class=\"dataframe\">\n",
              "  <thead>\n",
              "    <tr style=\"text-align: right;\">\n",
              "      <th></th>\n",
              "      <th></th>\n",
              "      <th></th>\n",
              "      <th>name</th>\n",
              "      <th>artists</th>\n",
              "      <th>variable</th>\n",
              "      <th>value</th>\n",
              "    </tr>\n",
              "    <tr>\n",
              "      <th>id</th>\n",
              "      <th>cluster_1</th>\n",
              "      <th>cluster_2</th>\n",
              "      <th></th>\n",
              "      <th></th>\n",
              "      <th></th>\n",
              "      <th></th>\n",
              "    </tr>\n",
              "  </thead>\n",
              "  <tbody>\n",
              "    <tr>\n",
              "      <td>6DCZcSspjsKoFjzjrWoCd</td>\n",
              "      <td>2</td>\n",
              "      <td>1</td>\n",
              "      <td>God's Plan</td>\n",
              "      <td>Drake</td>\n",
              "      <td>danceability</td>\n",
              "      <td>0.754</td>\n",
              "    </tr>\n",
              "    <tr>\n",
              "      <td>3ee8Jmje8o58CHK66QrVC</td>\n",
              "      <td>0</td>\n",
              "      <td>3</td>\n",
              "      <td>SAD!</td>\n",
              "      <td>XXXTENTACION</td>\n",
              "      <td>danceability</td>\n",
              "      <td>0.740</td>\n",
              "    </tr>\n",
              "    <tr>\n",
              "      <td>0e7ipj03S05BNilyu5bRz</td>\n",
              "      <td>1</td>\n",
              "      <td>2</td>\n",
              "      <td>rockstar (feat. 21 Savage)</td>\n",
              "      <td>Post Malone</td>\n",
              "      <td>danceability</td>\n",
              "      <td>0.587</td>\n",
              "    </tr>\n",
              "    <tr>\n",
              "      <td>3swc6WTsr7rl9DqQKQA55</td>\n",
              "      <td>7</td>\n",
              "      <td>3</td>\n",
              "      <td>Psycho (feat. Ty Dolla $ign)</td>\n",
              "      <td>Post Malone</td>\n",
              "      <td>danceability</td>\n",
              "      <td>0.739</td>\n",
              "    </tr>\n",
              "    <tr>\n",
              "      <td>2G7V7zsVDxg1yRsu7Ew9R</td>\n",
              "      <td>2</td>\n",
              "      <td>1</td>\n",
              "      <td>In My Feelings</td>\n",
              "      <td>Drake</td>\n",
              "      <td>danceability</td>\n",
              "      <td>0.835</td>\n",
              "    </tr>\n",
              "  </tbody>\n",
              "</table>\n",
              "</div>"
            ],
            "text/plain": [
              "                                                                   name  \\\n",
              "id                    cluster_1 cluster_2                                 \n",
              "6DCZcSspjsKoFjzjrWoCd 2         1                            God's Plan   \n",
              "3ee8Jmje8o58CHK66QrVC 0         3                                  SAD!   \n",
              "0e7ipj03S05BNilyu5bRz 1         2            rockstar (feat. 21 Savage)   \n",
              "3swc6WTsr7rl9DqQKQA55 7         3          Psycho (feat. Ty Dolla $ign)   \n",
              "2G7V7zsVDxg1yRsu7Ew9R 2         1                        In My Feelings   \n",
              "\n",
              "                                                artists      variable  value  \n",
              "id                    cluster_1 cluster_2                                     \n",
              "6DCZcSspjsKoFjzjrWoCd 2         1                 Drake  danceability  0.754  \n",
              "3ee8Jmje8o58CHK66QrVC 0         3          XXXTENTACION  danceability  0.740  \n",
              "0e7ipj03S05BNilyu5bRz 1         2           Post Malone  danceability  0.587  \n",
              "3swc6WTsr7rl9DqQKQA55 7         3           Post Malone  danceability  0.739  \n",
              "2G7V7zsVDxg1yRsu7Ew9R 2         1                 Drake  danceability  0.835  "
            ]
          },
          "execution_count": 39,
          "metadata": {},
          "output_type": "execute_result"
        }
      ],
      "source": [
        "# Set the new df index\n",
        "melted_df.set_index(['id', 'cluster_1', 'cluster_2']).head()"
      ]
    },
    {
      "cell_type": "code",
      "execution_count": null,
      "metadata": {
        "id": "CiI6WbqxiP9x",
        "outputId": "e99bc7b4-f328-4ac0-e973-2c72af9c855e"
      },
      "outputs": [
        {
          "data": {
            "image/png": "[encoded data removed]",
            "text/plain": [
              "<Figure size 954.9x595.44 with 1 Axes>"
            ]
          },
          "metadata": {},
          "output_type": "display_data"
        }
      ],
      "source": [
        "# Plot the chosen values of clusters so we can compare their qualities\n",
        "g = sns.catplot(x=\"cluster_1\",\n",
        "                y=\"value\",\n",
        "                hue=\"variable\",\n",
        "                data=melted_df[(melted_df['variable'] == 'danceability') |\n",
        "                              (melted_df['variable'] == 'energy') |\n",
        "                              (melted_df['variable'] == 'speechiness') |\n",
        "                              (melted_df['variable'] == 'acousticness') |\n",
        "                              (melted_df['variable'] == 'instrumentalness') |\n",
        "                              (melted_df['variable'] == 'liveness') |\n",
        "                              (melted_df['variable'] == 'valence') ],\n",
        "                kind=\"bar\", height=8.27, aspect=11.7/8.27)"
      ]
    },
    {
      "cell_type": "markdown",
      "metadata": {
        "id": "E0aUL3jniP9y"
      },
      "source": [
        "From this graphic, we've got quite a lot of clusters, and it's hard to interpret. This is the case even after we've removed some variables. Let's look second clustering trial to see if it is more interpretable."
      ]
    },
    {
      "cell_type": "code",
      "execution_count": null,
      "metadata": {
        "id": "oY2apNaZiP9y",
        "outputId": "9cc890b7-fba0-4849-bc0a-5cf657670b5f"
      },
      "outputs": [
        {
          "data": {
            "image/png": "[encoded data removed]",
            "text/plain": [
              "<Figure size 954.9x595.44 with 1 Axes>"
            ]
          },
          "metadata": {},
          "output_type": "display_data"
        }
      ],
      "source": [
        "g = sns.catplot(x=\"cluster_2\",\n",
        "                y=\"value\",\n",
        "                hue=\"variable\",\n",
        "                data=melted_df[(melted_df['variable'] == 'danceability') |\n",
        "                              (melted_df['variable'] == 'energy') |\n",
        "                              (melted_df['variable'] == 'speechiness') |\n",
        "                              (melted_df['variable'] == 'acousticness') |\n",
        "                              (melted_df['variable'] == 'instrumentalness') |\n",
        "                              (melted_df['variable'] == 'liveness') |\n",
        "                              (melted_df['variable'] == 'valence') ],\n",
        "                kind=\"bar\", height=8.27, aspect=11.7/8.27)"
      ]
    },
    {
      "cell_type": "markdown",
      "metadata": {
        "id": "imFBkOlWiP9y"
      },
      "source": [
        "This is much easier to read. From this graphic, we can see that most of our clusters have songs with high danceability, energy and valence. However, cluster 0 seems to stand out for it's \"speechiness\", while cluster 1 also stands out for its liveness. Cluster 2 seems to have slightly more acousticness than the other groups, and cluster 3 seems very similar to cluster 0 except with less speechiness.\n",
        "\n",
        "This is preliminary analysis. We could go back and tweak over and over until we are able to find super disinct clusters. For now, let's opt to choose Trial 2 as our solution and recommendation for the business."
      ]
    },
    {
      "cell_type": "markdown",
      "metadata": {
        "id": "DeVJEDRZiP9y"
      },
      "source": [
        "## Conclusion"
      ]
    },
    {
      "cell_type": "markdown",
      "metadata": {
        "id": "RKqtXllGiP9z"
      },
      "source": [
        "<div class=\"alert alert-warning\">\n",
        "<p>In this section, come back to your initial brief and write up your findings and recommendations for Spotify. Be sure to explain your analysis in detail and provide some examples of your work. You can also use this to describe your final clusters in a bit more detail.</p>\n",
        "    \n",
        "<p>Some things to consider:</p>\n",
        "    <ul>\n",
        "        <li>This section is often the most useful for non-data stakeholder. Be sure to use clear language and make it only as technical as required.</li>\n",
        "        <li>Try giving a name to your clusters based on the features each of them possess.</li>\n",
        "        <li>Think about the strengths and weaknesses of your analysis and share them.</li>\n",
        "        <li>Give an indication of how you might further the analysis you've done here.</li>\n",
        "    </ul>\n",
        "</div>"
      ]
    },
    {
      "cell_type": "markdown",
      "metadata": {
        "id": "3e7-38h6iP9z"
      },
      "source": [
        "From our basic analysis above, we found a couple of things.\n",
        "\n",
        "- Using fewer variables in our analysis allows us to identify more distinct clusters\n",
        "- Even when we've reduced the number of variables of interest, the clusters still have quite a lot of overlap\n",
        "- Some variables are repetitive (like loudness and energy) and our dataset is also skewed towards certain characterstics (like like acousticness)"
      ]
    },
    {
      "cell_type": "markdown",
      "metadata": {
        "id": "mxEbLQe5iP9z"
      },
      "source": [
        "The recommendation we'd make to the business is to use our second trial algorithm to create these curated playlists.\n",
        "\n",
        "From this dataset, those playlists would be:\n",
        "\n",
        "| Speechy pop (Cluster 0) | Live pop (Cluster 1) | Acoustic pop (Cluster 2) | Dance pop (Cluster 3) |\n",
        "| --- | --- | --- | --- |\n",
        "| Look Alive (feat. Drake)\tby BlocBoy JB | God's Plan by Drake | rockstar (feat. 21 Savage) by Post Malone | SAD! by XXXTENTACION |\n",
        "| Te Bot? - Remix\tby Nio Garcia | In My Feelings by Drake | Better Now by Post Malone | Psycho (feat. Ty Dolla $ign) by Post Malone|\n",
        "| Youngblood\t5 by Seconds of Summer | I Like It by Cardi B | FRIENDS by Marshmello | One Kiss (with Dua Lipa) by Calvin Harris |\n",
        "| Jocelyn Flores\tby XXXTENTACION | Lucid Dreams by Juice WRLD | Nice for What by Drake | IDGAF by Dua Lipa |\n",
        "| Eastside (with Halsey & Khalid)\tby benny blanco | no tears left to cry by Ariana Grande | These Days by Rudimental | Havana\tCamila Cabello |\n",
        "| River (feat. Ed Sheeran) by Eminem | X by Nicky Jam | Meant to be (feat. Florida Georgia Line) by Bebe Rexha | Girls Like You (feat. Cardi B)\tby Maroon 5 |\n",
        "| SICKO MODE\tby Travis Scott | Mine by Bazzi | Perfect by Ed Sheeran | The Middle by Zedd |\n",
        "| Ric Flair Drip (& Metro Boomin)\tby Offset | Solo (feat. Demi Lovato) by Clean Bandit | I Fall Apart by Post Malone | All The Stars (with SZA) by Kendrick Lamar |\n",
        "| Freaky Friday (feat. Chris Brown) by Lil Dicky | Nevermind by Dennis Lloyd | Never Be the Same by Camila Cabello | Moonlight by XXXTENTACION |\n",
        "| FEFE (feat. Nicki Minaj & Murda Beatz) by 6ix9ine | Dura by Daddy Yankee | changes by XXXTENTACION | New Rules by Dua Lipa |\n",
        "| XO TOUR Llif3 by Lil Uzi Vert | Me Niego by Reik | Thunder by Imagine Dragons | Shape of You by Ed Sheeran |\n",
        "| Taki Taki (with Selena Gomez, Ozuna & Cardi B) by DJ Snake | Call Out My Name by The Weeknd | Back to You by Selena Gomez | Love Lies (with Normani) by Khalid |\n",
        "| Walk It Talk It by Migos | Him & I (with Halsey) by G-Eazy | Let You Down by NF | Taste (feat. Offset) by Tyga | Echame La Culpa by Luis Fonsi |\n",
        "| Stir Fry by Migos | Promises (with Sam Smith) by Calvin Harris | Happier by Marshmello | Wolves by Selena Gomez |\n",
        "| 8Coraz?n (feat. Nego do Borel) by Maluma | | Too Good At Goodbyes by Sam Smith | In My Mind by Dynoro |\n",
        "| Yes Indeed by Lil Baby | | Rise by Jonas Blue | Jackie Chan by Tiesto |\n",
        "| I Like Me Better by Lauv | | In My Blood by Shawn Mendes | Finesse (Remix) [feat. Cardi B] by Bruno Mars |\n",
        "| No Brainer by DJ Khaled| | Silence by Marshmello | Believer by Imagine Dragons |\n",
        "| | | God is a woman by Ariana Grande | Body (feat. brando) by Loud Luxury |\n",
        "| | | Flames by David Guetta | Sin Pijama by Becky G |\n",
        "| | | Let Me Go by Hailee Steinfield | 2002 by Anne-Marie |\n",
        "| | | Congratulations by Post Malone | Nonstop by Drake |\n",
        "| | | lovely (with Khalid) by Billie Eilish | Fuck Love (feat. Trippie Redd) by XXXTENTACION |\n",
        "| | | Perfect Duet (Ed Sheeran & Beyonce) by Ed Sheeran | Dejala que vuelva (feat. Manuel Turizo) by Piso 21 |\n",
        "| | | This Is Me by Keala Settle | What Lovers Do by Maroon 5 |\n",
        "| | | Rewrite The Stars\tby Zac Efron | Feel It Still by Portugal. The Man |\n",
        "| | | I Miss You (feat. Julia Michaels)\tby Clean Bandit | Pray For Me (with Kendrick Lamar) by The Weeknd |\n",
        "| | | Dusk Till Dawn - Radio Edit by ZAYN | Candy Paint by Post Malone |\n",
        "| | | Be Alright by Dean Lewis | 1, 2, 3 (feat. Jason Derulo & De La Ghetto) by Sofia Reyes |\n",
        "| | | (feat. Jason Derulo & De La Ghetto) by Sofia Reyes |\n",
        "| | | Criminal by Natti Natasha |\n",
        "| | | Plug Walk by Rich The Kid |\n",
        "| | | HUMBLE. by Kendrick Lamar\n",
        "| | | Vaina Loca by Ozuna |\n",
        "| | | Young Dumb & Broke by Khalid |\n",
        "| | | Siguelo Bailando by Ozuna |\n",
        "| | | Downtown by Anitta |\n",
        "| | | Bella by Wolfine |\n",
        "| | | Everybody Dies In Their Nightmares by XXXTENTACION |"
      ]
    },
    {
      "cell_type": "markdown",
      "metadata": {
        "id": "_94fwSr_iP9z"
      },
      "source": [
        "Going forward, it would be useful to tweak our parameters much more; we could combine them, drop some, remove ones that aren't good distinguishers between clusters, or perhaps even add some from other datasets (genre perhaps?)."
      ]
    },
    {
      "cell_type": "markdown",
      "metadata": {
        "id": "nnO_bhbliP9z"
      },
      "source": [
        "It would also be good to try some other clutsering algorithms like DBSCAN and compare the results."
      ]
    },
    {
      "cell_type": "markdown",
      "metadata": {
        "id": "ha75CZhCiP9z"
      },
      "source": [
        "Finally, a much larger dataset would allow more meaningful clusters to be developed. This is very much just a proof-of-concept."
      ]
    },
    {
      "cell_type": "markdown",
      "metadata": {
        "id": "Mz1Byf_IiP9z"
      },
      "source": [
        "<div class=\"alert alert-success\">\n",
        "    <strong>Question 1</strong>\n",
        "    <p>Provide a bar chart that shows the number of songs per cluster.</p>\n",
        "</div>"
      ]
    },
    {
      "cell_type": "code",
      "execution_count": null,
      "metadata": {
        "id": "eUvaOh2ViP9z",
        "outputId": "39d3f710-07c7-4723-8811-b1687ecc6153"
      },
      "outputs": [
        {
          "data": {
            "text/plain": [
              "<matplotlib.axes._subplots.AxesSubplot at 0x2379414cb88>"
            ]
          },
          "execution_count": 42,
          "metadata": {},
          "output_type": "execute_result"
        },
        {
          "data": {
            "image/png": "[encoded data removed]",
            "text/plain": [
              "<Figure size 432x288 with 1 Axes>"
            ]
          },
          "metadata": {},
          "output_type": "display_data"
        }
      ],
      "source": [
        "sns.countplot(x=\"cluster_2\", data=df)"
      ]
    },
    {
      "cell_type": "markdown",
      "metadata": {
        "id": "oqY2tXdniP90"
      },
      "source": [
        "<div class=\"alert alert-success\">\n",
        "    <strong>Question 2</strong>\n",
        "    <p>Provide a visualisation or visualisations that show the average value for each feature in each cluster.</p>\n",
        "</div>"
      ]
    },
    {
      "cell_type": "code",
      "execution_count": null,
      "metadata": {
        "scrolled": false,
        "id": "wBXVJO7riP90",
        "outputId": "baec1908-5891-4dce-9fe5-6f258e8aa6e6"
      },
      "outputs": [
        {
          "data": {
            "text/plain": [
              "<matplotlib.axes._subplots.AxesSubplot at 0x237943432c8>"
            ]
          },
          "execution_count": 43,
          "metadata": {},
          "output_type": "execute_result"
        },
        {
          "data": {
            "image/png": "[encoded data removed]",
            "text/plain": [
              "<Figure size 432x288 with 1 Axes>"
            ]
          },
          "metadata": {},
          "output_type": "display_data"
        }
      ],
      "source": [
        "sns.barplot(x='cluster_2', y='danceability', data=df)"
      ]
    },
    {
      "cell_type": "code",
      "execution_count": null,
      "metadata": {
        "id": "h1MxiaQziP90",
        "outputId": "c1ce5284-5e25-4699-fac1-3627477f1ce2"
      },
      "outputs": [
        {
          "data": {
            "text/plain": [
              "<matplotlib.axes._subplots.AxesSubplot at 0x237940d41c8>"
            ]
          },
          "execution_count": 44,
          "metadata": {},
          "output_type": "execute_result"
        },
        {
          "data": {
            "image/png": "[encoded data removed]",
            "text/plain": [
              "<Figure size 432x288 with 1 Axes>"
            ]
          },
          "metadata": {},
          "output_type": "display_data"
        }
      ],
      "source": [
        "sns.barplot(x='cluster_2', y='acousticness', data=df)"
      ]
    },
    {
      "cell_type": "markdown",
      "metadata": {
        "id": "LEkj5DP7iP90"
      },
      "source": [
        "And so on"
      ]
    },
    {
      "cell_type": "markdown",
      "metadata": {
        "id": "F8sS3HbOiP90"
      },
      "source": [
        "<div class=\"alert alert-success\">\n",
        "    <strong>Question 3</strong>\n",
        "    <p>What are the playlists your algorithm would recommend for this dataset?</p>\n",
        "</div>"
      ]
    },
    {
      "cell_type": "markdown",
      "metadata": {
        "id": "XDJ9q-UjiP90"
      },
      "source": [
        "See above"
      ]
    },
    {
      "cell_type": "markdown",
      "metadata": {
        "id": "PZGx4m2hiP90"
      },
      "source": [
        "# Optional material\n",
        "\n",
        "**This challenge involves making a call to a live API. It is common for firewalls to block calls to APIs/URLs directly from Python code so you may find you are restricted from completing this challenge within your work network.**"
      ]
    },
    {
      "cell_type": "markdown",
      "metadata": {
        "id": "h8uiMgtfiP91"
      },
      "source": [
        "Above, we provided you with a dataset of Spotify's Top 100 songs that is [available publicly on Kaggle](https://www.kaggle.com/nadintamer/top-spotify-tracks-of-2018).\n",
        "\n",
        "You can also try pulling your own data from Spotify instead of using this public dataset.\n",
        "\n",
        "Spotify make some of their internal data accessible to the public via [their API service](https://developer.spotify.com/documentation/web-api/), and there's a great Python library called [Spotipy](https://spotipy.readthedocs.io/en/latest/) that allows you to interact with this API using Python.\n",
        "\n",
        "In order to pull any data from Spotify's servers using Spotipy, you will need to:\n",
        "\n",
        "1. [Register](https://www.spotify.com/uk/signup/) for a Spotify account (or use an existing one)\n",
        "2. Visit the [Spotify developer area](https://developer.spotify.com/dashboard/applications)\n",
        "2. [register \"an application\"](https://developer.spotify.com/documentation/general/guides/app-settings/#register-your-app)\n",
        "3. Note down your **Client ID** and **Client Secret**.\n",
        "4. Edit the settings of your application to add a **Redirect URI**; this is a web address that Spotify will use to confirm your credentials. You can probably set this to \"http://localhost:3000\", but you may need to use a different address if you system has specific permissions/protections set up.\n",
        "\n",
        "Your **client ID** and **Client Secret** are your credentials for accessing Spotify using code. Spotify uses them to track every time you request data, and to make sure that you only gain access to information you have a right to.\n",
        "\n",
        "**You should treat the details as securely as you would treat any other account information. Don't share your details with anyone.**\n",
        "\n",
        "Once you have those details, you can \"log in\" to Spotify with Spotipy using one of the two authorisation flows below (found in the [Spotipy documentation](https://spotipy.readthedocs.io/en/latest/)):"
      ]
    },
    {
      "cell_type": "markdown",
      "metadata": {
        "id": "HNPKXr-CiP91"
      },
      "source": [
        "### Authentication set-up\n",
        "\n",
        "Create the following three variables, and set them to the *exact same* values as those on Spotify."
      ]
    },
    {
      "cell_type": "code",
      "execution_count": null,
      "metadata": {
        "id": "LvZvIRBiiP91",
        "outputId": "c3e4530f-14ac-4b3f-8f4a-2ca1393dfac8"
      },
      "outputs": [
        {
          "ename": "ModuleNotFoundError",
          "evalue": "No module named 'spotipy'",
          "output_type": "error",
          "traceback": [
            "\u001b[1;31m---------------------------------------------------------------------------\u001b[0m",
            "\u001b[1;31mModuleNotFoundError\u001b[0m                       Traceback (most recent call last)",
            "\u001b[1;32m<ipython-input-46-7071a331b019>\u001b[0m in \u001b[0;36m<module>\u001b[1;34m\u001b[0m\n\u001b[0;32m      1\u001b[0m \u001b[1;31m# Import the spotipy library\u001b[0m\u001b[1;33m\u001b[0m\u001b[1;33m\u001b[0m\u001b[1;33m\u001b[0m\u001b[0m\n\u001b[0;32m      2\u001b[0m \u001b[1;33m\u001b[0m\u001b[0m\n\u001b[1;32m----> 3\u001b[1;33m \u001b[1;32mimport\u001b[0m \u001b[0mspotipy\u001b[0m\u001b[1;33m\u001b[0m\u001b[1;33m\u001b[0m\u001b[0m\n\u001b[0m\u001b[0;32m      4\u001b[0m \u001b[1;33m\u001b[0m\u001b[0m\n\u001b[0;32m      5\u001b[0m \u001b[1;31m# Authentication for general data\u001b[0m\u001b[1;33m\u001b[0m\u001b[1;33m\u001b[0m\u001b[1;33m\u001b[0m\u001b[0m\n",
            "\u001b[1;31mModuleNotFoundError\u001b[0m: No module named 'spotipy'"
          ]
        }
      ],
      "source": [
        "# Import the spotipy library\n",
        "\n",
        "import spotipy\n",
        "\n",
        "# Authentication for general data\n",
        "\n",
        "from spotipy.oauth2 import SpotifyClientCredentials\n",
        "\n",
        "# Authentication for user-specific data\n",
        "\n",
        "import spotipy.util as util\n",
        "\n",
        "client_id = \"XXXXXXXXXX\"\n",
        "client_secret = \"XXXXXXXXXX\"\n",
        "redirect_uri = \"XXXXXXXXXX\""
      ]
    },
    {
      "cell_type": "markdown",
      "metadata": {
        "id": "ot7wQa-yiP91"
      },
      "source": [
        "### If you don't need a specific user's data\n",
        "\n",
        "#### Use the Client Credentials Flow\n",
        "This will give you access to general Spotify data that isn't tied to any one user."
      ]
    },
    {
      "cell_type": "code",
      "execution_count": null,
      "metadata": {
        "id": "PeM-fmcYiP91"
      },
      "outputs": [],
      "source": [
        "# Run the following code to log in\n",
        "client_credentials_manager = SpotifyClientCredentials(client_id, client_secret)\n",
        "sp = spotipy.Spotify(client_credentials_manager=client_credentials_manager)"
      ]
    },
    {
      "cell_type": "markdown",
      "metadata": {
        "id": "XpjWMCnxiP91"
      },
      "source": [
        "Once you've logged in, you can call methods on `sp` to get data. Look through the examples and documentation on [Spotipy's website](https://spotipy.readthedocs.io/)."
      ]
    },
    {
      "cell_type": "code",
      "execution_count": null,
      "metadata": {
        "id": "QmYXGbt0iP91"
      },
      "outputs": [],
      "source": [
        "# For example, get Spotify data about Beyonce\n",
        "results = sp.search(q='artist:' + 'XXXXXXXX', type='artist')"
      ]
    },
    {
      "cell_type": "markdown",
      "metadata": {
        "id": "BXMVDAHfiP92"
      },
      "source": [
        "### If you do need a specific user's data"
      ]
    },
    {
      "cell_type": "markdown",
      "metadata": {
        "id": "kXZUoPYZiP92"
      },
      "source": [
        "#### Use the Authorization Code Flow\n",
        "This will allow a user to log into Spotify and give your code access to their own Spotify data (like what their top tracks are)."
      ]
    },
    {
      "cell_type": "code",
      "execution_count": null,
      "metadata": {
        "id": "JPXpSUPHiP92"
      },
      "outputs": [],
      "source": [
        "# The account username\n",
        "\n",
        "username = \"XXXXXXXXXX\"\n",
        "\n",
        "# Give a comma-separated list of the scopes of data you'd like access to - what permissions do you need?\n",
        "scope = \"user-top-read, user-read-recently-played, user-read-currently-playing\"\n",
        "\n",
        "# Input your variables above and get a token from Spotify to log in\n",
        "token = util.prompt_for_user_token(username,scope,\n",
        "                                   client_id=client_id,\n",
        "                                   client_secret=client_secret,\n",
        "                                   redirect_uri=redirect_uri)\n",
        "\n",
        "# Actually log in with that token\n",
        "if token:\n",
        "    sp = spotipy.Spotify(auth=token)\n",
        "else:\n",
        "    print(\"Can't get token for\", username)"
      ]
    },
    {
      "cell_type": "markdown",
      "metadata": {
        "id": "yKyyRAigiP92"
      },
      "source": [
        "Spotify provides lots of different scope options; you can find a full list [here](https://developer.spotify.com/documentation/general/guides/scopes/).\n",
        "\n",
        "Once you've run the flow above, you can access information such as the track the user is currently playing:"
      ]
    },
    {
      "cell_type": "code",
      "execution_count": null,
      "metadata": {
        "id": "DS1_YiZaiP92"
      },
      "outputs": [],
      "source": [
        "# Get the currently-playing song for the authenticated user\n",
        "\n",
        "current_track = sp.current_user_playing_track()\n",
        "\n",
        "if current_track:\n",
        "    print(current_track[\"item\"][\"name\"])\n",
        "else:\n",
        "    print(\"No track playing.\")"
      ]
    },
    {
      "cell_type": "markdown",
      "metadata": {
        "id": "J2ZQBlPqiP92"
      },
      "source": [
        "Or the user's recent plays:"
      ]
    },
    {
      "cell_type": "code",
      "execution_count": null,
      "metadata": {
        "id": "ch1Y0WJhiP92"
      },
      "outputs": [],
      "source": [
        "# Get the user's recently-played tracks\n",
        "\n",
        "recents = sp.current_user_recently_played()\n",
        "\n",
        "for recent_play in recents[\"items\"]:\n",
        "    track = recent_play[\"track\"][\"name\"]\n",
        "    artist = recent_play[\"track\"][\"album\"][\"artists\"][0][\"name\"]\n",
        "    print(track, \"-\", artist)"
      ]
    },
    {
      "cell_type": "markdown",
      "metadata": {
        "id": "Ncawog7viP92"
      },
      "source": [
        "Because Spotify returns quite complex objects, with a lot of information in them, you may need to do quite a lot of burrowing into the tracks to get the information you want. The code above shows how to extract the track name and artist, but other information can be pulled out in the same way."
      ]
    },
    {
      "cell_type": "markdown",
      "metadata": {
        "id": "U10x4LS7iP92"
      },
      "source": [
        "Finally, you can start converting this raw data into a pandas dataframe."
      ]
    },
    {
      "cell_type": "code",
      "execution_count": null,
      "metadata": {
        "scrolled": true,
        "id": "Uqv6ZR6XiP93"
      },
      "outputs": [],
      "source": [
        "# Create a holder for the data\n",
        "\n",
        "data_holder = []\n",
        "\n",
        "# Extract the data you want for each track\n",
        "\n",
        "for recent_play in recents[\"items\"]:\n",
        "    track = recent_play[\"track\"][\"name\"]\n",
        "    artist = recent_play[\"track\"][\"album\"][\"artists\"][0][\"name\"]\n",
        "    played = recent_play[\"played_at\"]\n",
        "    data_holder.append([track, artist, played])"
      ]
    },
    {
      "cell_type": "code",
      "execution_count": null,
      "metadata": {
        "id": "1lan6eTciP93"
      },
      "outputs": [],
      "source": [
        "# Create the dataframe\n",
        "\n",
        "recent_df = pd.DataFrame(columns=[\"track\", \"artist\", \"played_at\"],\n",
        "                         data=data_holder)"
      ]
    },
    {
      "cell_type": "code",
      "execution_count": null,
      "metadata": {
        "id": "okVbLxoNiP93"
      },
      "outputs": [],
      "source": [
        "# View the dataframe\n",
        "\n",
        "recent_df.head()"
      ]
    },
    {
      "cell_type": "markdown",
      "metadata": {
        "id": "tIRdmMbsiP93"
      },
      "source": [
        "Once you are comfortable with the Spotify API, you can pull any data you want (assuming it's available). With that data, you can perform clustering, or any other form of analysis you wish."
      ]
    }
  ],
  "metadata": {
    "kernelspec": {
      "display_name": "Python 3",
      "language": "python",
      "name": "python3"
    },
    "language_info": {
      "codemirror_mode": {
        "name": "ipython",
        "version": 3
      },
      "file_extension": ".py",
      "mimetype": "text/x-python",
      "name": "python",
      "nbconvert_exporter": "python",
      "pygments_lexer": "ipython3",
      "version": "3.7.4"
    },
    "colab": {
      "provenance": [],
      "include_colab_link": true
    }
  },
  "nbformat": 4,
  "nbformat_minor": 0
}